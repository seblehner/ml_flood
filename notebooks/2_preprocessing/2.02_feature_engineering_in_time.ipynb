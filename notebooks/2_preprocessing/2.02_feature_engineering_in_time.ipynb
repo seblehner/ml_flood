{
 "cells": [
  {
   "cell_type": "markdown",
   "metadata": {},
   "source": [
    "# 2. Preprocessing\n",
    "## 2.02 Feature engineering in time\n",
    "\n",
    "The goal of this notebook is to include all relevant *time dependent* information in the predictors. This is utmost importance since otherwise the model is not able to learn the time dependent information in the Dense neural net/multi-layer perceptron architecture of the neural net. Also the Recurrent neural net/LSTM architecture needs the time information but not in the form of additional variables, but a reshaped original array. \n",
    "\n",
    "Goal: Add previous and future days precipitation\n",
    "to have the appropriate features for \n",
    "- the Time-delay neural network, or\n",
    "- the LSTM neural net.\n",
    "\n",
    "\n",
    "### Workflow outline\n",
    "1. Load data\n",
    "2. Selecting the predictand gridpoint\n",
    "3. **Prepare time delay features**\n",
    "\n",
    "\n"
   ]
  },
  {
   "cell_type": "code",
   "execution_count": 1,
   "metadata": {},
   "outputs": [],
   "source": [
    "import numpy as np\n",
    "import datetime as dt\n",
    "import pandas as pd\n",
    "import matplotlib as mpl\n",
    "import matplotlib.pyplot as plt\n",
    "import seaborn as sns\n",
    "import xarray as xr"
   ]
  },
  {
   "cell_type": "markdown",
   "metadata": {},
   "source": [
    "## 1. Loading the data\n",
    "Sample dataset contained in the git repository.\n",
    "\n",
    "As you are reading these lines, you opened the notebook in the `./docs/` folder of the main repository directory. To access the sample dataset that was delivered to you with the code, step outside the current directory (`../`) and enter the `data/` folder. The names of the sample datasets are `smallsampledata-era5.nc` and `smallsampledata-glofas.nc`, both in netCDF format, a user-friendly format that keeps the file size low and stores meta-data within the file.\n",
    "\n",
    "We use `xarray` to access the files, as it provides us with a very powerful interface to work with the data. Let's open the files and see what's in there:"
   ]
  },
  {
   "cell_type": "code",
   "execution_count": 2,
   "metadata": {},
   "outputs": [],
   "source": [
    "era5 = xr.open_dataset('../../data/smallsampledata-era5.nc')"
   ]
  },
  {
   "cell_type": "code",
   "execution_count": 3,
   "metadata": {},
   "outputs": [],
   "source": [
    "glofas = xr.open_dataset('../../data/smallsampledata-glofas.nc')"
   ]
  },
  {
   "cell_type": "markdown",
   "metadata": {},
   "source": [
    "Its datatype is `xarray.Dataset`, containing a spatio-temporal subset of 5 variables that we selected from the original ERA5 dataset. It also contains one derived variable (`rtp_500-850`) that is used in Meteorology quite a bit because it is proportional to mass-weighted mean temperature of the air, in this case between 850 and 500 hPa. It could be an additional predictor to classify the weather regime."
   ]
  },
  {
   "cell_type": "code",
   "execution_count": 4,
   "metadata": {},
   "outputs": [
    {
     "data": {
      "text/plain": [
       "<xarray.Dataset>\n",
       "Dimensions:      (latitude: 13, longitude: 25, time: 5478)\n",
       "Coordinates:\n",
       "  * time         (time) datetime64[ns] 1981-01-01 1981-01-02 ... 1995-12-31\n",
       "  * longitude    (longitude) float32 8.0 8.25 8.5 8.75 ... 13.25 13.5 13.75 14.0\n",
       "  * latitude     (latitude) float32 50.0 49.75 49.5 49.25 ... 47.5 47.25 47.0\n",
       "Data variables:\n",
       "    cp           (time, latitude, longitude) float32 ...\n",
       "    lsp          (time, latitude, longitude) float32 ...\n",
       "    swvl1        (time, latitude, longitude) float32 ...\n",
       "    tcwv         (time, latitude, longitude) float32 ...\n",
       "    ro           (time, latitude, longitude) float32 ...\n",
       "    rtp_500-850  (time, latitude, longitude) float32 ..."
      ]
     },
     "execution_count": 4,
     "metadata": {},
     "output_type": "execute_result"
    }
   ],
   "source": [
    "era5"
   ]
  },
  {
   "cell_type": "markdown",
   "metadata": {},
   "source": [
    "To access a variable's description, select one like this:"
   ]
  },
  {
   "cell_type": "code",
   "execution_count": 5,
   "metadata": {},
   "outputs": [
    {
     "data": {
      "text/plain": [
       "<xarray.DataArray 'cp' (time: 5478, latitude: 13, longitude: 25)>\n",
       "[1780350 values with dtype=float32]\n",
       "Coordinates:\n",
       "  * time       (time) datetime64[ns] 1981-01-01 1981-01-02 ... 1995-12-31\n",
       "  * longitude  (longitude) float32 8.0 8.25 8.5 8.75 ... 13.25 13.5 13.75 14.0\n",
       "  * latitude   (latitude) float32 50.0 49.75 49.5 49.25 ... 47.5 47.25 47.0\n",
       "Attributes:\n",
       "    standard_name:  lwe_thickness_of_convective_precipitation_amount\n",
       "    long_name:      Convective precipitation\n",
       "    units:          m"
      ]
     },
     "execution_count": 5,
     "metadata": {},
     "output_type": "execute_result"
    }
   ],
   "source": [
    "era5['cp']"
   ]
  },
  {
   "cell_type": "markdown",
   "metadata": {},
   "source": [
    "### 1.a) Selecting useful predictor variables\n",
    "The variable selection has already been done by us when preparing the small sample datasets for you, so you can use them straight away. What is still necessary is clustering and reshaping the input data dimension, because the dimensionality of the raw input data would be too high: \n",
    "\n",
    "To give a rough estimate, imagine using all GloFAS and ERA5 gridpoints of the upstream area of one point. For 1.5x1.5  degree (lat,lon), ERA5 provides 6 x 6 and GloFAS 15 x 15 gridpoints. To take the time dimension into account we'd need, say, 10 days of discharge and 180 days of precipitation. \n",
    "\n",
    "Summing up, this makes the raw input dimensionality 15 x 15 x 10 and 6 x 6 x 180, in total ~8700 features, where most of the predictors won't vary that much from one gridpoint to another in the upstream area (large scale temperature, total-column water vapor).\n",
    "\n",
    "To continue, we need to \n",
    "  1. spatially aggregate and \n",
    "  2. temporally aggregate the data (i.e., reduce dimensionality). \n",
    "  \n",
    "Both will be done in sections below, but first we need to define which point we will be making forecasts for.\n",
    "\n",
    "## 2. Selecting the predictand\n",
    "This point is noted here for completeness. Basically you will need to know for which gridpoint you plan to do predictions before preparing the predictors/features.\n",
    "\n",
    "The target variable shall be the discharge at the point where the Danube river leaves the data domain. This is given by the point within the catchment where the discharge is the highest, so we first filter by the catchment basin shapefile (Worldbank dataset \"Global River Basins\") and then look for the maximum discharge. It is at `latitude=48.35, longitude=13.95`.\n",
    "\n",
    "To select the basin from the shapefile, we use a function defined in `./aux/utils.py`. The interested user may have a look there how it is done, but it would obstruct the clarity in this notebook. To import the function it needs to be present in the current processes path. We do that by adding the parent/main directory to `sys.path`. In this way we can import some function in `./aux/utils_floodmodel.py` by `from aux.utils_floodmodel import somefunction`."
   ]
  },
  {
   "cell_type": "code",
   "execution_count": 6,
   "metadata": {},
   "outputs": [],
   "source": [
    "import sys\n",
    "sys.path.append(\"../../\")\n",
    "from python.aux.utils_floodmodel import get_mask_of_basin"
   ]
  },
  {
   "cell_type": "code",
   "execution_count": 7,
   "metadata": {},
   "outputs": [],
   "source": [
    "danube_catchment = get_mask_of_basin(glofas['dis'].isel(time=0))\n",
    "dis = glofas['dis'].where(danube_catchment)"
   ]
  },
  {
   "cell_type": "markdown",
   "metadata": {},
   "source": [
    "Now we look up the coordinates of the maximum discharge point. We see that the point of interest is at 48.35 degree latitude and 13.95 degree longitude."
   ]
  },
  {
   "cell_type": "code",
   "execution_count": 8,
   "metadata": {},
   "outputs": [
    {
     "data": {
      "text/plain": [
       "(48.35, 13.950000000000017)"
      ]
     },
     "execution_count": 8,
     "metadata": {},
     "output_type": "execute_result"
    }
   ],
   "source": [
    "maximum = dis.where(dis==dis.max(), drop=True)\n",
    "lat, lon = float(maximum.latitude), float(maximum.longitude)\n",
    "lat, lon"
   ]
  },
  {
   "cell_type": "code",
   "execution_count": 9,
   "metadata": {},
   "outputs": [
    {
     "name": "stderr",
     "output_type": "stream",
     "text": [
      "/home/srvx11/lehre/users/a1254888/.conda/envs/ml_flood/lib/python3.7/site-packages/xarray/core/nanops.py:160: RuntimeWarning: Mean of empty slice\n",
      "  return np.nanmean(a, axis=axis, dtype=dtype)\n"
     ]
    },
    {
     "data": {
      "text/plain": [
       "[<matplotlib.lines.Line2D at 0x7f03c0097d30>]"
      ]
     },
     "execution_count": 9,
     "metadata": {},
     "output_type": "execute_result"
    },
    {
     "data": {
      "image/png": "[encoded data removed]",
      "text/plain": [
       "<Figure size 432x288 with 2 Axes>"
      ]
     },
     "metadata": {
      "needs_background": "light"
     },
     "output_type": "display_data"
    }
   ],
   "source": [
    "poi = dict(latitude=48.35, longitude=13.95)\n",
    "dis_mean = dis.mean('time')\n",
    "dis_mean.plot()\n",
    "plt.gca().plot(lon, lat, color='cyan', marker='o', \n",
    "               markersize=20, mew=4, markerfacecolor='none')"
   ]
  },
  {
   "cell_type": "markdown",
   "metadata": {},
   "source": [
    "## 3. Time aggregated predictors\n",
    "\n",
    "### 3.a) For the time-delay neural net\n",
    "The time series of discharge is approximately shaped by a range of time-lagged precipitation that influences the river discharge. To allow the model to exhibit this time-delay behaviour, we need to add time-lagged predictors/features. If we only included the sum of precipitation of the last, say, 14 days, then the model can not possibly learn true behaviour because the weight matrix of a neural net is not changed anymore after training, meaning that the impact the 14-day sum has on the output is not time dependent. \n",
    "\n",
    "Thus the goal is to provide the model predictors that exhibit an increasing shift (1, 2, 3 days ago) and at some point, the precipitation is aggregated within the soil by diffusion which smoothes out peaks in precipitation (see diffusion equation).\n",
    "\n",
    "To get yesterday's precipitation at the timestamp of today, we can **shift** the data by one day and **add** the resulting timeseries **as additional variable** to the existing dataset.\n",
    "Start with present day's precipitation."
   ]
  },
  {
   "cell_type": "code",
   "execution_count": 10,
   "metadata": {},
   "outputs": [],
   "source": [
    "X = era5[['lsp', 'cp']]"
   ]
  },
  {
   "cell_type": "code",
   "execution_count": 11,
   "metadata": {},
   "outputs": [],
   "source": [
    "from python.aux.utils_floodmodel import shift_and_aggregate"
   ]
  },
  {
   "cell_type": "markdown",
   "metadata": {},
   "source": [
    "**1. Shift the precipitation timeseries and add them to the existing dataset.**\n",
    "\n",
    "To have the precipitation of the last 5  and the next 14 days, iterate over these days."
   ]
  },
  {
   "cell_type": "code",
   "execution_count": 12,
   "metadata": {},
   "outputs": [],
   "source": [
    "for var in ['lsp', 'cp']:\n",
    "    for i in range(1,6):\n",
    "        newvar = var+'-'+str(i)\n",
    "        X[newvar] = X[var].shift(time=i)  # previous precip as current day variable"
   ]
  },
  {
   "cell_type": "markdown",
   "metadata": {},
   "source": [
    "iterate over the next 14 days (day 0 is the first prediction)"
   ]
  },
  {
   "cell_type": "code",
   "execution_count": 13,
   "metadata": {},
   "outputs": [
    {
     "data": {
      "text/plain": [
       "Data variables:\n",
       "    lsp      (time, latitude, longitude) float32 ...\n",
       "    cp       (time, latitude, longitude) float32 ...\n",
       "    lsp-1    (time, latitude, longitude) float32 nan nan ... 8.196841e-05\n",
       "    lsp-2    (time, latitude, longitude) float32 nan nan ... 0.00036743758\n",
       "    lsp-3    (time, latitude, longitude) float32 nan nan ... 1.4202446e-05\n",
       "    lsp-4    (time, latitude, longitude) float32 nan nan ... 0.0053772996\n",
       "    lsp-5    (time, latitude, longitude) float32 nan nan ... 0.016994901\n",
       "    cp-1     (time, latitude, longitude) float32 nan nan ... 0.00027301\n",
       "    cp-2     (time, latitude, longitude) float32 nan nan nan nan ... 0.0 0.0 0.0\n",
       "    cp-3     (time, latitude, longitude) float32 nan nan nan nan ... 0.0 0.0 0.0\n",
       "    cp-4     (time, latitude, longitude) float32 nan nan ... 7.6766744e-05\n",
       "    cp-5     (time, latitude, longitude) float32 nan nan ... 0.001220766\n",
       "    lsp+1    (time, latitude, longitude) float32 0.0049987715 0.00515422 ... nan\n",
       "    lsp+2    (time, latitude, longitude) float32 0.008056709 0.007638136 ... nan\n",
       "    lsp+3    (time, latitude, longitude) float32 0.0010342747 ... nan\n",
       "    lsp+4    (time, latitude, longitude) float32 0.00042493164 ... nan\n",
       "    lsp+5    (time, latitude, longitude) float32 0.00489147 0.0047081807 ... nan\n",
       "    lsp+6    (time, latitude, longitude) float32 0.00022080202 ... nan\n",
       "    lsp+7    (time, latitude, longitude) float32 0.00020471745 ... nan\n",
       "    lsp+8    (time, latitude, longitude) float32 0.002191882 0.002147476 ... nan\n",
       "    lsp+9    (time, latitude, longitude) float32 0.0060247635 ... nan\n",
       "    lsp+10   (time, latitude, longitude) float32 0.0002563911 ... nan\n",
       "    lsp+11   (time, latitude, longitude) float32 0.003253944 ... nan\n",
       "    lsp+12   (time, latitude, longitude) float32 0.0015985703 ... nan\n",
       "    lsp+13   (time, latitude, longitude) float32 0.0058725746 ... nan\n",
       "    cp+1     (time, latitude, longitude) float32 0.001362356 ... nan\n",
       "    cp+2     (time, latitude, longitude) float32 0.0023405608 ... nan\n",
       "    cp+3     (time, latitude, longitude) float32 0.0017631453 ... nan\n",
       "    cp+4     (time, latitude, longitude) float32 0.0019625658 ... nan\n",
       "    cp+5     (time, latitude, longitude) float32 0.0016441087 ... nan\n",
       "    cp+6     (time, latitude, longitude) float32 1.6365105e-06 0.0 ... nan nan\n",
       "    cp+7     (time, latitude, longitude) float32 7.0136167e-07 0.0 ... nan nan\n",
       "    cp+8     (time, latitude, longitude) float32 3.117163e-06 ... nan\n",
       "    cp+9     (time, latitude, longitude) float32 0.00019673194 ... nan\n",
       "    cp+10    (time, latitude, longitude) float32 0.0 1.4066198e-05 ... nan nan\n",
       "    cp+11    (time, latitude, longitude) float32 0.0 0.0 0.0 0.0 ... nan nan nan\n",
       "    cp+12    (time, latitude, longitude) float32 6.129122e-05 ... nan\n",
       "    cp+13    (time, latitude, longitude) float32 0.0 0.0 0.0 0.0 ... nan nan nan"
      ]
     },
     "execution_count": 13,
     "metadata": {},
     "output_type": "execute_result"
    }
   ],
   "source": [
    "for var in ['lsp', 'cp']:\n",
    "    for i in range(1,14):\n",
    "        newvar = var+'+'+str(i)\n",
    "        X[newvar] = X[var].shift(time=-i) # future precip as current day variable\n",
    "        \n",
    "X.data_vars"
   ]
  },
  {
   "cell_type": "markdown",
   "metadata": {},
   "source": [
    "\n",
    "**2. Aggregate over an increasing number of days as we iterate back in time.**\n",
    "\n",
    "Now for precipitation that is already some days ago we will aggregate over some days because it does not really matter at some point if a certain precipitation was 30 or 31 days ago. We account for up to 180 days old precipitation.\n",
    "\n",
    "\n",
    "Apply `shift_and_aggregate` before spatially interpolating the fields to avoid `MemoryError`s.\n"
   ]
  },
  {
   "cell_type": "code",
   "execution_count": 14,
   "metadata": {},
   "outputs": [],
   "source": [
    "X['lsp-5-11'] = shift_and_aggregate(X['lsp'], shift=5, aggregate=7)\n",
    "X['lsp-12-25'] = shift_and_aggregate(X['lsp'], shift=12, aggregate=14)\n",
    "X['lsp-26-55'] = shift_and_aggregate(X['lsp'], shift=26, aggregate=30)\n",
    "X['lsp-56-180'] = shift_and_aggregate(X['lsp'], shift=56, aggregate=125)"
   ]
  },
  {
   "cell_type": "markdown",
   "metadata": {},
   "source": [
    "### How does that look in a time series plot?\n",
    "\n",
    "The peaks are dampened the further we go back in time and the precipitation is 'spread out in time'."
   ]
  },
  {
   "cell_type": "code",
   "execution_count": 15,
   "metadata": {
    "scrolled": false
   },
   "outputs": [
    {
     "data": {
      "text/plain": [
       "Text(0.5, 1.0, 'Example timeseries of predictors')"
      ]
     },
     "execution_count": 15,
     "metadata": {},
     "output_type": "execute_result"
    },
    {
     "data": {
      "image/png": "[encoded data removed]",
      "text/plain": [
       "<Figure size 1080x360 with 1 Axes>"
      ]
     },
     "metadata": {
      "needs_background": "light"
     },
     "output_type": "display_data"
    }
   ],
   "source": [
    "fig, ax = plt.subplots(figsize=(15,5))\n",
    "\n",
    "X['lsp'][:60,0,0].plot(ax=ax, label='precipitation current day')\n",
    "X['lsp-5-11'][:60,0,0].plot(ax=ax, label='precipitation 5-11 days before')\n",
    "X['lsp-12-25'][:60,0,0].plot(ax=ax, label='precipitation 12-25 days before')\n",
    "ax.legend()\n",
    "plt.title('Example timeseries of predictors')"
   ]
  },
  {
   "cell_type": "code",
   "execution_count": 16,
   "metadata": {},
   "outputs": [
    {
     "data": {
      "text/plain": [
       "<xarray.Dataset>\n",
       "Dimensions:     (latitude: 13, longitude: 25, time: 5478)\n",
       "Coordinates:\n",
       "  * longitude   (longitude) float32 8.0 8.25 8.5 8.75 ... 13.25 13.5 13.75 14.0\n",
       "  * latitude    (latitude) float32 50.0 49.75 49.5 49.25 ... 47.5 47.25 47.0\n",
       "  * time        (time) datetime64[ns] 1981-01-01 1981-01-02 ... 1995-12-31\n",
       "Data variables:\n",
       "    lsp         (time, latitude, longitude) float32 ...\n",
       "    cp          (time, latitude, longitude) float32 ...\n",
       "    lsp-1       (time, latitude, longitude) float32 nan nan ... 8.196841e-05\n",
       "    lsp-2       (time, latitude, longitude) float32 nan nan ... 0.00036743758\n",
       "    lsp-3       (time, latitude, longitude) float32 nan nan ... 1.4202446e-05\n",
       "    lsp-4       (time, latitude, longitude) float32 nan nan ... 0.0053772996\n",
       "    lsp-5       (time, latitude, longitude) float32 nan nan ... 0.016994901\n",
       "    cp-1        (time, latitude, longitude) float32 nan nan ... 0.00027301\n",
       "    cp-2        (time, latitude, longitude) float32 nan nan nan ... 0.0 0.0 0.0\n",
       "    cp-3        (time, latitude, longitude) float32 nan nan nan ... 0.0 0.0 0.0\n",
       "    cp-4        (time, latitude, longitude) float32 nan nan ... 7.6766744e-05\n",
       "    cp-5        (time, latitude, longitude) float32 nan nan ... 0.001220766\n",
       "    lsp+1       (time, latitude, longitude) float32 0.0049987715 ... nan\n",
       "    lsp+2       (time, latitude, longitude) float32 0.008056709 ... nan\n",
       "    lsp+3       (time, latitude, longitude) float32 0.0010342747 ... nan\n",
       "    lsp+4       (time, latitude, longitude) float32 0.00042493164 ... nan\n",
       "    lsp+5       (time, latitude, longitude) float32 0.00489147 ... nan\n",
       "    lsp+6       (time, latitude, longitude) float32 0.00022080202 ... nan\n",
       "    lsp+7       (time, latitude, longitude) float32 0.00020471745 ... nan\n",
       "    lsp+8       (time, latitude, longitude) float32 0.002191882 ... nan\n",
       "    lsp+9       (time, latitude, longitude) float32 0.0060247635 ... nan\n",
       "    lsp+10      (time, latitude, longitude) float32 0.0002563911 ... nan\n",
       "    lsp+11      (time, latitude, longitude) float32 0.003253944 ... nan\n",
       "    lsp+12      (time, latitude, longitude) float32 0.0015985703 ... nan\n",
       "    lsp+13      (time, latitude, longitude) float32 0.0058725746 ... nan\n",
       "    cp+1        (time, latitude, longitude) float32 0.001362356 ... nan\n",
       "    cp+2        (time, latitude, longitude) float32 0.0023405608 ... nan\n",
       "    cp+3        (time, latitude, longitude) float32 0.0017631453 ... nan\n",
       "    cp+4        (time, latitude, longitude) float32 0.0019625658 ... nan\n",
       "    cp+5        (time, latitude, longitude) float32 0.0016441087 ... nan\n",
       "    cp+6        (time, latitude, longitude) float32 1.6365105e-06 0.0 ... nan\n",
       "    cp+7        (time, latitude, longitude) float32 7.0136167e-07 0.0 ... nan\n",
       "    cp+8        (time, latitude, longitude) float32 3.117163e-06 ... nan\n",
       "    cp+9        (time, latitude, longitude) float32 0.00019673194 ... nan\n",
       "    cp+10       (time, latitude, longitude) float32 0.0 1.4066198e-05 ... nan\n",
       "    cp+11       (time, latitude, longitude) float32 0.0 0.0 0.0 ... nan nan nan\n",
       "    cp+12       (time, latitude, longitude) float32 6.129122e-05 ... nan\n",
       "    cp+13       (time, latitude, longitude) float32 0.0 0.0 0.0 ... nan nan nan\n",
       "    lsp-5-11    (time, latitude, longitude) float32 nan nan ... 0.003649181\n",
       "    lsp-12-25   (time, latitude, longitude) float32 nan nan ... 0.0019519344\n",
       "    lsp-26-55   (time, latitude, longitude) float32 nan nan ... 0.00087649975\n",
       "    lsp-56-180  (time, latitude, longitude) float32 nan nan ... 0.0010649478"
      ]
     },
     "execution_count": 16,
     "metadata": {},
     "output_type": "execute_result"
    }
   ],
   "source": [
    "X"
   ]
  },
  {
   "cell_type": "code",
   "execution_count": 25,
   "metadata": {},
   "outputs": [],
   "source": [
    "from python.aux.utils_floodmodel import reshape_multiday_predictand"
   ]
  },
  {
   "cell_type": "code",
   "execution_count": 26,
   "metadata": {},
   "outputs": [
    {
     "data": {
      "text/plain": [
       "<xarray.DataArray (forecast_day: 14, time: 5478)>\n",
       "array([[798.361572, 792.207703, 796.706116, ..., 783.30896 , 782.144958,\n",
       "        778.828003],\n",
       "       [792.207703, 796.706116, 814.23584 , ..., 782.144958, 778.828003,\n",
       "               nan],\n",
       "       [796.706116, 814.23584 , 819.019653, ..., 778.828003,        nan,\n",
       "               nan],\n",
       "       ...,\n",
       "       [792.431763, 788.05072 , 783.429138, ...,        nan,        nan,\n",
       "               nan],\n",
       "       [788.05072 , 783.429138, 779.090576, ...,        nan,        nan,\n",
       "               nan],\n",
       "       [783.429138, 779.090576, 775.803223, ...,        nan,        nan,\n",
       "               nan]])\n",
       "Coordinates:\n",
       "  * time          (time) datetime64[ns] 1981-01-01 1981-01-02 ... 1995-12-31\n",
       "    latitude      float64 48.35\n",
       "    longitude     float64 13.95\n",
       "  * forecast_day  (forecast_day) int64 1 2 3 4 5 6 7 8 9 10 11 12 13 14"
      ]
     },
     "execution_count": 26,
     "metadata": {},
     "output_type": "execute_result"
    }
   ],
   "source": [
    "y = glofas['dis'].interp(latitude=lat, longitude=lon)\n",
    "\n",
    "var = y.name\n",
    "y = y.to_dataset()\n",
    "for i in range(1,14):\n",
    "    newvar = var+'+'+str(i)\n",
    "    y[newvar] = y[var].shift(time=-i) # future precip as current day variable\n",
    "y = y.to_array(dim='forecast_day')\n",
    "y.coords['forecast_day'] = range(1,len(y.forecast_day)+1)\n",
    "y"
   ]
  },
  {
   "cell_type": "code",
   "execution_count": 28,
   "metadata": {},
   "outputs": [],
   "source": [
    "# aggregate over the space dimension (more complex in the next notebook)\n",
    "Xagg = X.mean(['latitude', 'longitude'])\n",
    "\n",
    "Xda, yda = reshape_multiday_predictand(Xagg, y)"
   ]
  },
  {
   "cell_type": "markdown",
   "metadata": {},
   "source": [
    "Now we have both the X array and the y array which can be used to train the 14 day forecast of the neural network.\n",
    "But this will be the focus of another part-3 notebook in the folder `notebooks/3_model_tests/`."
   ]
  },
  {
   "cell_type": "markdown",
   "metadata": {},
   "source": [
    "---\n",
    "### 3.b) Predictors for the LSTM neural net\n",
    "Within the framework of the Long short-term memory (LSTM) neural net, it is necessary to provide \n",
    "\n",
    "- the timeseries of the predictand variable (it may **NOT** be aggregated)\n",
    "- other variables may be incorporated by concatenating 'embeddings', i.e. arbitrary features, to the LSTM layer output before applying a last `Dense` layer (keras).\n",
    "\n",
    "That means you simply omit the steps of aggregation and stick to the plain shifted timeseries."
   ]
  },
  {
   "cell_type": "code",
   "execution_count": null,
   "metadata": {
    "scrolled": false
   },
   "outputs": [],
   "source": [
    "\n"
   ]
  },
  {
   "cell_type": "code",
   "execution_count": null,
   "metadata": {},
   "outputs": [],
   "source": []
  },
  {
   "cell_type": "code",
   "execution_count": 19,
   "metadata": {},
   "outputs": [],
   "source": []
  },
  {
   "cell_type": "code",
   "execution_count": 20,
   "metadata": {},
   "outputs": [],
   "source": []
  }
 ],
 "metadata": {
  "kernelspec": {
   "display_name": "Python 3",
   "language": "python",
   "name": "python3"
  },
  "language_info": {
   "codemirror_mode": {
    "name": "ipython",
    "version": 3
   },
   "file_extension": ".py",
   "mimetype": "text/x-python",
   "name": "python",
   "nbconvert_exporter": "python",
   "pygments_lexer": "ipython3",
   "version": "3.7.3"
  }
 },
 "nbformat": 4,
 "nbformat_minor": 2
}
