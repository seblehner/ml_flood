{
 "cells": [
  {
   "cell_type": "markdown",
   "metadata": {},
   "source": [
    "# 2. Preprocessing\n",
    "## 2.04 Reshape datasets for training\n",
    "\n",
    "\n"
   ]
  },
  {
   "cell_type": "code",
   "execution_count": 1,
   "metadata": {},
   "outputs": [],
   "source": [
    "import numpy as np\n",
    "import datetime as dt\n",
    "import pandas as pd\n",
    "import matplotlib as mpl\n",
    "import matplotlib.pyplot as plt\n",
    "import seaborn as sns\n",
    "import xarray as xr"
   ]
  },
  {
   "cell_type": "markdown",
   "metadata": {},
   "source": [
    "## Loading the data\n",
    "A sample dataset is contained in the git repository.\n",
    "\n",
    "We use `xarray` to access the files, as it provides us with a very powerful interface to work with the data. Let's open the files and see what's in there:"
   ]
  },
  {
   "cell_type": "code",
   "execution_count": 2,
   "metadata": {},
   "outputs": [],
   "source": [
    "era5 = xr.open_dataset('../../data/smallsampledata-era5.nc')\n",
    "glofas = xr.open_dataset('../../data/smallsampledata-glofas.nc')"
   ]
  },
  {
   "cell_type": "markdown",
   "metadata": {},
   "source": [
    "Its datatype is `xarray.Dataset`, containing a spatio-temporal subset of 5 variables that we selected from the original ERA5 dataset. It also contains one derived variable (`rtp_500-850`) that is used in Meteorology quite a bit because it is proportional to mass-weighted mean temperature of the air, in this case between 850 and 500 hPa. It could be an additional predictor to classify the weather regime."
   ]
  },
  {
   "cell_type": "markdown",
   "metadata": {},
   "source": [
    "### Selecting the predictand\n",
    "The target variable shall be the discharge at the point where the Danube river leaves the data domain. This is given by the point within the catchment where the discharge is the highest, so we first filter by the catchment basin shapefile (Worldbank dataset \"Global River Basins\")\n",
    "\n",
    "To select the basin from the shapefile, we use a function defined in `./aux/utils.py`. The interested user may have a look there how it is done, but it would obstruct the clarity in this notebook. To import the function it needs to be present in the current processes path. We do that by adding the parent/main directory to `sys.path`. In this way we can import some function in `./aux/utils_flowmodel.py` by `from aux.utils_flowmodel import somefunction`."
   ]
  },
  {
   "cell_type": "code",
   "execution_count": 3,
   "metadata": {},
   "outputs": [],
   "source": [
    "import sys\n",
    "sys.path.append(\"../../\")\n",
    "from python.aux.utils_floodmodel import get_mask_of_basin, add_shifted_variables"
   ]
  },
  {
   "cell_type": "code",
   "execution_count": 4,
   "metadata": {},
   "outputs": [
    {
     "name": "stderr",
     "output_type": "stream",
     "text": [
      "/home/srvx11/lehre/users/a1303583/.conda/envs/ml_flood/lib/python3.7/site-packages/xarray/core/nanops.py:160: RuntimeWarning: Mean of empty slice\n",
      "  return np.nanmean(a, axis=axis, dtype=dtype)\n"
     ]
    },
    {
     "data": {
      "text/plain": [
       "[<matplotlib.lines.Line2D at 0x7f53687895f8>]"
      ]
     },
     "execution_count": 4,
     "metadata": {},
     "output_type": "execute_result"
    },
    {
     "data": {
      "image/png": "[encoded data removed]",
      "text/plain": [
       "<Figure size 432x288 with 2 Axes>"
      ]
     },
     "metadata": {
      "needs_background": "light"
     },
     "output_type": "display_data"
    }
   ],
   "source": [
    "dis_mean = glofas['dis'].mean('time')\n",
    "danube_catchment = get_mask_of_basin(dis_mean)\n",
    "dis = glofas['dis'].where(danube_catchment)\n",
    "\n",
    "maximum = dis.where(dis==dis.max(), drop=True)\n",
    "lat, lon = float(maximum.latitude), float(maximum.longitude)\n",
    "\n",
    "dis.mean('time').plot()\n",
    "plt.gca().plot(lon, lat, color='cyan', marker='o', \n",
    "               markersize=20, mew=4, markerfacecolor='none')"
   ]
  },
  {
   "cell_type": "markdown",
   "metadata": {},
   "source": [
    "### Feature engineering: Spatial aggregation \n",
    "Repeated from **(from Notebook 2.03)**"
   ]
  },
  {
   "cell_type": "code",
   "execution_count": 5,
   "metadata": {},
   "outputs": [],
   "source": [
    "bins = [0, 0.8, 2.4, 10.25, 10000]\n",
    "\n",
    "dis_mean = dis.mean('time')\n",
    "cluster = dict()\n",
    "for i in range(len(bins)-1):\n",
    "    cluster[str(i)] = (dis_mean >= bins[i]) & (dis_mean < bins[i+1])\n",
    "    cluster[str(i)].attrs['units'] = None\n",
    "    \n",
    "cluster = xr.Dataset(cluster, coords=dict(clusterId=('clusterId', range(len(bins))),\n",
    "                                          latitude=('latitude', dis_mean.latitude),\n",
    "                                          longitude=('longitude', dis_mean.longitude)))\n",
    "cluster = cluster.to_array('clusterId')"
   ]
  },
  {
   "cell_type": "code",
   "execution_count": 6,
   "metadata": {},
   "outputs": [],
   "source": [
    "from python.aux.utils_floodmodel import shift_and_aggregate, aggregate_clustersum"
   ]
  },
  {
   "cell_type": "markdown",
   "metadata": {},
   "source": [
    "Add shifted variables."
   ]
  },
  {
   "cell_type": "code",
   "execution_count": 18,
   "metadata": {
    "scrolled": false
   },
   "outputs": [],
   "source": [
    "shifts = [1, 2, 3]\n",
    "shift_vars = ['lsp', 'cp']\n",
    "\n",
    "Xs = add_shifted_variables(era5, shifts, variables=shift_vars)"
   ]
  },
  {
   "cell_type": "code",
   "execution_count": 19,
   "metadata": {},
   "outputs": [],
   "source": [
    "Xs['lsp-4-10'] = shift_and_aggregate(Xs['lsp'], shift=4, aggregate=7)\n",
    "Xs['lsp-11-24'] = shift_and_aggregate(Xs['lsp'], shift=14, aggregate=14)\n",
    "Xs['lsp-25-54'] = shift_and_aggregate(Xs['lsp'], shift=28, aggregate=30)\n",
    "Xs['lsp-55-180'] = shift_and_aggregate(Xs['lsp'], shift=55, aggregate=126)"
   ]
  },
  {
   "cell_type": "markdown",
   "metadata": {},
   "source": [
    "Add change of snow depth as feature."
   ]
  },
  {
   "cell_type": "code",
   "execution_count": 29,
   "metadata": {},
   "outputs": [],
   "source": [
    "sd_diff = Xs['sd'].diff(dim='time')\n",
    "Xs = Xs.assign({'sd_diff': sd_diff})"
   ]
  },
  {
   "cell_type": "markdown",
   "metadata": {},
   "source": [
    "Remove unimportant features."
   ]
  },
  {
   "cell_type": "code",
   "execution_count": 31,
   "metadata": {},
   "outputs": [],
   "source": [
    "ignore_features = ['tcwv', 'rtp_500-850']\n",
    "Xs = Xs.drop(ignore_features)"
   ]
  },
  {
   "cell_type": "code",
   "execution_count": 34,
   "metadata": {
    "scrolled": false
   },
   "outputs": [],
   "source": [
    "X = Xs.interp(latitude=glofas.latitude, longitude=glofas.longitude)"
   ]
  },
  {
   "cell_type": "markdown",
   "metadata": {},
   "source": [
    "Here, we added the option to either use clustering for spatial aggregation, or means over the whole catchment."
   ]
  },
  {
   "cell_type": "code",
   "execution_count": 36,
   "metadata": {},
   "outputs": [
    {
     "name": "stderr",
     "output_type": "stream",
     "text": [
      "/home/srvx11/lehre/users/a1303583/.conda/envs/ml_flood/lib/python3.7/site-packages/xarray/core/nanops.py:160: RuntimeWarning: Mean of empty slice\n",
      "  return np.nanmean(a, axis=axis, dtype=dtype)\n"
     ]
    },
    {
     "data": {
      "text/plain": [
       "Data variables:\n",
       "    cp          (time) float64 0.002797 0.001074 ... 2.064e-05 2.792e-05\n",
       "    lsp         (time) float64 0.003084 0.01113 0.01319 ... 0.000322 0.0009015\n",
       "    swvl1       (time) float64 0.3698 0.3697 0.4002 ... 0.3741 0.371 0.3686\n",
       "    ro          (time) float64 4.071e-05 4.08e-05 ... 4.307e-05 4.372e-05\n",
       "    sd          (time) float64 0.05089 0.06464 0.06186 ... 0.03501 0.03384\n",
       "    lsp-1       (time) float64 nan 0.003084 0.01113 ... 8.925e-05 0.000322\n",
       "    lsp-2       (time) float64 nan nan 0.003084 ... 0.002427 7.934e-05 8.925e-05\n",
       "    lsp-3       (time) float64 nan nan nan ... 0.007294 0.002427 7.934e-05\n",
       "    lsp-4-10    (time) float64 nan nan nan nan ... 0.005709 0.006588 0.005324\n",
       "    lsp-11-24   (time) float64 nan nan nan nan ... 0.001202 0.001108 0.0009275\n",
       "    lsp-25-54   (time) float64 nan nan nan nan ... 0.002305 0.002124 0.001885\n",
       "    lsp-55-180  (time) float64 nan nan nan nan ... 0.001596 0.001616 0.001616\n",
       "    cp-1        (time) float64 nan 0.002797 0.001074 ... 2.027e-07 2.064e-05\n",
       "    cp-2        (time) float64 nan nan 0.002797 ... 9.989e-07 2.027e-07\n",
       "    cp-3        (time) float64 nan nan nan ... 0.0005416 0.0003252 9.989e-07\n",
       "    sd_diff     (time) float64 nan 0.01375 -0.002785 ... -0.00101 -0.001167"
      ]
     },
     "execution_count": 36,
     "metadata": {},
     "output_type": "execute_result"
    }
   ],
   "source": [
    "cluster_switch = False\n",
    "if cluster_switch:\n",
    "    Xagg = aggregate_clustersum(X, cluster, 'clusterId')\n",
    "else:\n",
    "    X_catchment = X.where(danube_catchment, drop=True)\n",
    "    Xagg = X_catchment.mean(['latitude', 'longitude'])\n",
    "Xagg.data_vars"
   ]
  },
  {
   "cell_type": "code",
   "execution_count": 37,
   "metadata": {},
   "outputs": [
    {
     "data": {
      "text/plain": [
       "<xarray.DataArray 'dis' (time: 5478)>\n",
       "array([798.361572, 792.207703, 796.706116, ..., 783.30896 , 782.144958,\n",
       "       778.828003])\n",
       "Coordinates:\n",
       "  * time       (time) datetime64[ns] 1981-01-01 1981-01-02 ... 1995-12-31\n",
       "    latitude   float64 48.35\n",
       "    longitude  float64 13.95\n",
       "Attributes:\n",
       "    long_name:  discharge\n",
       "    units:      m3/s"
      ]
     },
     "execution_count": 37,
     "metadata": {},
     "output_type": "execute_result"
    }
   ],
   "source": [
    "y = glofas['dis'].interp(latitude=lat, longitude=lon)\n",
    "y"
   ]
  },
  {
   "cell_type": "markdown",
   "metadata": {},
   "source": [
    "Save the preprocessed features as well as the predictand into the data folder."
   ]
  },
  {
   "cell_type": "code",
   "execution_count": 39,
   "metadata": {},
   "outputs": [],
   "source": [
    "Xagg = Xagg.assign({'dis': y})"
   ]
  },
  {
   "cell_type": "code",
   "execution_count": 42,
   "metadata": {
    "scrolled": false
   },
   "outputs": [],
   "source": [
    "Xagg.to_netcdf('../../data/features_xy.nc')"
   ]
  },
  {
   "cell_type": "markdown",
   "metadata": {},
   "source": [
    "## The reshaping procedure\n",
    "\n",
    "The reshaping procedure is not complex. What is our goal?\n",
    "\n",
    "### The plain-vanilla neural net (for core keras layers)\n",
    "In the end we want to have the predictor matrix `X` and the predictand vector `y` as `xr.DataArray` with dimensions: `(samples, features)` and `(samples,)` respectively.\n",
    "\n",
    "\n",
    "#### Process\n",
    "1. **Convert to arrays**\n",
    "to be enable all following matrix-operations.\n",
    "2. **Stack the feature-dimensions of your array**\n",
    "i.e. if you want every gridpoint of your dataset as separate predictor variable, then `.stack(features=['latitude', 'longitude'])`. `features` will be the name of the dimension containing both old dimensions. The output should be 2-dimensional (samples, features).\n",
    "3. **Drop any features that are NaN**\n",
    "may be needed if you applied `.where()` to the array, which sets the False condition to NaN.\n",
    "\n",
    "4. **Drop remaining spatial coordinates**\n",
    "may be needed in some cases.\n",
    "\n",
    "5. **Drop NaN rows in both X and y**\n",
    "Rename the features dimension temporarily, concat X with y, drop samples containing any NaN and separate both X and y again. Rename features back again.\n"
   ]
  },
  {
   "cell_type": "code",
   "execution_count": 22,
   "metadata": {},
   "outputs": [],
   "source": [
    "def reshape_scalar_predictand(X_dis, y):\n",
    "    \"\"\"Reshape, merge predictor/predictand in time, drop nans.\n",
    "    \n",
    "    Parameters\n",
    "    ----------\n",
    "        X_dis : xr.Dataset\n",
    "            variables: time shifted predictors (name irrelevant)\n",
    "            coords: time, latitude, longitude\n",
    "        y : xr.DataArray\n",
    "            coords: time\n",
    "    \"\"\"\n",
    "    if isinstance(X_dis, xr.Dataset):\n",
    "        X_dis = X_dis.to_array(dim='var_dimension')\n",
    "\n",
    "    # stack -> seen as one dimension for the model\n",
    "    stack_dims = [a for a in X_dis.dims if a != 'time']  # all except time\n",
    "    X_dis = X_dis.stack(features=stack_dims)\n",
    "    Xar = X_dis.dropna('features', how='all')  # drop features that only contain NaN\n",
    "\n",
    "    # to be sure that these dims are not in the output\n",
    "    for coord in ['latitude', 'longitude']:\n",
    "        if coord in y.coords:\n",
    "            y = y.drop(coord)\n",
    "\n",
    "    # merge times\n",
    "    y.coords['features'] = 'predictand'\n",
    "    Xy = xr.concat([Xar, y], dim='features')  # maybe merge instead concat?\n",
    "    Xyt = Xy.dropna('time', how='any')  # drop rows with nan values\n",
    "\n",
    "    Xda = Xyt[:, :-1]  # last column is predictand\n",
    "    yda = Xyt[:, -1].drop('features')  # features was only needed in merge\n",
    "    return Xda, yda"
   ]
  },
  {
   "cell_type": "markdown",
   "metadata": {},
   "source": [
    "This function is available from here:\n",
    "\n",
    "`from python.aux.utils_floodmodel import reshape_scalar_predictand`\n"
   ]
  },
  {
   "cell_type": "code",
   "execution_count": 23,
   "metadata": {},
   "outputs": [],
   "source": [
    "Xda, yda = reshape_scalar_predictand(Xagg, y)"
   ]
  },
  {
   "cell_type": "code",
   "execution_count": 25,
   "metadata": {},
   "outputs": [
    {
     "data": {
      "text/plain": [
       "((5134, 52), (5134,))"
      ]
     },
     "execution_count": 25,
     "metadata": {},
     "output_type": "execute_result"
    }
   ],
   "source": [
    "Xda.shape, yda.shape"
   ]
  },
  {
   "cell_type": "markdown",
   "metadata": {},
   "source": [
    "This concludes the part for the core keras layers, as we have the `X` and `y` arrays needed to fit the model to the data."
   ]
  },
  {
   "cell_type": "markdown",
   "metadata": {},
   "source": [
    "\n",
    "\n",
    "### The recurrent neural net (for recurrent keras layers)\n",
    "For a recurrent neural net architecture like RNN or LSTM we need `X` and `y` as arrays of dimensions `(samples, times, features)` and `(samples, times)`.\n",
    "\n",
    "\n",
    "The reshaping procedure is not that different but it involves a feature array `X` of a different shape (as described above), such that we have to introduce minor changes.\n",
    "You could probably also merge both reshaping procedures."
   ]
  },
  {
   "cell_type": "code",
   "execution_count": null,
   "metadata": {},
   "outputs": [],
   "source": [
    "def reshape_multiday_predictand(X_dis, y):\n",
    "    \"\"\"Reshape, merge predictor/predictand in time, drop nans.\n",
    "    \n",
    "    Parameters\n",
    "    ----------\n",
    "        X_dis : xr.Dataset\n",
    "            variables: time shifted predictors (name irrelevant)\n",
    "            coords: time, latitude, longitude\n",
    "        y : xr.DataArray (multiple variables, multiple timesteps)\n",
    "            coords: time, forecast_day\n",
    "    \"\"\"\n",
    "    if isinstance(X_dis, xr.Dataset):\n",
    "        X_dis = X_dis.to_array(dim='var_dimension')\n",
    "\n",
    "    # stack -> seen as one dimension for the model\n",
    "    stack_dims = [a for a in X_dis.dims if a != 'time']  # all except time\n",
    "    X_dis = X_dis.stack(features=stack_dims)\n",
    "    Xar = X_dis.dropna('features', how='all')  # drop features that only contain NaN\n",
    "\n",
    "    if not isinstance(y, xr.DataArray):\n",
    "        raise TypeError('Supply `y` as xr.DataArray.'\n",
    "                        'with coords (time, forecast_day)!')\n",
    "\n",
    "    # to be sure that these dims are not in the output\n",
    "    for coord in ['latitude', 'longitude']:\n",
    "        if coord in y.coords:\n",
    "            y = y.drop(coord)\n",
    "\n",
    "    out_dim = len(y.forecast_day)\n",
    "    y = y.rename(dict(forecast_day='features'))  # rename temporarily\n",
    "    Xy = xr.concat([Xar, y], dim='features')  # maybe merge instead concat?\n",
    "    Xyt = Xy.dropna('time', how='any')  # drop rows with nan values\n",
    "\n",
    "    Xda = Xyt[:, :-out_dim]  # last column is predictand\n",
    "    yda = Xyt[:, -out_dim:]  # features was only needed in merge\n",
    "    yda = yda.rename(dict(features='forecast_day'))  # change renaming back to original\n",
    "    return Xda, yda\n"
   ]
  }
 ],
 "metadata": {
  "kernelspec": {
   "display_name": "Python 3",
   "language": "python",
   "name": "python3"
  },
  "language_info": {
   "codemirror_mode": {
    "name": "ipython",
    "version": 3
   },
   "file_extension": ".py",
   "mimetype": "text/x-python",
   "name": "python",
   "nbconvert_exporter": "python",
   "pygments_lexer": "ipython3",
   "version": "3.7.3"
  }
 },
 "nbformat": 4,
 "nbformat_minor": 2
}
