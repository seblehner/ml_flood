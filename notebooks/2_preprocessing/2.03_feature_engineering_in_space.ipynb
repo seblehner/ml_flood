{
 "cells": [
  {
   "cell_type": "markdown",
   "metadata": {},
   "source": [
    "# 2. Preprocessing\n",
    "## 2.02 Feature engineering in space\n",
    "\n",
    "The goal in this notebook is to reduce the potential dimensionality given by the spatial dimensions `latitude` and `longitude`. It is probably surprising, but even the very advanced hydrological model by Kratzert et.al (2019) use domainwide mean precipitation as input variable for their model. An empirical clustering approach may be found in this notebook. \n",
    "\n",
    "But at which step of the ML-workflow are we?\n",
    "The spatial aggregation is at step 4 in the ML-workflow. \n",
    "1. Load data\n",
    "2. Selecting the predictand gridpoint\n",
    "3. Feature engineering: Time delay features\n",
    "4. Feature engineering: **Spatial aggregation**\n",
    "   - Area weighted sum for precipitation features\n",
    "   - Area mean for all other features"
   ]
  },
  {
   "cell_type": "code",
   "execution_count": 1,
   "metadata": {},
   "outputs": [],
   "source": [
    "import numpy as np\n",
    "import datetime as dt\n",
    "import pandas as pd\n",
    "import matplotlib as mpl\n",
    "import matplotlib.pyplot as plt\n",
    "import seaborn as sns\n",
    "import dask\n",
    "dask.config.set(scheduler='threads')\n",
    "import xarray as xr"
   ]
  },
  {
   "cell_type": "markdown",
   "metadata": {},
   "source": [
    "## 1. Loading the data\n",
    "Sample dataset contained in the git repository.\n",
    "\n",
    "As you are reading these lines, you opened the notebook in the `./docs/` folder of the main repository directory. To access the sample dataset that was delivered to you with the code, step outside the current directory (`../`) and enter the `data/` folder. The names of the sample datasets are `smallsampledata-era5.nc` and `smallsampledata-glofas.nc`, both in netCDF format, a user-friendly format that keeps the file size low and stores meta-data within the file.\n",
    "\n",
    "We use `xarray` to access the files, as it provides us with a very powerful interface to work with the data. Let's open the files and see what's in there:"
   ]
  },
  {
   "cell_type": "code",
   "execution_count": 2,
   "metadata": {},
   "outputs": [],
   "source": [
    "era5 = xr.open_dataset('../../data/smallsampledata-era5.nc')"
   ]
  },
  {
   "cell_type": "code",
   "execution_count": 3,
   "metadata": {},
   "outputs": [],
   "source": [
    "glofas = xr.open_dataset('../../data/smallsampledata-glofas.nc')"
   ]
  },
  {
   "cell_type": "markdown",
   "metadata": {},
   "source": [
    "Its datatype is `xarray.Dataset`, containing a spatio-temporal subset of 5 variables that we selected from the original ERA5 dataset. It also contains one derived variable (`rtp_500-850`) that is used in Meteorology quite a bit because it is proportional to mass-weighted mean temperature of the air, in this case between 850 and 500 hPa. It could be an additional predictor to classify the weather regime."
   ]
  },
  {
   "cell_type": "code",
   "execution_count": 4,
   "metadata": {},
   "outputs": [
    {
     "data": {
      "text/plain": [
       "<xarray.Dataset>\n",
       "Dimensions:      (latitude: 13, longitude: 25, time: 5478)\n",
       "Coordinates:\n",
       "  * time         (time) datetime64[ns] 1981-01-01 1981-01-02 ... 1995-12-31\n",
       "  * longitude    (longitude) float32 8.0 8.25 8.5 8.75 ... 13.25 13.5 13.75 14.0\n",
       "  * latitude     (latitude) float32 50.0 49.75 49.5 49.25 ... 47.5 47.25 47.0\n",
       "Data variables:\n",
       "    cp           (time, latitude, longitude) float32 ...\n",
       "    lsp          (time, latitude, longitude) float32 ...\n",
       "    swvl1        (time, latitude, longitude) float32 ...\n",
       "    tcwv         (time, latitude, longitude) float32 ...\n",
       "    ro           (time, latitude, longitude) float32 ...\n",
       "    rtp_500-850  (time, latitude, longitude) float32 ..."
      ]
     },
     "execution_count": 4,
     "metadata": {},
     "output_type": "execute_result"
    }
   ],
   "source": [
    "era5"
   ]
  },
  {
   "cell_type": "markdown",
   "metadata": {},
   "source": [
    "To access a variable's description, select one like this:"
   ]
  },
  {
   "cell_type": "code",
   "execution_count": 5,
   "metadata": {},
   "outputs": [
    {
     "data": {
      "text/plain": [
       "<xarray.DataArray 'cp' (time: 5478, latitude: 13, longitude: 25)>\n",
       "[1780350 values with dtype=float32]\n",
       "Coordinates:\n",
       "  * time       (time) datetime64[ns] 1981-01-01 1981-01-02 ... 1995-12-31\n",
       "  * longitude  (longitude) float32 8.0 8.25 8.5 8.75 ... 13.25 13.5 13.75 14.0\n",
       "  * latitude   (latitude) float32 50.0 49.75 49.5 49.25 ... 47.5 47.25 47.0\n",
       "Attributes:\n",
       "    standard_name:  lwe_thickness_of_convective_precipitation_amount\n",
       "    long_name:      Convective precipitation\n",
       "    units:          m"
      ]
     },
     "execution_count": 5,
     "metadata": {},
     "output_type": "execute_result"
    }
   ],
   "source": [
    "era5['cp']"
   ]
  },
  {
   "cell_type": "markdown",
   "metadata": {},
   "source": [
    "### 1.a) Selecting useful predictor variables\n",
    "The variable selection has already been done by us when preparing the small sample datasets for you, so you can use them straight away. What is still necessary is clustering and reshaping the input data dimension, because the dimensionality of the raw input data would be too high: \n",
    "\n",
    "To give a rough estimate, imagine using all GloFAS and ERA5 gridpoints of the upstream area of one point. For 1.5x1.5  degree (lat,lon), ERA5 provides 6 x 6 and GloFAS 15 x 15 gridpoints. To take the time dimension into account we'd need, say, 10 days of discharge and 180 days of precipitation. \n",
    "\n",
    "Summing up, this makes the raw input dimensionality 15 x 15 x 10 and 6 x 6 x 180, in total ~8700 features, where most of the predictors won't vary that much from one gridpoint to another in the upstream area (large scale temperature, total-column water vapor).\n",
    "\n",
    "To continue, we need to \n",
    "  1. spatially aggregate and \n",
    "  2. temporally aggregate the data (i.e., reduce dimensionality). \n",
    "  \n",
    "Both will be done in sections below, but first we need to define which point we will be making forecasts for.\n",
    "\n",
    "## 2. Selecting the predictand\n",
    "This point is noted here for completeness. Basically you will need to know for which gridpoint you plan to do predictions before preparing the predictors/features.\n",
    "\n",
    "The target variable shall be the discharge at the point where the Danube river leaves the data domain. This is given by the point within the catchment where the discharge is the highest, so we first filter by the catchment basin shapefile (Worldbank dataset \"Global River Basins\") and then look for the maximum discharge. It is at `latitude=48.35, longitude=13.95`.\n",
    "\n",
    "To select the basin from the shapefile, we use a function defined in `./aux/utils.py`. The interested user may have a look there how it is done, but it would obstruct the clarity in this notebook. To import the function it needs to be present in the current processes path. We do that by adding the parent/main directory to `sys.path`. In this way we can import some function in `./aux/utils_floodmodel.py` by `from aux.utils_floodmodel import somefunction`."
   ]
  },
  {
   "cell_type": "code",
   "execution_count": 6,
   "metadata": {},
   "outputs": [],
   "source": [
    "import sys\n",
    "sys.path.append(\"../../\")\n",
    "from python.aux.utils_floodmodel import get_mask_of_basin"
   ]
  },
  {
   "cell_type": "code",
   "execution_count": 7,
   "metadata": {},
   "outputs": [],
   "source": [
    "danube_catchment = get_mask_of_basin(glofas['dis'].isel(time=0))\n",
    "dis = glofas['dis'].where(danube_catchment)"
   ]
  },
  {
   "cell_type": "markdown",
   "metadata": {},
   "source": [
    "Now we look up the coordinates of the maximum discharge point. We see that the point of interest is at 48.35 degree latitude and 13.95 degree longitude."
   ]
  },
  {
   "cell_type": "code",
   "execution_count": 8,
   "metadata": {},
   "outputs": [
    {
     "data": {
      "text/plain": [
       "(48.35, 13.950000000000017)"
      ]
     },
     "execution_count": 8,
     "metadata": {},
     "output_type": "execute_result"
    }
   ],
   "source": [
    "maximum = dis.where(dis==dis.max(), drop=True)\n",
    "lat, lon = float(maximum.latitude), float(maximum.longitude)\n",
    "lat, lon"
   ]
  },
  {
   "cell_type": "code",
   "execution_count": 9,
   "metadata": {},
   "outputs": [
    {
     "name": "stderr",
     "output_type": "stream",
     "text": [
      "/home/srvx11/lehre/users/a1254888/.conda/envs/ml_flood/lib/python3.7/site-packages/xarray/core/nanops.py:160: RuntimeWarning: Mean of empty slice\n",
      "  return np.nanmean(a, axis=axis, dtype=dtype)\n"
     ]
    },
    {
     "data": {
      "text/plain": [
       "[<matplotlib.lines.Line2D at 0x7f25ec7f4588>]"
      ]
     },
     "execution_count": 9,
     "metadata": {},
     "output_type": "execute_result"
    },
    {
     "data": {
      "image/png": "[encoded data removed]",
      "text/plain": [
       "<Figure size 432x288 with 2 Axes>"
      ]
     },
     "metadata": {
      "needs_background": "light"
     },
     "output_type": "display_data"
    }
   ],
   "source": [
    "poi = dict(latitude=48.35, longitude=13.95)\n",
    "dis_mean = dis.mean('time')\n",
    "dis_mean.plot()\n",
    "plt.gca().plot(lon, lat, color='cyan', marker='o', \n",
    "               markersize=20, mew=4, markerfacecolor='none')"
   ]
  },
  {
   "cell_type": "markdown",
   "metadata": {},
   "source": [
    "## 3. Time aggregated predictors\n",
    "\n",
    "### 3.a) For the time-delay neural net\n",
    "The time series of discharge is approximately shaped by a range of time-lagged precipitation that influences the river discharge. To allow the model to exhibit this time-delay behaviour, we need to add time-lagged predictors/features. If we only included the sum of precipitation of the last, say, 14 days, then the model can not possibly learn true behaviour because the weight matrix of a neural net is not changed anymore after training, meaning that the impact the 14-day sum has on the output is not time dependent. \n",
    "\n",
    "Thus the goal is to provide the model predictors that exhibit an increasing shift (1, 2, 3 days ago) and at some point, the precipitation is aggregated within the soil by diffusion which smoothes out peaks in precipitation (see diffusion equation).\n",
    "\n",
    "To get yesterday's precipitation at the timestamp of today, we can **shift** the data by one day and **add** the resulting timeseries **as additional variable** to the existing dataset.\n",
    "Start with present day's precipitation."
   ]
  },
  {
   "cell_type": "code",
   "execution_count": 10,
   "metadata": {},
   "outputs": [],
   "source": [
    "X = era5[['lsp', 'cp']]"
   ]
  },
  {
   "cell_type": "code",
   "execution_count": 11,
   "metadata": {},
   "outputs": [],
   "source": [
    "from python.aux.utils_floodmodel import shift_and_aggregate"
   ]
  },
  {
   "cell_type": "markdown",
   "metadata": {},
   "source": [
    "**1. Shift the precipitation timeseries and add them to the existing dataset.**\n",
    "\n",
    "To have the precipitation of the last 5  and the next 14 days, iterate over these days."
   ]
  },
  {
   "cell_type": "code",
   "execution_count": 12,
   "metadata": {},
   "outputs": [],
   "source": [
    "for var in ['lsp', 'cp']:\n",
    "    for i in range(1,6):\n",
    "        newvar = var+'-'+str(i)\n",
    "        X[newvar] = X[var].shift(time=i)  # previous precip as current day variable"
   ]
  },
  {
   "cell_type": "markdown",
   "metadata": {},
   "source": [
    "iterate over the next 14 days (day 0 is the first prediction)"
   ]
  },
  {
   "cell_type": "code",
   "execution_count": 13,
   "metadata": {},
   "outputs": [
    {
     "data": {
      "text/plain": [
       "Data variables:\n",
       "    lsp      (time, latitude, longitude) float32 ...\n",
       "    cp       (time, latitude, longitude) float32 ...\n",
       "    lsp-1    (time, latitude, longitude) float32 nan nan ... 8.196841e-05\n",
       "    lsp-2    (time, latitude, longitude) float32 nan nan ... 0.00036743758\n",
       "    lsp-3    (time, latitude, longitude) float32 nan nan ... 1.4202446e-05\n",
       "    lsp-4    (time, latitude, longitude) float32 nan nan ... 0.0053772996\n",
       "    lsp-5    (time, latitude, longitude) float32 nan nan ... 0.016994901\n",
       "    cp-1     (time, latitude, longitude) float32 nan nan ... 0.00027301\n",
       "    cp-2     (time, latitude, longitude) float32 nan nan nan nan ... 0.0 0.0 0.0\n",
       "    cp-3     (time, latitude, longitude) float32 nan nan nan nan ... 0.0 0.0 0.0\n",
       "    cp-4     (time, latitude, longitude) float32 nan nan ... 7.6766744e-05\n",
       "    cp-5     (time, latitude, longitude) float32 nan nan ... 0.001220766\n",
       "    lsp+1    (time, latitude, longitude) float32 0.0049987715 0.00515422 ... nan\n",
       "    lsp+2    (time, latitude, longitude) float32 0.008056709 0.007638136 ... nan\n",
       "    lsp+3    (time, latitude, longitude) float32 0.0010342747 ... nan\n",
       "    lsp+4    (time, latitude, longitude) float32 0.00042493164 ... nan\n",
       "    lsp+5    (time, latitude, longitude) float32 0.00489147 0.0047081807 ... nan\n",
       "    lsp+6    (time, latitude, longitude) float32 0.00022080202 ... nan\n",
       "    lsp+7    (time, latitude, longitude) float32 0.00020471745 ... nan\n",
       "    lsp+8    (time, latitude, longitude) float32 0.002191882 0.002147476 ... nan\n",
       "    lsp+9    (time, latitude, longitude) float32 0.0060247635 ... nan\n",
       "    lsp+10   (time, latitude, longitude) float32 0.0002563911 ... nan\n",
       "    lsp+11   (time, latitude, longitude) float32 0.003253944 ... nan\n",
       "    lsp+12   (time, latitude, longitude) float32 0.0015985703 ... nan\n",
       "    lsp+13   (time, latitude, longitude) float32 0.0058725746 ... nan\n",
       "    cp+1     (time, latitude, longitude) float32 0.001362356 ... nan\n",
       "    cp+2     (time, latitude, longitude) float32 0.0023405608 ... nan\n",
       "    cp+3     (time, latitude, longitude) float32 0.0017631453 ... nan\n",
       "    cp+4     (time, latitude, longitude) float32 0.0019625658 ... nan\n",
       "    cp+5     (time, latitude, longitude) float32 0.0016441087 ... nan\n",
       "    cp+6     (time, latitude, longitude) float32 1.6365105e-06 0.0 ... nan nan\n",
       "    cp+7     (time, latitude, longitude) float32 7.0136167e-07 0.0 ... nan nan\n",
       "    cp+8     (time, latitude, longitude) float32 3.117163e-06 ... nan\n",
       "    cp+9     (time, latitude, longitude) float32 0.00019673194 ... nan\n",
       "    cp+10    (time, latitude, longitude) float32 0.0 1.4066198e-05 ... nan nan\n",
       "    cp+11    (time, latitude, longitude) float32 0.0 0.0 0.0 0.0 ... nan nan nan\n",
       "    cp+12    (time, latitude, longitude) float32 6.129122e-05 ... nan\n",
       "    cp+13    (time, latitude, longitude) float32 0.0 0.0 0.0 0.0 ... nan nan nan"
      ]
     },
     "execution_count": 13,
     "metadata": {},
     "output_type": "execute_result"
    }
   ],
   "source": [
    "for var in ['lsp', 'cp']:\n",
    "    for i in range(1,14):\n",
    "        newvar = var+'+'+str(i)\n",
    "        X[newvar] = X[var].shift(time=-i) # future precip as current day variable\n",
    "        \n",
    "X.data_vars"
   ]
  },
  {
   "cell_type": "markdown",
   "metadata": {},
   "source": [
    "\n",
    "**2. Aggregate over an increasing number of days as we iterate back in time.**\n",
    "\n",
    "Now for precipitation that is already some days ago we will aggregate over some days because it does not really matter at some point if a certain precipitation was 30 or 31 days ago. We account for up to 180 days old precipitation.\n",
    "\n",
    "\n",
    "Apply `shift_and_aggregate` before spatially interpolating the fields to avoid `MemoryError`s.\n"
   ]
  },
  {
   "cell_type": "code",
   "execution_count": 14,
   "metadata": {},
   "outputs": [],
   "source": [
    "X['lsp-5-11'] = shift_and_aggregate(X['lsp'], shift=5, aggregate=7)\n",
    "X['lsp-12-25'] = shift_and_aggregate(X['lsp'], shift=12, aggregate=14)\n",
    "X['lsp-26-55'] = shift_and_aggregate(X['lsp'], shift=26, aggregate=30)\n",
    "X['lsp-56-180'] = shift_and_aggregate(X['lsp'], shift=56, aggregate=125)"
   ]
  },
  {
   "cell_type": "markdown",
   "metadata": {},
   "source": [
    "### How does that look in a time series plot?\n",
    "\n",
    "The peaks are dampened the further we go back in time and the precipitation is 'spread out in time'."
   ]
  },
  {
   "cell_type": "code",
   "execution_count": 15,
   "metadata": {
    "scrolled": false
   },
   "outputs": [
    {
     "data": {
      "text/plain": [
       "Text(0.5, 1.0, 'Example timeseries of predictors')"
      ]
     },
     "execution_count": 15,
     "metadata": {},
     "output_type": "execute_result"
    },
    {
     "data": {
      "image/png": "[encoded data removed]",
      "text/plain": [
       "<Figure size 1080x360 with 1 Axes>"
      ]
     },
     "metadata": {
      "needs_background": "light"
     },
     "output_type": "display_data"
    }
   ],
   "source": [
    "fig, ax = plt.subplots(figsize=(15,5))\n",
    "\n",
    "X['lsp'][:60,0,0].plot(ax=ax, label='precipitation current day')\n",
    "X['lsp-5-11'][:60,0,0].plot(ax=ax, label='precipitation 5-11 days before')\n",
    "X['lsp-12-25'][:60,0,0].plot(ax=ax, label='precipitation 12-25 days before')\n",
    "ax.legend()\n",
    "plt.title('Example timeseries of predictors')"
   ]
  },
  {
   "cell_type": "code",
   "execution_count": 16,
   "metadata": {},
   "outputs": [
    {
     "data": {
      "text/plain": [
       "<xarray.Dataset>\n",
       "Dimensions:     (latitude: 13, longitude: 25, time: 5478)\n",
       "Coordinates:\n",
       "  * latitude    (latitude) float32 50.0 49.75 49.5 49.25 ... 47.5 47.25 47.0\n",
       "  * longitude   (longitude) float32 8.0 8.25 8.5 8.75 ... 13.25 13.5 13.75 14.0\n",
       "  * time        (time) datetime64[ns] 1981-01-01 1981-01-02 ... 1995-12-31\n",
       "Data variables:\n",
       "    lsp         (time, latitude, longitude) float32 ...\n",
       "    cp          (time, latitude, longitude) float32 ...\n",
       "    lsp-1       (time, latitude, longitude) float32 nan nan ... 8.196841e-05\n",
       "    lsp-2       (time, latitude, longitude) float32 nan nan ... 0.00036743758\n",
       "    lsp-3       (time, latitude, longitude) float32 nan nan ... 1.4202446e-05\n",
       "    lsp-4       (time, latitude, longitude) float32 nan nan ... 0.0053772996\n",
       "    lsp-5       (time, latitude, longitude) float32 nan nan ... 0.016994901\n",
       "    cp-1        (time, latitude, longitude) float32 nan nan ... 0.00027301\n",
       "    cp-2        (time, latitude, longitude) float32 nan nan nan ... 0.0 0.0 0.0\n",
       "    cp-3        (time, latitude, longitude) float32 nan nan nan ... 0.0 0.0 0.0\n",
       "    cp-4        (time, latitude, longitude) float32 nan nan ... 7.6766744e-05\n",
       "    cp-5        (time, latitude, longitude) float32 nan nan ... 0.001220766\n",
       "    lsp+1       (time, latitude, longitude) float32 0.0049987715 ... nan\n",
       "    lsp+2       (time, latitude, longitude) float32 0.008056709 ... nan\n",
       "    lsp+3       (time, latitude, longitude) float32 0.0010342747 ... nan\n",
       "    lsp+4       (time, latitude, longitude) float32 0.00042493164 ... nan\n",
       "    lsp+5       (time, latitude, longitude) float32 0.00489147 ... nan\n",
       "    lsp+6       (time, latitude, longitude) float32 0.00022080202 ... nan\n",
       "    lsp+7       (time, latitude, longitude) float32 0.00020471745 ... nan\n",
       "    lsp+8       (time, latitude, longitude) float32 0.002191882 ... nan\n",
       "    lsp+9       (time, latitude, longitude) float32 0.0060247635 ... nan\n",
       "    lsp+10      (time, latitude, longitude) float32 0.0002563911 ... nan\n",
       "    lsp+11      (time, latitude, longitude) float32 0.003253944 ... nan\n",
       "    lsp+12      (time, latitude, longitude) float32 0.0015985703 ... nan\n",
       "    lsp+13      (time, latitude, longitude) float32 0.0058725746 ... nan\n",
       "    cp+1        (time, latitude, longitude) float32 0.001362356 ... nan\n",
       "    cp+2        (time, latitude, longitude) float32 0.0023405608 ... nan\n",
       "    cp+3        (time, latitude, longitude) float32 0.0017631453 ... nan\n",
       "    cp+4        (time, latitude, longitude) float32 0.0019625658 ... nan\n",
       "    cp+5        (time, latitude, longitude) float32 0.0016441087 ... nan\n",
       "    cp+6        (time, latitude, longitude) float32 1.6365105e-06 0.0 ... nan\n",
       "    cp+7        (time, latitude, longitude) float32 7.0136167e-07 0.0 ... nan\n",
       "    cp+8        (time, latitude, longitude) float32 3.117163e-06 ... nan\n",
       "    cp+9        (time, latitude, longitude) float32 0.00019673194 ... nan\n",
       "    cp+10       (time, latitude, longitude) float32 0.0 1.4066198e-05 ... nan\n",
       "    cp+11       (time, latitude, longitude) float32 0.0 0.0 0.0 ... nan nan nan\n",
       "    cp+12       (time, latitude, longitude) float32 6.129122e-05 ... nan\n",
       "    cp+13       (time, latitude, longitude) float32 0.0 0.0 0.0 ... nan nan nan\n",
       "    lsp-5-11    (time, latitude, longitude) float32 nan nan ... 0.003649181\n",
       "    lsp-12-25   (time, latitude, longitude) float32 nan nan ... 0.0019519344\n",
       "    lsp-26-55   (time, latitude, longitude) float32 nan nan ... 0.00087649975\n",
       "    lsp-56-180  (time, latitude, longitude) float32 nan nan ... 0.0010649478"
      ]
     },
     "execution_count": 16,
     "metadata": {},
     "output_type": "execute_result"
    }
   ],
   "source": [
    "X"
   ]
  },
  {
   "cell_type": "code",
   "execution_count": 17,
   "metadata": {},
   "outputs": [],
   "source": [
    "from python.aux.utils_floodmodel import reshape_multiday_predictand"
   ]
  },
  {
   "cell_type": "code",
   "execution_count": 18,
   "metadata": {},
   "outputs": [
    {
     "data": {
      "text/plain": [
       "<xarray.DataArray (forecast_day: 14, time: 5478)>\n",
       "array([[798.361572, 792.207703, 796.706116, ..., 783.30896 , 782.144958,\n",
       "        778.828003],\n",
       "       [792.207703, 796.706116, 814.23584 , ..., 782.144958, 778.828003,\n",
       "               nan],\n",
       "       [796.706116, 814.23584 , 819.019653, ..., 778.828003,        nan,\n",
       "               nan],\n",
       "       ...,\n",
       "       [792.431763, 788.05072 , 783.429138, ...,        nan,        nan,\n",
       "               nan],\n",
       "       [788.05072 , 783.429138, 779.090576, ...,        nan,        nan,\n",
       "               nan],\n",
       "       [783.429138, 779.090576, 775.803223, ...,        nan,        nan,\n",
       "               nan]])\n",
       "Coordinates:\n",
       "  * time          (time) datetime64[ns] 1981-01-01 1981-01-02 ... 1995-12-31\n",
       "    latitude      float64 48.35\n",
       "    longitude     float64 13.95\n",
       "  * forecast_day  (forecast_day) int64 1 2 3 4 5 6 7 8 9 10 11 12 13 14"
      ]
     },
     "execution_count": 18,
     "metadata": {},
     "output_type": "execute_result"
    }
   ],
   "source": [
    "y = glofas['dis'].interp(latitude=lat, longitude=lon)\n",
    "\n",
    "var = y.name\n",
    "y = y.to_dataset()\n",
    "for i in range(1,14):\n",
    "    newvar = var+'+'+str(i)\n",
    "    y[newvar] = y[var].shift(time=-i) # future precip as current day variable\n",
    "y = y.to_array(dim='forecast_day')\n",
    "y.coords['forecast_day'] = range(1,len(y.forecast_day)+1)\n",
    "y"
   ]
  },
  {
   "cell_type": "code",
   "execution_count": 19,
   "metadata": {},
   "outputs": [],
   "source": [
    "# aggregate over the space dimension (more complex in the next notebook)\n",
    "Xagg = X.mean(['latitude', 'longitude'])\n",
    "\n",
    "Xda, yda = reshape_multiday_predictand(Xagg, y)"
   ]
  },
  {
   "cell_type": "markdown",
   "metadata": {},
   "source": [
    "Now we have both the X array and the y array which can be used to train the 14 day forecast of the neural network.\n",
    "But this will be the focus of another part-3 notebook in the folder `notebooks/3_model_tests/`."
   ]
  },
  {
   "cell_type": "markdown",
   "metadata": {},
   "source": [
    "## 2. Spatially aggregated predictors\n",
    "We can either take the total sum of precipitation that falls throughout the basin, or we can aggregate it by time to the point of interest (POI). As we can see from the discharge plot above, points with less mean discharge are further away from the POI compared to gridpoints with a lighter color. This is the motivation to cluster the precipitation points by the mean discharge of the gridpoint. So we need discharge bins, according to which the precipitation at these gridpoints is grouped together to form one feature/predictor. \n",
    "\n",
    "For an equal number of points per bin, we can have a look on the percentiles of the discharge distribution. As a first guess let's take four clusters so that the percentiles 0.25, 0.5 and 0.75 are our threshold values between the four clusters: "
   ]
  },
  {
   "cell_type": "code",
   "execution_count": 20,
   "metadata": {},
   "outputs": [
    {
     "name": "stdout",
     "output_type": "stream",
     "text": [
      "percentile 0.25 :  1.028 m^3/s\n",
      "percentile 0.5 :  2.902 m^3/s\n",
      "percentile 0.75 :  12.308 m^3/s\n"
     ]
    }
   ],
   "source": [
    "for q in [0.25, .5, .75]:\n",
    "    print('percentile', q, ': ', round(float(dis_mean.quantile(q)),3), 'm^3/s')"
   ]
  },
  {
   "cell_type": "markdown",
   "metadata": {},
   "source": [
    "Points with less than 0.8 $m^3/s$ discharge are the first cluster, points with 0.8-2.5 $m^3/s$ another cluster and so on. Finally we can add a visual to this, the cumulative distribution of discharges."
   ]
  },
  {
   "cell_type": "code",
   "execution_count": 21,
   "metadata": {},
   "outputs": [
    {
     "data": {
      "text/plain": [
       "Text(0.5, 0, 'discharge [m$^3$/s]')"
      ]
     },
     "execution_count": 21,
     "metadata": {},
     "output_type": "execute_result"
    },
    {
     "data": {
      "image/png": "[encoded data removed]",
      "text/plain": [
       "<Figure size 432x288 with 1 Axes>"
      ]
     },
     "metadata": {
      "needs_background": "light"
     },
     "output_type": "display_data"
    }
   ],
   "source": [
    "dist = dis_mean.values.ravel()\n",
    "sns.distplot(dist, bins=np.logspace(-1, 4), hist_kws=dict(cumulative=True))\n",
    "plt.xlim(0,100)\n",
    "plt.grid()\n",
    "plt.ylabel('cumulative distribution')\n",
    "plt.xlabel('discharge [m$^3$/s]')"
   ]
  },
  {
   "cell_type": "markdown",
   "metadata": {},
   "source": [
    "We see that 80 percent of all gridpoints exhibit a mean discharge of less than 20 m^3/s, and that there is a sharp change in slope between 5 and 10 m^3/s discharge."
   ]
  },
  {
   "cell_type": "markdown",
   "metadata": {},
   "source": [
    "### Create the clusters-masks"
   ]
  },
  {
   "cell_type": "code",
   "execution_count": 22,
   "metadata": {},
   "outputs": [],
   "source": [
    "from python.aux.utils_floodmodel import cluster_by_discharge\n",
    "from python.aux.utils import calc_area, nandot\n",
    "\n",
    "bin_edges = [0, 0.8, 2.5, 10.25, 10000]\n",
    "cluster = cluster_by_discharge(dis_mean, bin_edges)"
   ]
  },
  {
   "cell_type": "code",
   "execution_count": 23,
   "metadata": {
    "scrolled": false
   },
   "outputs": [
    {
     "data": {
      "image/png": "[encoded data removed]",
      "text/plain": [
       "<Figure size 432x288 with 2 Axes>"
      ]
     },
     "metadata": {
      "needs_background": "light"
     },
     "output_type": "display_data"
    },
    {
     "data": {
      "image/png": "[encoded data removed]",
      "text/plain": [
       "<Figure size 432x288 with 2 Axes>"
      ]
     },
     "metadata": {
      "needs_background": "light"
     },
     "output_type": "display_data"
    },
    {
     "data": {
      "image/png": "[encoded data removed]",
      "text/plain": [
       "<Figure size 432x288 with 2 Axes>"
      ]
     },
     "metadata": {
      "needs_background": "light"
     },
     "output_type": "display_data"
    },
    {
     "data": {
      "image/png": "[encoded data removed]",
      "text/plain": [
       "<Figure size 432x288 with 2 Axes>"
      ]
     },
     "metadata": {
      "needs_background": "light"
     },
     "output_type": "display_data"
    }
   ],
   "source": [
    "for c in cluster:\n",
    "    plt.figure()\n",
    "    cluster[c].plot()\n",
    "    plt.title('#points: '+str(int(cluster[c].sum())))"
   ]
  },
  {
   "cell_type": "markdown",
   "metadata": {},
   "source": [
    "To create an image with all clusters in one image, \n",
    "we will create a label-array containing a number between 0 and 3 for every gridpoint \n",
    "that classifies each gridpoint belonging to one of the four categories. \n",
    "\n",
    "In numpy you would probably use the numpy boolean masking operation:\n",
    "```\n",
    "for i in range(len(clusters)):\n",
    "    image[clustering[c]] = i  ```\n",
    "but you would notice an `IndexError`, as xarray does not support 2-dimensional boolean indexing. So we have to formulate it this way: `image = image.where(~clustering[c], i)`, where not 'this cluster', do nothing, else overwrite with the cluster index"
   ]
  },
  {
   "cell_type": "code",
   "execution_count": 24,
   "metadata": {},
   "outputs": [
    {
     "data": {
      "text/plain": [
       "<matplotlib.collections.QuadMesh at 0x7f25eaf29f60>"
      ]
     },
     "execution_count": 24,
     "metadata": {},
     "output_type": "execute_result"
    },
    {
     "data": {
      "image/png": "[encoded data removed]",
      "text/plain": [
       "<Figure size 432x288 with 2 Axes>"
      ]
     },
     "metadata": {
      "needs_background": "light"
     },
     "output_type": "display_data"
    }
   ],
   "source": [
    "image = dis_mean*0.\n",
    "image.name = 'spatial feature cluster'\n",
    "for i, c in enumerate(cluster):\n",
    "    image = image.where(~cluster[c], i)\n",
    "    \n",
    "image.plot(cmap = mpl.colors.ListedColormap(['grey', 'orange', 'blue', 'darkblue']))"
   ]
  },
  {
   "cell_type": "markdown",
   "metadata": {},
   "source": [
    "These are the gridpoints that are aggregated together to form one precipitation feature for the forecast model. For precipitation that is older than a few days, only the first cluster is of interest. Precipitation that occured on the other gridpoints is already transported outside of the domain for sure.\n"
   ]
  },
  {
   "cell_type": "code",
   "execution_count": 25,
   "metadata": {},
   "outputs": [
    {
     "data": {
      "text/plain": [
       "Coordinates:\n",
       "  * longitude  (longitude) float64 8.05 8.15 8.25 8.35 ... 13.75 13.85 13.95\n",
       "  * latitude   (latitude) float64 49.95 49.85 49.75 49.65 ... 47.25 47.15 47.05\n",
       "  * clusterId  (clusterId) <U1 '0' '1' '2' '3'"
      ]
     },
     "execution_count": 25,
     "metadata": {},
     "output_type": "execute_result"
    }
   ],
   "source": [
    "cluster = cluster.to_array('clusterId')\n",
    "cluster.coords "
   ]
  },
  {
   "cell_type": "code",
   "execution_count": 26,
   "metadata": {},
   "outputs": [],
   "source": [
    "def aggregate_clustersum(ds, cluster, clusterdim):\n",
    "    \"\"\"Aggregate a 3-dimensional array over certain points (latitude, longitude).\n",
    "\n",
    "    Parameters\n",
    "    ----------\n",
    "    ds : xr.Dataset\n",
    "        the array to aggregate (collapse) spatially\n",
    "    cluster : xr.DataArray\n",
    "        3-dimensional array (clusterdim, latitude, longitude),\n",
    "        `clusterdim` contains the True/False mask of points to aggregate over\n",
    "        e.g. len(clusterdim)=4 means you have 4 clusters\n",
    "    clusterdim : str\n",
    "        dimension name to access the different True/False masks\n",
    "\n",
    "    Returns\n",
    "    -------\n",
    "    xr.DataArray\n",
    "        1-dimensional\n",
    "    \"\"\"\n",
    "    out = xr.Dataset()\n",
    "\n",
    "    # enforce same coordinates\n",
    "    interp = True\n",
    "    if (len(ds.latitude.values) == len(cluster.latitude.values) and\n",
    "            len(ds.longitude.values) == len(cluster.longitude.values)):\n",
    "        if (np.allclose(ds.latitude.values, cluster.latitude.values) and\n",
    "                np.allclose(ds.longitude.values, cluster.longitude.values)):\n",
    "            interp = False\n",
    "    if interp:\n",
    "        ds = ds.interp(latitude=cluster.latitude, longitude=cluster.longitude)\n",
    "    area_per_gridpoint = calc_area(ds.isel(time=0))\n",
    "\n",
    "    if isinstance(ds, xr.DataArray):\n",
    "        ds = ds.to_dataset()\n",
    "\n",
    "    for var in ds:\n",
    "        for cl in cluster.coords[clusterdim]:\n",
    "            newname = var+'_cluster'+str(cl.values)\n",
    "            this_cluster = cluster.sel({clusterdim: cl})\n",
    "\n",
    "            da = ds[var].where(this_cluster, 0.)  # no contribution from outside cluster\n",
    "            #print(da)\n",
    "            out[newname] = xr.dot(da, area_per_gridpoint)\n",
    "    return out.drop(clusterdim)"
   ]
  },
  {
   "cell_type": "code",
   "execution_count": 27,
   "metadata": {},
   "outputs": [],
   "source": [
    "# later, we can import the function from here\n",
    "# from python.aux.utils_flowmodel import aggregate_clustersum"
   ]
  },
  {
   "cell_type": "code",
   "execution_count": 28,
   "metadata": {
    "scrolled": false
   },
   "outputs": [],
   "source": [
    "Xagg = aggregate_clustersum(X, cluster, 'clusterId')"
   ]
  },
  {
   "cell_type": "code",
   "execution_count": 29,
   "metadata": {},
   "outputs": [],
   "source": [
    "# drop these predictors\n",
    "for v in Xagg:\n",
    "    if 'cluster0' in v:\n",
    "        for vn in ['lsp-5-11', 'lsp-12-25', 'lsp-26-55', 'lsp-56-180']:\n",
    "            if vn in v:\n",
    "                Xagg = Xagg.drop(v)\n",
    "                break"
   ]
  },
  {
   "cell_type": "code",
   "execution_count": 30,
   "metadata": {},
   "outputs": [],
   "source": [
    "# drop these predictors (predictand time)\n",
    "for v in Xagg:\n",
    "    for vn in ['lsp_cluster', 'cp_cluster']:\n",
    "        if v.startswith(vn):\n",
    "            Xagg = Xagg.drop(v)\n",
    "            break"
   ]
  },
  {
   "cell_type": "code",
   "execution_count": 31,
   "metadata": {
    "scrolled": false
   },
   "outputs": [
    {
     "data": {
      "text/plain": [
       "<xarray.Dataset>\n",
       "Dimensions:              (time: 5478)\n",
       "Coordinates:\n",
       "  * time                 (time) datetime64[ns] 1981-01-01 ... 1995-12-31\n",
       "Data variables:\n",
       "    lsp-1_cluster0       (time) float64 nan 4.996e+07 ... 9.055e+04 7.971e+06\n",
       "    lsp-1_cluster1       (time) float64 nan 7.525e+07 ... 1.457e+06 1.122e+07\n",
       "    lsp-1_cluster2       (time) float64 nan 1.256e+08 ... 5.339e+06 8.772e+06\n",
       "    lsp-1_cluster3       (time) float64 nan 8.867e+07 ... 2.979e+06 7.407e+06\n",
       "    lsp-2_cluster0       (time) float64 nan nan ... 3.612e+05 9.055e+04\n",
       "    lsp-2_cluster1       (time) float64 nan nan ... 1.726e+06 1.457e+06\n",
       "    lsp-2_cluster2       (time) float64 nan nan ... 3.908e+06 5.339e+06\n",
       "    lsp-2_cluster3       (time) float64 nan nan ... 2.755e+06 2.979e+06\n",
       "    lsp-3_cluster0       (time) float64 nan nan nan ... 1.002e+07 3.612e+05\n",
       "    lsp-3_cluster1       (time) float64 nan nan nan ... 5.575e+07 1.726e+06\n",
       "    lsp-3_cluster2       (time) float64 nan nan nan ... 1.19e+08 3.908e+06\n",
       "    lsp-3_cluster3       (time) float64 nan nan nan ... 8.31e+07 2.755e+06\n",
       "    lsp-4_cluster0       (time) float64 nan nan nan ... 5.474e+07 1.002e+07\n",
       "    lsp-4_cluster1       (time) float64 nan nan nan ... 1.895e+08 5.575e+07\n",
       "    lsp-4_cluster2       (time) float64 nan nan nan ... 3.179e+08 1.19e+08\n",
       "    lsp-4_cluster3       (time) float64 nan nan nan ... 2.422e+08 8.31e+07\n",
       "    lsp-5_cluster0       (time) float64 nan nan nan ... 1.155e+08 5.474e+07\n",
       "    lsp-5_cluster1       (time) float64 nan nan nan ... 2.321e+08 1.895e+08\n",
       "    lsp-5_cluster2       (time) float64 nan nan nan ... 2.887e+08 3.179e+08\n",
       "    lsp-5_cluster3       (time) float64 nan nan nan ... 2.538e+08 2.422e+08\n",
       "    cp-1_cluster0        (time) float64 nan 5.482e+07 1.906e+07 ... 0.0 0.0\n",
       "    cp-1_cluster1        (time) float64 nan 7.078e+07 ... 1.742e+03 3.849e+05\n",
       "    cp-1_cluster2        (time) float64 nan 9.846e+07 ... 1.065e+04 1.282e+06\n",
       "    cp-1_cluster3        (time) float64 nan 8.35e+07 ... 1.002e+04 6.164e+05\n",
       "    cp-2_cluster0        (time) float64 nan nan 5.482e+07 ... 186.0 0.0\n",
       "    cp-2_cluster1        (time) float64 nan nan ... 1.186e+04 1.742e+03\n",
       "    cp-2_cluster2        (time) float64 nan nan ... 5.817e+04 1.065e+04\n",
       "    cp-2_cluster3        (time) float64 nan nan 8.35e+07 ... 4.004e+04 1.002e+04\n",
       "    cp-3_cluster0        (time) float64 nan nan nan ... 1.792e+06 186.0\n",
       "    cp-3_cluster1        (time) float64 nan nan nan ... 6.267e+06 1.186e+04\n",
       "    cp-3_cluster2        (time) float64 nan nan nan ... 1.577e+07 5.817e+04\n",
       "    cp-3_cluster3        (time) float64 nan nan nan ... 1.203e+07 4.004e+04\n",
       "    cp-4_cluster0        (time) float64 nan nan nan ... 1.942e+06 1.792e+06\n",
       "    cp-4_cluster1        (time) float64 nan nan nan ... 1.078e+07 6.267e+06\n",
       "    cp-4_cluster2        (time) float64 nan nan nan ... 2.776e+07 1.577e+07\n",
       "    cp-4_cluster3        (time) float64 nan nan nan ... 1.932e+07 1.203e+07\n",
       "    cp-5_cluster0        (time) float64 nan nan nan ... 2.77e+07 1.942e+06\n",
       "    cp-5_cluster1        (time) float64 nan nan nan ... 4.484e+07 1.078e+07\n",
       "    cp-5_cluster2        (time) float64 nan nan nan ... 6.439e+07 2.776e+07\n",
       "    cp-5_cluster3        (time) float64 nan nan nan ... 5.331e+07 1.932e+07\n",
       "    lsp+1_cluster0       (time) float64 2.12e+08 3.301e+08 ... 1.25e+06 nan\n",
       "    lsp+1_cluster1       (time) float64 2.893e+08 3.483e+08 ... 1.601e+07 nan\n",
       "    lsp+1_cluster2       (time) float64 3.972e+08 4.049e+08 ... 5.351e+07 nan\n",
       "    lsp+1_cluster3       (time) float64 3.254e+08 3.652e+08 ... 2.891e+07 nan\n",
       "    lsp+2_cluster0       (time) float64 3.301e+08 4.253e+07 ... nan nan\n",
       "    lsp+2_cluster1       (time) float64 3.483e+08 1.319e+08 ... nan nan\n",
       "    lsp+2_cluster2       (time) float64 4.049e+08 3.105e+08 ... nan nan\n",
       "    lsp+2_cluster3       (time) float64 3.652e+08 2.022e+08 ... nan nan\n",
       "    lsp+3_cluster0       (time) float64 4.253e+07 3.578e+07 ... nan nan\n",
       "    lsp+3_cluster1       (time) float64 1.319e+08 9.977e+07 1.99e+08 ... nan nan\n",
       "    lsp+3_cluster2       (time) float64 3.105e+08 2.476e+08 ... nan nan\n",
       "    lsp+3_cluster3       (time) float64 2.022e+08 1.544e+08 ... nan nan\n",
       "    lsp+4_cluster0       (time) float64 3.578e+07 9.087e+07 ... nan nan\n",
       "    lsp+4_cluster1       (time) float64 9.977e+07 1.99e+08 7.727e+07 ... nan nan\n",
       "    lsp+4_cluster2       (time) float64 2.476e+08 3.492e+08 ... nan nan\n",
       "    lsp+4_cluster3       (time) float64 1.544e+08 2.628e+08 ... nan nan\n",
       "    lsp+5_cluster0       (time) float64 9.087e+07 2.865e+07 ... nan nan\n",
       "    lsp+5_cluster1       (time) float64 1.99e+08 7.727e+07 2.342e+07 ... nan nan\n",
       "    lsp+5_cluster2       (time) float64 3.492e+08 1.913e+08 ... nan nan\n",
       "    lsp+5_cluster3       (time) float64 2.628e+08 1.274e+08 ... nan nan\n",
       "    lsp+6_cluster0       (time) float64 2.865e+07 5.395e+06 ... nan nan\n",
       "    lsp+6_cluster1       (time) float64 7.727e+07 2.342e+07 6.69e+06 ... nan nan\n",
       "    lsp+6_cluster2       (time) float64 1.913e+08 6.051e+07 ... nan nan\n",
       "    lsp+6_cluster3       (time) float64 1.274e+08 4.053e+07 ... nan nan\n",
       "    lsp+7_cluster0       (time) float64 5.395e+06 1.035e+07 ... nan nan\n",
       "    lsp+7_cluster1       (time) float64 2.342e+07 6.69e+06 3.826e+07 ... nan nan\n",
       "    lsp+7_cluster2       (time) float64 6.051e+07 4.365e+06 2.89e+07 ... nan nan\n",
       "    lsp+7_cluster3       (time) float64 4.053e+07 3.519e+06 ... nan nan\n",
       "    lsp+8_cluster0       (time) float64 1.035e+07 5.641e+07 ... nan nan\n",
       "    lsp+8_cluster1       (time) float64 6.69e+06 3.826e+07 8.714e+06 ... nan nan\n",
       "    lsp+8_cluster2       (time) float64 4.365e+06 2.89e+07 8.019e+06 ... nan nan\n",
       "    lsp+8_cluster3       (time) float64 3.519e+06 3.048e+07 ... nan nan\n",
       "    lsp+9_cluster0       (time) float64 5.641e+07 9.815e+06 ... nan nan\n",
       "    lsp+9_cluster1       (time) float64 3.826e+07 8.714e+06 ... nan nan\n",
       "    lsp+9_cluster2       (time) float64 2.89e+07 8.019e+06 2.249e+06 ... nan nan\n",
       "    lsp+9_cluster3       (time) float64 3.048e+07 7.752e+06 ... nan nan\n",
       "    lsp+10_cluster0      (time) float64 9.815e+06 5.049e+06 2.34e+07 ... nan nan\n",
       "    lsp+10_cluster1      (time) float64 8.714e+06 3.768e+06 ... nan nan\n",
       "    lsp+10_cluster2      (time) float64 8.019e+06 2.249e+06 8.69e+07 ... nan nan\n",
       "    lsp+10_cluster3      (time) float64 7.752e+06 2.108e+06 ... nan nan\n",
       "    lsp+11_cluster0      (time) float64 5.049e+06 2.34e+07 3.222e+07 ... nan nan\n",
       "    lsp+11_cluster1      (time) float64 3.768e+06 5.156e+07 ... nan nan\n",
       "    lsp+11_cluster2      (time) float64 2.249e+06 8.69e+07 2.808e+07 ... nan nan\n",
       "    lsp+11_cluster3      (time) float64 2.108e+06 6.231e+07 ... nan nan\n",
       "    lsp+12_cluster0      (time) float64 2.34e+07 3.222e+07 2.403e+08 ... nan nan\n",
       "    lsp+12_cluster1      (time) float64 5.156e+07 2.589e+07 ... nan nan\n",
       "    lsp+12_cluster2      (time) float64 8.69e+07 2.808e+07 3.02e+08 ... nan nan\n",
       "    lsp+12_cluster3      (time) float64 6.231e+07 2.135e+07 ... nan nan\n",
       "    lsp+13_cluster0      (time) float64 3.222e+07 2.403e+08 ... nan nan\n",
       "    lsp+13_cluster1      (time) float64 2.589e+07 2.576e+08 ... nan nan\n",
       "    lsp+13_cluster2      (time) float64 2.808e+07 3.02e+08 1.303e+08 ... nan nan\n",
       "    lsp+13_cluster3      (time) float64 2.135e+07 2.632e+08 ... nan nan\n",
       "    cp+1_cluster0        (time) float64 1.906e+07 7.959e+07 ... 7.634e+05 nan\n",
       "    cp+1_cluster1        (time) float64 2.61e+07 7.333e+07 ... 6.818e+05 nan\n",
       "    cp+1_cluster2        (time) float64 3.832e+07 7.104e+07 ... 1.05e+06 nan\n",
       "    cp+1_cluster3        (time) float64 3.462e+07 7.456e+07 ... 5.767e+05 nan\n",
       "    cp+2_cluster0        (time) float64 7.959e+07 6.876e+07 ... nan nan\n",
       "    cp+2_cluster1        (time) float64 7.333e+07 9.186e+07 ... nan nan\n",
       "    cp+2_cluster2        (time) float64 7.104e+07 1.421e+08 ... nan nan\n",
       "    cp+2_cluster3        (time) float64 7.456e+07 1.14e+08 1.159e+08 ... nan nan\n",
       "    cp+3_cluster0        (time) float64 6.876e+07 4.456e+07 ... nan nan\n",
       "    cp+3_cluster1        (time) float64 9.186e+07 8.469e+07 ... nan nan\n",
       "    cp+3_cluster2        (time) float64 1.421e+08 1.538e+08 ... nan nan\n",
       "    cp+3_cluster3        (time) float64 1.14e+08 1.159e+08 5.687e+07 ... nan nan\n",
       "    cp+4_cluster0        (time) float64 4.456e+07 2.394e+07 ... nan nan\n",
       "    cp+4_cluster1        (time) float64 8.469e+07 5.031e+07 ... nan nan\n",
       "    cp+4_cluster2        (time) float64 1.538e+08 7.609e+07 ... nan nan\n",
       "    cp+4_cluster3        (time) float64 1.159e+08 5.687e+07 2.94e+07 ... nan nan\n",
       "    cp+5_cluster0        (time) float64 2.394e+07 7.634e+06 9.87e+05 ... nan nan\n",
       "    cp+5_cluster1        (time) float64 5.031e+07 2.049e+07 ... nan nan\n",
       "    cp+5_cluster2        (time) float64 7.609e+07 4.115e+07 ... nan nan\n",
       "    cp+5_cluster3        (time) float64 5.687e+07 2.94e+07 6.45e+06 ... nan nan\n",
       "    cp+6_cluster0        (time) float64 7.634e+06 9.87e+05 2.15e+05 ... nan nan\n",
       "    cp+6_cluster1        (time) float64 2.049e+07 3.499e+06 ... nan nan\n",
       "    cp+6_cluster2        (time) float64 4.115e+07 6.888e+06 ... nan nan\n",
       "    cp+6_cluster3        (time) float64 2.94e+07 6.45e+06 1.057e+04 ... nan nan\n",
       "    cp+7_cluster0        (time) float64 9.87e+05 2.15e+05 5.732e+06 ... nan nan\n",
       "    cp+7_cluster1        (time) float64 3.499e+06 8.149e+04 ... nan nan\n",
       "    cp+7_cluster2        (time) float64 6.888e+06 1.381e+04 ... nan nan\n",
       "    cp+7_cluster3        (time) float64 6.45e+06 1.057e+04 5.575e+06 ... nan nan\n",
       "    cp+8_cluster0        (time) float64 2.15e+05 5.732e+06 1.296e+03 ... nan nan\n",
       "    cp+8_cluster1        (time) float64 8.149e+04 6.934e+06 ... nan nan\n",
       "    cp+8_cluster2        (time) float64 1.381e+04 4.856e+06 ... nan nan\n",
       "    cp+8_cluster3        (time) float64 1.057e+04 5.575e+06 3.01e+04 ... nan nan\n",
       "    cp+9_cluster0        (time) float64 5.732e+06 1.296e+03 ... nan nan\n",
       "    cp+9_cluster1        (time) float64 6.934e+06 3.311e+04 ... nan nan\n",
       "    cp+9_cluster2        (time) float64 4.856e+06 1.114e+04 ... nan nan\n",
       "    cp+9_cluster3        (time) float64 5.575e+06 3.01e+04 1.213e+06 ... nan nan\n",
       "    cp+10_cluster0       (time) float64 1.296e+03 9.896e+05 ... nan nan\n",
       "    cp+10_cluster1       (time) float64 3.311e+04 1.462e+06 2.97e+06 ... nan nan\n",
       "    cp+10_cluster2       (time) float64 1.114e+04 9.819e+05 ... nan nan\n",
       "    cp+10_cluster3       (time) float64 3.01e+04 1.213e+06 2.657e+06 ... nan nan\n",
       "    cp+11_cluster0       (time) float64 9.896e+05 1.172e+06 ... nan nan\n",
       "    cp+11_cluster1       (time) float64 1.462e+06 2.97e+06 3.416e+05 ... nan nan\n",
       "    cp+11_cluster2       (time) float64 9.819e+05 3.111e+06 ... nan nan\n",
       "    cp+11_cluster3       (time) float64 1.213e+06 2.657e+06 ... nan nan\n",
       "    cp+12_cluster0       (time) float64 1.172e+06 2.398e+05 ... nan nan\n",
       "    cp+12_cluster1       (time) float64 2.97e+06 3.416e+05 5.685e+07 ... nan nan\n",
       "    cp+12_cluster2       (time) float64 3.111e+06 6.768e+05 ... nan nan\n",
       "    cp+12_cluster3       (time) float64 2.657e+06 5.383e+05 ... nan nan\n",
       "    cp+13_cluster0       (time) float64 2.398e+05 2.919e+07 ... nan nan\n",
       "    cp+13_cluster1       (time) float64 3.416e+05 5.685e+07 ... nan nan\n",
       "    cp+13_cluster2       (time) float64 6.768e+05 9.869e+07 ... nan nan\n",
       "    cp+13_cluster3       (time) float64 5.383e+05 6.933e+07 4.55e+07 ... nan nan\n",
       "    lsp-5-11_cluster1    (time) float64 nan nan nan ... 1.575e+08 1.803e+08\n",
       "    lsp-5-11_cluster2    (time) float64 nan nan nan ... 1.78e+08 2.185e+08\n",
       "    lsp-5-11_cluster3    (time) float64 nan nan nan ... 1.638e+08 1.94e+08\n",
       "    lsp-12-25_cluster1   (time) float64 nan nan nan ... 3.025e+07 3.177e+07\n",
       "    lsp-12-25_cluster2   (time) float64 nan nan nan ... 5.022e+07 5.167e+07\n",
       "    lsp-12-25_cluster3   (time) float64 nan nan nan ... 3.927e+07 4.068e+07\n",
       "    lsp-26-55_cluster1   (time) float64 nan nan nan ... 4.374e+07 4.202e+07\n",
       "    lsp-26-55_cluster2   (time) float64 nan nan nan ... 6.229e+07 5.787e+07\n",
       "    lsp-26-55_cluster3   (time) float64 nan nan nan ... 5.178e+07 4.878e+07\n",
       "    lsp-56-180_cluster1  (time) float64 nan nan nan ... 3.864e+07 3.878e+07\n",
       "    lsp-56-180_cluster2  (time) float64 nan nan nan ... 6.123e+07 6.169e+07\n",
       "    lsp-56-180_cluster3  (time) float64 nan nan nan ... 5.024e+07 5.052e+07"
      ]
     },
     "execution_count": 31,
     "metadata": {},
     "output_type": "execute_result"
    }
   ],
   "source": [
    "if False:  # alternative: aggregating over space by taking the mean\n",
    "    Xagg = X.mean(['latitude', 'longitude'])"
   ]
  },
  {
   "cell_type": "code",
   "execution_count": 32,
   "metadata": {
    "scrolled": false
   },
   "outputs": [
    {
     "data": {
      "text/plain": [
       "<xarray.Dataset>\n",
       "Dimensions:              (time: 5478)\n",
       "Coordinates:\n",
       "  * time                 (time) datetime64[ns] 1981-01-01 ... 1995-12-31\n",
       "Data variables:\n",
       "    lsp-1_cluster0       (time) float64 nan 4.996e+07 ... 9.055e+04 7.971e+06\n",
       "    lsp-1_cluster1       (time) float64 nan 7.525e+07 ... 1.457e+06 1.122e+07\n",
       "    lsp-1_cluster2       (time) float64 nan 1.256e+08 ... 5.339e+06 8.772e+06\n",
       "    lsp-1_cluster3       (time) float64 nan 8.867e+07 ... 2.979e+06 7.407e+06\n",
       "    lsp-2_cluster0       (time) float64 nan nan ... 3.612e+05 9.055e+04\n",
       "    lsp-2_cluster1       (time) float64 nan nan ... 1.726e+06 1.457e+06\n",
       "    lsp-2_cluster2       (time) float64 nan nan ... 3.908e+06 5.339e+06\n",
       "    lsp-2_cluster3       (time) float64 nan nan ... 2.755e+06 2.979e+06\n",
       "    lsp-3_cluster0       (time) float64 nan nan nan ... 1.002e+07 3.612e+05\n",
       "    lsp-3_cluster1       (time) float64 nan nan nan ... 5.575e+07 1.726e+06\n",
       "    lsp-3_cluster2       (time) float64 nan nan nan ... 1.19e+08 3.908e+06\n",
       "    lsp-3_cluster3       (time) float64 nan nan nan ... 8.31e+07 2.755e+06\n",
       "    lsp-4_cluster0       (time) float64 nan nan nan ... 5.474e+07 1.002e+07\n",
       "    lsp-4_cluster1       (time) float64 nan nan nan ... 1.895e+08 5.575e+07\n",
       "    lsp-4_cluster2       (time) float64 nan nan nan ... 3.179e+08 1.19e+08\n",
       "    lsp-4_cluster3       (time) float64 nan nan nan ... 2.422e+08 8.31e+07\n",
       "    lsp-5_cluster0       (time) float64 nan nan nan ... 1.155e+08 5.474e+07\n",
       "    lsp-5_cluster1       (time) float64 nan nan nan ... 2.321e+08 1.895e+08\n",
       "    lsp-5_cluster2       (time) float64 nan nan nan ... 2.887e+08 3.179e+08\n",
       "    lsp-5_cluster3       (time) float64 nan nan nan ... 2.538e+08 2.422e+08\n",
       "    cp-1_cluster0        (time) float64 nan 5.482e+07 1.906e+07 ... 0.0 0.0\n",
       "    cp-1_cluster1        (time) float64 nan 7.078e+07 ... 1.742e+03 3.849e+05\n",
       "    cp-1_cluster2        (time) float64 nan 9.846e+07 ... 1.065e+04 1.282e+06\n",
       "    cp-1_cluster3        (time) float64 nan 8.35e+07 ... 1.002e+04 6.164e+05\n",
       "    cp-2_cluster0        (time) float64 nan nan 5.482e+07 ... 186.0 0.0\n",
       "    cp-2_cluster1        (time) float64 nan nan ... 1.186e+04 1.742e+03\n",
       "    cp-2_cluster2        (time) float64 nan nan ... 5.817e+04 1.065e+04\n",
       "    cp-2_cluster3        (time) float64 nan nan 8.35e+07 ... 4.004e+04 1.002e+04\n",
       "    cp-3_cluster0        (time) float64 nan nan nan ... 1.792e+06 186.0\n",
       "    cp-3_cluster1        (time) float64 nan nan nan ... 6.267e+06 1.186e+04\n",
       "    cp-3_cluster2        (time) float64 nan nan nan ... 1.577e+07 5.817e+04\n",
       "    cp-3_cluster3        (time) float64 nan nan nan ... 1.203e+07 4.004e+04\n",
       "    cp-4_cluster0        (time) float64 nan nan nan ... 1.942e+06 1.792e+06\n",
       "    cp-4_cluster1        (time) float64 nan nan nan ... 1.078e+07 6.267e+06\n",
       "    cp-4_cluster2        (time) float64 nan nan nan ... 2.776e+07 1.577e+07\n",
       "    cp-4_cluster3        (time) float64 nan nan nan ... 1.932e+07 1.203e+07\n",
       "    cp-5_cluster0        (time) float64 nan nan nan ... 2.77e+07 1.942e+06\n",
       "    cp-5_cluster1        (time) float64 nan nan nan ... 4.484e+07 1.078e+07\n",
       "    cp-5_cluster2        (time) float64 nan nan nan ... 6.439e+07 2.776e+07\n",
       "    cp-5_cluster3        (time) float64 nan nan nan ... 5.331e+07 1.932e+07\n",
       "    lsp+1_cluster0       (time) float64 2.12e+08 3.301e+08 ... 1.25e+06 nan\n",
       "    lsp+1_cluster1       (time) float64 2.893e+08 3.483e+08 ... 1.601e+07 nan\n",
       "    lsp+1_cluster2       (time) float64 3.972e+08 4.049e+08 ... 5.351e+07 nan\n",
       "    lsp+1_cluster3       (time) float64 3.254e+08 3.652e+08 ... 2.891e+07 nan\n",
       "    lsp+2_cluster0       (time) float64 3.301e+08 4.253e+07 ... nan nan\n",
       "    lsp+2_cluster1       (time) float64 3.483e+08 1.319e+08 ... nan nan\n",
       "    lsp+2_cluster2       (time) float64 4.049e+08 3.105e+08 ... nan nan\n",
       "    lsp+2_cluster3       (time) float64 3.652e+08 2.022e+08 ... nan nan\n",
       "    lsp+3_cluster0       (time) float64 4.253e+07 3.578e+07 ... nan nan\n",
       "    lsp+3_cluster1       (time) float64 1.319e+08 9.977e+07 1.99e+08 ... nan nan\n",
       "    lsp+3_cluster2       (time) float64 3.105e+08 2.476e+08 ... nan nan\n",
       "    lsp+3_cluster3       (time) float64 2.022e+08 1.544e+08 ... nan nan\n",
       "    lsp+4_cluster0       (time) float64 3.578e+07 9.087e+07 ... nan nan\n",
       "    lsp+4_cluster1       (time) float64 9.977e+07 1.99e+08 7.727e+07 ... nan nan\n",
       "    lsp+4_cluster2       (time) float64 2.476e+08 3.492e+08 ... nan nan\n",
       "    lsp+4_cluster3       (time) float64 1.544e+08 2.628e+08 ... nan nan\n",
       "    lsp+5_cluster0       (time) float64 9.087e+07 2.865e+07 ... nan nan\n",
       "    lsp+5_cluster1       (time) float64 1.99e+08 7.727e+07 2.342e+07 ... nan nan\n",
       "    lsp+5_cluster2       (time) float64 3.492e+08 1.913e+08 ... nan nan\n",
       "    lsp+5_cluster3       (time) float64 2.628e+08 1.274e+08 ... nan nan\n",
       "    lsp+6_cluster0       (time) float64 2.865e+07 5.395e+06 ... nan nan\n",
       "    lsp+6_cluster1       (time) float64 7.727e+07 2.342e+07 6.69e+06 ... nan nan\n",
       "    lsp+6_cluster2       (time) float64 1.913e+08 6.051e+07 ... nan nan\n",
       "    lsp+6_cluster3       (time) float64 1.274e+08 4.053e+07 ... nan nan\n",
       "    lsp+7_cluster0       (time) float64 5.395e+06 1.035e+07 ... nan nan\n",
       "    lsp+7_cluster1       (time) float64 2.342e+07 6.69e+06 3.826e+07 ... nan nan\n",
       "    lsp+7_cluster2       (time) float64 6.051e+07 4.365e+06 2.89e+07 ... nan nan\n",
       "    lsp+7_cluster3       (time) float64 4.053e+07 3.519e+06 ... nan nan\n",
       "    lsp+8_cluster0       (time) float64 1.035e+07 5.641e+07 ... nan nan\n",
       "    lsp+8_cluster1       (time) float64 6.69e+06 3.826e+07 8.714e+06 ... nan nan\n",
       "    lsp+8_cluster2       (time) float64 4.365e+06 2.89e+07 8.019e+06 ... nan nan\n",
       "    lsp+8_cluster3       (time) float64 3.519e+06 3.048e+07 ... nan nan\n",
       "    lsp+9_cluster0       (time) float64 5.641e+07 9.815e+06 ... nan nan\n",
       "    lsp+9_cluster1       (time) float64 3.826e+07 8.714e+06 ... nan nan\n",
       "    lsp+9_cluster2       (time) float64 2.89e+07 8.019e+06 2.249e+06 ... nan nan\n",
       "    lsp+9_cluster3       (time) float64 3.048e+07 7.752e+06 ... nan nan\n",
       "    lsp+10_cluster0      (time) float64 9.815e+06 5.049e+06 2.34e+07 ... nan nan\n",
       "    lsp+10_cluster1      (time) float64 8.714e+06 3.768e+06 ... nan nan\n",
       "    lsp+10_cluster2      (time) float64 8.019e+06 2.249e+06 8.69e+07 ... nan nan\n",
       "    lsp+10_cluster3      (time) float64 7.752e+06 2.108e+06 ... nan nan\n",
       "    lsp+11_cluster0      (time) float64 5.049e+06 2.34e+07 3.222e+07 ... nan nan\n",
       "    lsp+11_cluster1      (time) float64 3.768e+06 5.156e+07 ... nan nan\n",
       "    lsp+11_cluster2      (time) float64 2.249e+06 8.69e+07 2.808e+07 ... nan nan\n",
       "    lsp+11_cluster3      (time) float64 2.108e+06 6.231e+07 ... nan nan\n",
       "    lsp+12_cluster0      (time) float64 2.34e+07 3.222e+07 2.403e+08 ... nan nan\n",
       "    lsp+12_cluster1      (time) float64 5.156e+07 2.589e+07 ... nan nan\n",
       "    lsp+12_cluster2      (time) float64 8.69e+07 2.808e+07 3.02e+08 ... nan nan\n",
       "    lsp+12_cluster3      (time) float64 6.231e+07 2.135e+07 ... nan nan\n",
       "    lsp+13_cluster0      (time) float64 3.222e+07 2.403e+08 ... nan nan\n",
       "    lsp+13_cluster1      (time) float64 2.589e+07 2.576e+08 ... nan nan\n",
       "    lsp+13_cluster2      (time) float64 2.808e+07 3.02e+08 1.303e+08 ... nan nan\n",
       "    lsp+13_cluster3      (time) float64 2.135e+07 2.632e+08 ... nan nan\n",
       "    cp+1_cluster0        (time) float64 1.906e+07 7.959e+07 ... 7.634e+05 nan\n",
       "    cp+1_cluster1        (time) float64 2.61e+07 7.333e+07 ... 6.818e+05 nan\n",
       "    cp+1_cluster2        (time) float64 3.832e+07 7.104e+07 ... 1.05e+06 nan\n",
       "    cp+1_cluster3        (time) float64 3.462e+07 7.456e+07 ... 5.767e+05 nan\n",
       "    cp+2_cluster0        (time) float64 7.959e+07 6.876e+07 ... nan nan\n",
       "    cp+2_cluster1        (time) float64 7.333e+07 9.186e+07 ... nan nan\n",
       "    cp+2_cluster2        (time) float64 7.104e+07 1.421e+08 ... nan nan\n",
       "    cp+2_cluster3        (time) float64 7.456e+07 1.14e+08 1.159e+08 ... nan nan\n",
       "    cp+3_cluster0        (time) float64 6.876e+07 4.456e+07 ... nan nan\n",
       "    cp+3_cluster1        (time) float64 9.186e+07 8.469e+07 ... nan nan\n",
       "    cp+3_cluster2        (time) float64 1.421e+08 1.538e+08 ... nan nan\n",
       "    cp+3_cluster3        (time) float64 1.14e+08 1.159e+08 5.687e+07 ... nan nan\n",
       "    cp+4_cluster0        (time) float64 4.456e+07 2.394e+07 ... nan nan\n",
       "    cp+4_cluster1        (time) float64 8.469e+07 5.031e+07 ... nan nan\n",
       "    cp+4_cluster2        (time) float64 1.538e+08 7.609e+07 ... nan nan\n",
       "    cp+4_cluster3        (time) float64 1.159e+08 5.687e+07 2.94e+07 ... nan nan\n",
       "    cp+5_cluster0        (time) float64 2.394e+07 7.634e+06 9.87e+05 ... nan nan\n",
       "    cp+5_cluster1        (time) float64 5.031e+07 2.049e+07 ... nan nan\n",
       "    cp+5_cluster2        (time) float64 7.609e+07 4.115e+07 ... nan nan\n",
       "    cp+5_cluster3        (time) float64 5.687e+07 2.94e+07 6.45e+06 ... nan nan\n",
       "    cp+6_cluster0        (time) float64 7.634e+06 9.87e+05 2.15e+05 ... nan nan\n",
       "    cp+6_cluster1        (time) float64 2.049e+07 3.499e+06 ... nan nan\n",
       "    cp+6_cluster2        (time) float64 4.115e+07 6.888e+06 ... nan nan\n",
       "    cp+6_cluster3        (time) float64 2.94e+07 6.45e+06 1.057e+04 ... nan nan\n",
       "    cp+7_cluster0        (time) float64 9.87e+05 2.15e+05 5.732e+06 ... nan nan\n",
       "    cp+7_cluster1        (time) float64 3.499e+06 8.149e+04 ... nan nan\n",
       "    cp+7_cluster2        (time) float64 6.888e+06 1.381e+04 ... nan nan\n",
       "    cp+7_cluster3        (time) float64 6.45e+06 1.057e+04 5.575e+06 ... nan nan\n",
       "    cp+8_cluster0        (time) float64 2.15e+05 5.732e+06 1.296e+03 ... nan nan\n",
       "    cp+8_cluster1        (time) float64 8.149e+04 6.934e+06 ... nan nan\n",
       "    cp+8_cluster2        (time) float64 1.381e+04 4.856e+06 ... nan nan\n",
       "    cp+8_cluster3        (time) float64 1.057e+04 5.575e+06 3.01e+04 ... nan nan\n",
       "    cp+9_cluster0        (time) float64 5.732e+06 1.296e+03 ... nan nan\n",
       "    cp+9_cluster1        (time) float64 6.934e+06 3.311e+04 ... nan nan\n",
       "    cp+9_cluster2        (time) float64 4.856e+06 1.114e+04 ... nan nan\n",
       "    cp+9_cluster3        (time) float64 5.575e+06 3.01e+04 1.213e+06 ... nan nan\n",
       "    cp+10_cluster0       (time) float64 1.296e+03 9.896e+05 ... nan nan\n",
       "    cp+10_cluster1       (time) float64 3.311e+04 1.462e+06 2.97e+06 ... nan nan\n",
       "    cp+10_cluster2       (time) float64 1.114e+04 9.819e+05 ... nan nan\n",
       "    cp+10_cluster3       (time) float64 3.01e+04 1.213e+06 2.657e+06 ... nan nan\n",
       "    cp+11_cluster0       (time) float64 9.896e+05 1.172e+06 ... nan nan\n",
       "    cp+11_cluster1       (time) float64 1.462e+06 2.97e+06 3.416e+05 ... nan nan\n",
       "    cp+11_cluster2       (time) float64 9.819e+05 3.111e+06 ... nan nan\n",
       "    cp+11_cluster3       (time) float64 1.213e+06 2.657e+06 ... nan nan\n",
       "    cp+12_cluster0       (time) float64 1.172e+06 2.398e+05 ... nan nan\n",
       "    cp+12_cluster1       (time) float64 2.97e+06 3.416e+05 5.685e+07 ... nan nan\n",
       "    cp+12_cluster2       (time) float64 3.111e+06 6.768e+05 ... nan nan\n",
       "    cp+12_cluster3       (time) float64 2.657e+06 5.383e+05 ... nan nan\n",
       "    cp+13_cluster0       (time) float64 2.398e+05 2.919e+07 ... nan nan\n",
       "    cp+13_cluster1       (time) float64 3.416e+05 5.685e+07 ... nan nan\n",
       "    cp+13_cluster2       (time) float64 6.768e+05 9.869e+07 ... nan nan\n",
       "    cp+13_cluster3       (time) float64 5.383e+05 6.933e+07 4.55e+07 ... nan nan\n",
       "    lsp-5-11_cluster1    (time) float64 nan nan nan ... 1.575e+08 1.803e+08\n",
       "    lsp-5-11_cluster2    (time) float64 nan nan nan ... 1.78e+08 2.185e+08\n",
       "    lsp-5-11_cluster3    (time) float64 nan nan nan ... 1.638e+08 1.94e+08\n",
       "    lsp-12-25_cluster1   (time) float64 nan nan nan ... 3.025e+07 3.177e+07\n",
       "    lsp-12-25_cluster2   (time) float64 nan nan nan ... 5.022e+07 5.167e+07\n",
       "    lsp-12-25_cluster3   (time) float64 nan nan nan ... 3.927e+07 4.068e+07\n",
       "    lsp-26-55_cluster1   (time) float64 nan nan nan ... 4.374e+07 4.202e+07\n",
       "    lsp-26-55_cluster2   (time) float64 nan nan nan ... 6.229e+07 5.787e+07\n",
       "    lsp-26-55_cluster3   (time) float64 nan nan nan ... 5.178e+07 4.878e+07\n",
       "    lsp-56-180_cluster1  (time) float64 nan nan nan ... 3.864e+07 3.878e+07\n",
       "    lsp-56-180_cluster2  (time) float64 nan nan nan ... 6.123e+07 6.169e+07\n",
       "    lsp-56-180_cluster3  (time) float64 nan nan nan ... 5.024e+07 5.052e+07"
      ]
     },
     "execution_count": 32,
     "metadata": {},
     "output_type": "execute_result"
    }
   ],
   "source": [
    "Xagg"
   ]
  },
  {
   "cell_type": "code",
   "execution_count": null,
   "metadata": {},
   "outputs": [],
   "source": []
  },
  {
   "cell_type": "code",
   "execution_count": null,
   "metadata": {},
   "outputs": [],
   "source": []
  },
  {
   "cell_type": "code",
   "execution_count": null,
   "metadata": {},
   "outputs": [],
   "source": []
  },
  {
   "cell_type": "code",
   "execution_count": null,
   "metadata": {},
   "outputs": [],
   "source": []
  },
  {
   "cell_type": "code",
   "execution_count": null,
   "metadata": {},
   "outputs": [],
   "source": []
  }
 ],
 "metadata": {
  "kernelspec": {
   "display_name": "Python 3",
   "language": "python",
   "name": "python3"
  },
  "language_info": {
   "codemirror_mode": {
    "name": "ipython",
    "version": 3
   },
   "file_extension": ".py",
   "mimetype": "text/x-python",
   "name": "python",
   "nbconvert_exporter": "python",
   "pygments_lexer": "ipython3",
   "version": "3.7.3"
  }
 },
 "nbformat": 4,
 "nbformat_minor": 2
}
