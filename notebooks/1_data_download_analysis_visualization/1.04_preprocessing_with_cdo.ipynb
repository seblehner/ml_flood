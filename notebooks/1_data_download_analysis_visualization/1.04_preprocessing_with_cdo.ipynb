{
 "cells": [
  {
   "cell_type": "markdown",
   "metadata": {},
   "source": [
    "# 004. Using \"cdo\" to manipulate the data"
   ]
  },
  {
   "cell_type": "markdown",
   "metadata": {},
   "source": [
    "The **Climate data operators** are a popular tool of command line functions. Lately, a python-bindings became available (https://pypi.org/project/cdo/).\n",
    "\n",
    "Setup and Documentation for CDO: https://code.mpimet.mpg.de/projects/cdo/wiki/Cdo#Documentation"
   ]
  },
  {
   "cell_type": "markdown",
   "metadata": {},
   "source": [
    "As we are dealing with monthly files for many variables, we have to\n",
    "1. Put the monthly files with hourly data together\n",
    "2. Aggregate the hourly data into daily data (optionally)\n",
    "2. Merge the variables into one file\n",
    "\n",
    "CDO provides the following methods:\n",
    "- `cdo.cat()` concatenates files\n",
    "- `cdo.dayavg()` averages hourly data into daily data\n",
    "- `cdo.daysum()` sums hourly values to daily values\n",
    "\n",
    "You could use these like so:"
   ]
  },
  {
   "cell_type": "code",
   "execution_count": null,
   "metadata": {},
   "outputs": [],
   "source": [
    "from cdo import Cdo\n",
    "import glob\n",
    "import xarray as xr\n",
    "\n",
    "cdo = Cdo()\n",
    "tmp_file = './tmp.nc'\n",
    "\n",
    "xar = xr.open_mfdataset(glob.glob(path_to_data+'era5_precipitation*.nc'),\n",
    "                        combine='by_coords')\n",
    "xar.to_netcdf(tmp_file)\n",
    "cdo.daysum(input=tmp_file, \n",
    "           output=path_to_data+'era5_precip_daysum.nc')\n",
    "os.remove(tmp_file)"
   ]
  },
  {
   "cell_type": "markdown",
   "metadata": {},
   "source": [
    "__Note__ that CDO daily aggregations (max/mean) set the timestamps to 23 UTC of each day you are aggregating over.\n",
    "We needed to shift those times to the whole day to work with the data (subtract 23 hours from the time coordinate).\n",
    "\n",
    "\n",
    "Within this projects, the CDO command line tools were used from python using `os.system()`. This is maybe not the most elegant solution, but it works and we used it because we were most familiar with this solution. You are free to use the python-bindings as well, there should not be any difference.\n",
    "\n",
    "The methods reside within the **utils.py** file inside the **/python/aux/** dir and are used to easily preprocess the data.\n",
    "\n",
    "The following methods are currently implemented:\n",
    "\n",
    "1. `cdo_daily_means()`: generates daily averages from the input data\n",
    "2. `cdo_precip_sums()`: generates daily precipitation sums from input data\n",
    "3. `cdo_clean_precip()`: extracts precipitation vars from input data to new file and removes it from input data\n",
    "4. `cdo_spatial_cut()`: extracts all of the input data within a specified bounding box to a new file\n",
    "5. `cdo_merge_time()`: merges all of the input data into a new file on the time dimension\n",
    "\n",
    "Example calls are listed below. "
   ]
  },
  {
   "cell_type": "markdown",
   "metadata": {},
   "source": [
    "### Python-Path\n",
    "To import python functions from the **./python/aux/** dir, we have to add the main path of the repository to the so called *python-path* of the system. This is done with the following two lines:"
   ]
  },
  {
   "cell_type": "code",
   "execution_count": 1,
   "metadata": {},
   "outputs": [],
   "source": [
    "import sys\n",
    "sys.path.append('../../')"
   ]
  },
  {
   "cell_type": "markdown",
   "metadata": {},
   "source": [
    "### Define the needed variables\n",
    "All files inside the specified directory which include the specified string are processed."
   ]
  },
  {
   "cell_type": "code",
   "execution_count": 2,
   "metadata": {},
   "outputs": [],
   "source": [
    "path_to_data = 'volume/project/data/'"
   ]
  },
  {
   "cell_type": "markdown",
   "metadata": {},
   "source": [
    "### Execute the methods\n",
    "\n",
    "For every existing and matching file, the method is executed. For more details check the **utils.py** file."
   ]
  },
  {
   "cell_type": "markdown",
   "metadata": {},
   "source": [
    "### 1) cdo_daily_means\n",
    "loops through the given directory and and executes \"cdo dayavg * file_includes * file_out\" appends \"dayavg\" at the end of the filename"
   ]
  },
  {
   "cell_type": "code",
   "execution_count": null,
   "metadata": {},
   "outputs": [],
   "source": [
    "from python.aux.utils import cdo_daily_means"
   ]
  },
  {
   "cell_type": "code",
   "execution_count": null,
   "metadata": {},
   "outputs": [],
   "source": [
    "incl = 'temperature'"
   ]
  },
  {
   "cell_type": "code",
   "execution_count": null,
   "metadata": {},
   "outputs": [],
   "source": [
    "cdo_daily_means(path=path_to_data, file_includes=incl)"
   ]
  },
  {
   "cell_type": "markdown",
   "metadata": {},
   "source": [
    "### 2) cdo_precip_sums\n",
    "loops through the given directory and and executes \"cdo -b 32 daysum filein.nc fileout.nc\" appends \"daysum\" at the end of the filename"
   ]
  },
  {
   "cell_type": "code",
   "execution_count": null,
   "metadata": {},
   "outputs": [],
   "source": [
    "from python.aux.utils import cdo_precip_sums"
   ]
  },
  {
   "cell_type": "code",
   "execution_count": null,
   "metadata": {},
   "outputs": [],
   "source": [
    "incl = 'large_scale_precipitation'"
   ]
  },
  {
   "cell_type": "code",
   "execution_count": null,
   "metadata": {},
   "outputs": [],
   "source": [
    "cdo_precip_sums(path=path_to_data, file_includes=incl)"
   ]
  },
  {
   "cell_type": "markdown",
   "metadata": {},
   "source": [
    "### 3) cdo_clean_precip\n",
    "loops through the given directory and and executes \"ncks -v cp,tp filein.nc fileout.nc\" or \"ncks -x -v cp,tp filein.nc fileout.nc\" for all files which contain precip_type in their name and creates new files with the corresponding variables"
   ]
  },
  {
   "cell_type": "code",
   "execution_count": null,
   "metadata": {},
   "outputs": [],
   "source": [
    "from python.aux.utils import cdo_clean_precip"
   ]
  },
  {
   "cell_type": "code",
   "execution_count": null,
   "metadata": {},
   "outputs": [],
   "source": [
    "cdo_clean_precip(path=path_to_data, precip_type='precipitation')"
   ]
  },
  {
   "cell_type": "markdown",
   "metadata": {},
   "source": [
    "### 4) cdo_spatial_cut\n",
    "loops through the given directory and and executes \"cdo -sellonlatbox,lonmin,lonmax,latmin,latmax * file_includes * fileout.nc\" appends \"spatial_cut_*new_file_includes*\" at the end of the filename"
   ]
  },
  {
   "cell_type": "code",
   "execution_count": null,
   "metadata": {},
   "outputs": [],
   "source": [
    "from python.aux.utils import cdo_spatial_cut"
   ]
  },
  {
   "cell_type": "code",
   "execution_count": 7,
   "metadata": {},
   "outputs": [],
   "source": [
    "lonmin = 10\n",
    "lonmax = 20\n",
    "latmin = 40\n",
    "latmax = 50\n",
    "incl = 'temperature'\n",
    "incl_new = 'temperature_spatial_cut'"
   ]
  },
  {
   "cell_type": "code",
   "execution_count": null,
   "metadata": {},
   "outputs": [],
   "source": [
    "cdo_spatial_cut(path=path_to_data, file_includes=incl, new_file_includes=incl_new, lonmin, lonmax, latmin, latmax)"
   ]
  },
  {
   "cell_type": "markdown",
   "metadata": {},
   "source": [
    "### 5) cdo_merge_time\n",
    "merges all files including a specified string in their name within the given directory into the specified new file with \"cdo mergetime * file_includes * fileout.nc\""
   ]
  },
  {
   "cell_type": "code",
   "execution_count": null,
   "metadata": {},
   "outputs": [],
   "source": [
    "from python.aux.utils import cdo_merge_time"
   ]
  },
  {
   "cell_type": "code",
   "execution_count": 8,
   "metadata": {},
   "outputs": [],
   "source": [
    "incl = 'temperature'\n",
    "new_filename = 'temperature_YYYYinit-YYYYend.nc'"
   ]
  },
  {
   "cell_type": "code",
   "execution_count": null,
   "metadata": {},
   "outputs": [],
   "source": [
    "cdo_merge_time(path=path_to_data, file_includes=incl, new_file=new_filename)"
   ]
  }
 ],
 "metadata": {
  "kernelspec": {
   "display_name": "Python 3",
   "language": "python",
   "name": "python3"
  },
  "language_info": {
   "codemirror_mode": {
    "name": "ipython",
    "version": 3
   },
   "file_extension": ".py",
   "mimetype": "text/x-python",
   "name": "python",
   "nbconvert_exporter": "python",
   "pygments_lexer": "ipython3",
   "version": "3.7.3"
  }
 },
 "nbformat": 4,
 "nbformat_minor": 2
}
