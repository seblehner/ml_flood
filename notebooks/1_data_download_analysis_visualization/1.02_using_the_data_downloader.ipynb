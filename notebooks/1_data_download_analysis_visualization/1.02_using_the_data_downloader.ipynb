{
 "cells": [
  {
   "cell_type": "markdown",
   "metadata": {},
   "source": [
    "# 002. Using our predefined methods for easy data retrieval"
   ]
  },
  {
   "cell_type": "markdown",
   "metadata": {},
   "source": [
    "We prepared a tool for you that allows you to easily access the CDS datasets. \n",
    "\n",
    "It is built upon the CDSAPI and ensures the highest efficiency in data retrieval to minimize download time. It does so by requesting data for all needed parameters, levels etc., for one full month at once and iterates over months. This is because the data for one month is saved on one tape in the MARS archive. For more information see https://confluence.ecmwf.int/display/CKB/How+to+download+ERA5."
   ]
  },
  {
   "cell_type": "markdown",
   "metadata": {},
   "source": [
    "### 1) Import the downloader"
   ]
  },
  {
   "cell_type": "code",
   "execution_count": 1,
   "metadata": {},
   "outputs": [],
   "source": [
    "import sys\n",
    "sys.path.append('../../')\n",
    "from python.aux.data_download import CDS_Dataset"
   ]
  },
  {
   "cell_type": "markdown",
   "metadata": {},
   "source": [
    "### 2) Specify the CDS dataset name and the directory to save them\n",
    "the `dataset_name` may either be \n",
    "- `\"reanalysis-era5-pressure-levels\"` to retrieve data at pressure levels, or\n",
    "- `\"reanalysis-era5-single-levels\"` to request fields where only one single level exists, f.e. precipitation."
   ]
  },
  {
   "cell_type": "code",
   "execution_count": 2,
   "metadata": {},
   "outputs": [],
   "source": [
    "ds = CDS_Dataset(dataset_name='reanalysis-era5-pressure-levels',\n",
    "                 save_to_folder='./example_download/'  # path to where datasets shall be stored\n",
    "                )"
   ]
  },
  {
   "cell_type": "markdown",
   "metadata": {},
   "source": [
    "### 2) Define the request's content\n",
    "- to retrieve an aerial subset of the globe, use the `area` keyword. It can be a list of degrees latitude/longitude values for the northern, western, southern and eastern bounds of the area.\n",
    "\n",
    "- to get other grid resolutions than 0.25 degrees, use the `grid` keyword.\n",
    "\n",
    "- the `format` of the data can be `\"netcdf\"` or `\"grib\"`.\n",
    "\n",
    "- the available `variable`s are listed in the ERA5 catalogue (https://apps.ecmwf.int/data-catalogues/era5), but should be written in lower case letters here with underscores (`_`) instead of whitespaces (` `).\n",
    "\n",
    "- if requesting pressure levels, supply them with the `pressure level` keyword."
   ]
  },
  {
   "cell_type": "code",
   "execution_count": null,
   "metadata": {},
   "outputs": [],
   "source": [
    "# define areas of interest\n",
    "area_dict = dict(danube=[50, 7, 47, 20],\n",
    "                 asia=[55, -140, 0, 35],\n",
    "                 usa=[50, -125, 25, -70])\n",
    "\n",
    "# define time frame\n",
    "year_start = 2000\n",
    "year_end = 2000\n",
    "month_start = 1\n",
    "month_end = 12\n",
    "\n",
    "# define requested variables\n",
    "request = dict(product_type='reanalysis', \n",
    "               format='netcdf',\n",
    "               area=area_dict['usa'],\n",
    "               variable=['geopotential', 'temperature', 'specific_humidity'], \n",
    "               pressure_level=['850', '700', '500'])"
   ]
  },
  {
   "cell_type": "markdown",
   "metadata": {},
   "source": [
    "### 3) Start the data request\n",
    "To speed up the retrieval of the dataset, we can send multiple requests at the same time. One request optimally consists of only one month of data - because that is the way the data is stored in the tape band archive. The number of recommended parallel requests is probably around 20. The number of requests is set through the argument `N_parallel_requests`. \n",
    "\n"
   ]
  },
  {
   "cell_type": "code",
   "execution_count": null,
   "metadata": {},
   "outputs": [],
   "source": [
    "ds.get(years = [str(y) for y in range(year_start, year_end+1)], \n",
    "       months = [str(a).zfill(2) for a in range(month_start, month_end+1)], \n",
    "       request = request, \n",
    "       N_parallel_requests = 12)"
   ]
  }
 ],
 "metadata": {
  "kernelspec": {
   "display_name": "Python 3",
   "language": "python",
   "name": "python3"
  },
  "language_info": {
   "codemirror_mode": {
    "name": "ipython",
    "version": 3
   },
   "file_extension": ".py",
   "mimetype": "text/x-python",
   "name": "python",
   "nbconvert_exporter": "python",
   "pygments_lexer": "ipython3",
   "version": "3.7.3"
  }
 },
 "nbformat": 4,
 "nbformat_minor": 2
}
