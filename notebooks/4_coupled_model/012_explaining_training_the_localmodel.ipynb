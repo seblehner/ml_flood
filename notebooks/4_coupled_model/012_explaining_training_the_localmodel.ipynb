{
 "cells": [
  {
   "cell_type": "markdown",
   "metadata": {},
   "source": [
    "# 012. Explaining and training the local model\n",
    "\n",
    "## Review\n",
    "We want to build our machine-learning model based on two fundamental observations:\n",
    "- If there is no local source of water, the discharge at some point downstream is determined by the upstream points.\n",
    "- If we see a rise in river levels/discharge that is not due to transport from upstream points, then there is a locally influencing factor.\n",
    "\n",
    "This motivates splitting the flood forecast model into two parts:\n",
    "1. The prediction of discharge at some point at day $t$, is possible using the upstream points' discharge of the previous days $\\{$t-1, t-2, t-3$\\}$, given that there is no local contribution. \n",
    "\n",
    "We suspect that a large portion of the local contribution is due to precipitation, therefore we exclude rainy days from the training dataset for this model.\n",
    "\n",
    "2. The residual, i.e. the quantity that is not due to inflow from other river gridpoints, is modelled using ERA5 data. The model itself is designed to forecast the residual for one day, so that it is sufficient to select predictor gridpoints that are in the nearby surroundings. We expect precipitation to have the largest impact. Snow melting could be represented by some combination of airmass temperature (relative topography) and a snow cover variable.\n",
    "\n",
    "Therefore we split the discharge forecasts into two models:\n",
    "- The `TransportModel` is responsible for advection of water from upstream river to downstream river gridpoints. \n",
    "- The`LocalModel` is responsible for the difference to observed values. It is driven by nearby gridpoints' information.\n",
    "\n",
    "## Part 2: Training the local model\n",
    "\n",
    "Let's import some packages."
   ]
  },
  {
   "cell_type": "code",
   "execution_count": 1,
   "metadata": {},
   "outputs": [],
   "source": [
    "import os, warnings\n",
    "import numpy as np\n",
    "import datetime as dt\n",
    "import pandas as pd\n",
    "import matplotlib.pyplot as plt\n",
    "from sklearn.pipeline import Pipeline\n",
    "from dask_ml.preprocessing import StandardScaler\n",
    "from dask_ml.decomposition import PCA\n",
    "\n",
    "import dask\n",
    "dask.config.set(scheduler='threading')\n",
    "\n",
    "import xarray as xr\n",
    "from dask.diagnostics import ProgressBar\n",
    "from joblib import Parallel"
   ]
  },
  {
   "cell_type": "markdown",
   "metadata": {},
   "source": [
    "To import our custom packages, we are setting the PYTHONPATH in `link_src`."
   ]
  },
  {
   "cell_type": "code",
   "execution_count": 2,
   "metadata": {},
   "outputs": [],
   "source": [
    "import link_src\n",
    "from python.aux.utils import open_data\n",
    "from python.aux.ml_flood_config import path_to_data"
   ]
  },
  {
   "cell_type": "markdown",
   "metadata": {},
   "source": [
    "For the LocalModel, we use the ERA5 variables as predictors and the GloFAS discharge reanalysis for the predictand = (reanalysis - transport_model_forecast)."
   ]
  },
  {
   "cell_type": "code",
   "execution_count": 3,
   "metadata": {},
   "outputs": [],
   "source": [
    "era5 = open_data(path_to_data+'danube/', kw='era5')"
   ]
  },
  {
   "cell_type": "code",
   "execution_count": 4,
   "metadata": {},
   "outputs": [],
   "source": [
    "glofas = open_data(path_to_data+'danube/', kw='glofas_ra')"
   ]
  },
  {
   "cell_type": "markdown",
   "metadata": {},
   "source": [
    "We prepare the predictor data, i.e. features by converting units. We don't need to interpolate here ?!"
   ]
  },
  {
   "cell_type": "code",
   "execution_count": 5,
   "metadata": {},
   "outputs": [],
   "source": [
    "if 'tp' in era5:\n",
    "    era5['tp'] = era5['tp']*1000\n",
    "else:\n",
    "    era5['tp'] = (era5['cp']+era5['lsp'])*1000\n",
    "\n",
    "# no interpolation necessary\n",
    "\n",
    "era5['reltop'] = era5['z'].sel(level=500) - era5['z'].sel(level=850)\n",
    "\n",
    "era5['q_mean'] = era5['q'].mean('level')"
   ]
  },
  {
   "cell_type": "markdown",
   "metadata": {},
   "source": [
    "## Prepare training data for the LocalModel\n",
    "The predictors and predictand are as follows:\n",
    "predictors = ERA5 variables of the last three days (t-1, t-2, t-3)\n",
    "predicand = (reanalysis - transport_model_forecast) (t)\n",
    "\n",
    "To achieve this, we add the variables three times as new variable to the training data `X` (with an additional ´-1´ to show that they are shifted by one for example). Each time the data is shifted by one day. Finally we drop the variables at the current day $t$ so that we are left with 3 variables, e.g. discharges at (t-1, t-2, t-3).\n",
    "\n",
    "# check\n",
    "\n",
    "The predictand variable will be create for each gridpoint just before training the local model because we have to open the transport model from disk, use it to predict the mean flow and then train the local model on the difference."
   ]
  },
  {
   "cell_type": "code",
   "execution_count": 54,
   "metadata": {},
   "outputs": [],
   "source": [
    "listofpredictors = ['reltop', 'q_mean', 'tp', 'ro']\n",
    "X_local = era5[listofpredictors]\n",
    "\n",
    "shifts = range(1,4)\n",
    "#X = add_shifted_predictors(glofas, shifts, variables='all')\n",
    "#X = X.drop('dis')  # current dis is to be predicted, is not a feature"
   ]
  },
  {
   "cell_type": "code",
   "execution_count": 55,
   "metadata": {},
   "outputs": [
    {
     "data": {
      "text/plain": [
       "<xarray.Dataset>\n",
       "Dimensions:    (latitude: 13, longitude: 53, time: 13545)\n",
       "Coordinates:\n",
       "  * longitude  (longitude) float32 7.0 7.25 7.5 7.75 ... 19.25 19.5 19.75 20.0\n",
       "  * latitude   (latitude) float32 50.0 49.75 49.5 49.25 ... 47.5 47.25 47.0\n",
       "  * time       (time) datetime64[ns] 1981-01-01 1981-01-02 ... 2017-12-31\n",
       "Data variables:\n",
       "    reltop     (time, latitude, longitude) float32 dask.array<shape=(13545, 13, 53), chunksize=(13545, 13, 53)>\n",
       "    q_mean     (time, latitude, longitude) float32 dask.array<shape=(13545, 13, 53), chunksize=(13545, 13, 53)>\n",
       "    tp         (time, latitude, longitude) float32 dask.array<shape=(13545, 13, 53), chunksize=(13545, 13, 53)>\n",
       "    ro         (time, latitude, longitude) float32 dask.array<shape=(13545, 13, 53), chunksize=(13545, 13, 53)>\n",
       "Attributes:\n",
       "    CDI:          Climate Data Interface version 1.6.4rc4 (http://code.zmaw.d...\n",
       "    Conventions:  CF-1.6\n",
       "    history:      Thu May 30 12:35:16 2019: cdo dayavg /home/srvx11/lehre/use...\n",
       "    CDO:          Climate Data Operators version 1.6.4rc7 (http://code.zmaw.d..."
      ]
     },
     "execution_count": 55,
     "metadata": {},
     "output_type": "execute_result"
    }
   ],
   "source": [
    "X_local"
   ]
  },
  {
   "cell_type": "markdown",
   "metadata": {},
   "source": [
    "### additionally\n",
    "we need the discharge of the last days for the transport model forecast"
   ]
  },
  {
   "cell_type": "code",
   "execution_count": 56,
   "metadata": {},
   "outputs": [],
   "source": [
    "from python.aux.utils_flowmodel import add_shifted_predictors"
   ]
  },
  {
   "cell_type": "code",
   "execution_count": 57,
   "metadata": {},
   "outputs": [],
   "source": [
    "shifts = range(1,4)\n",
    "X_flow = add_shifted_predictors(glofas, shifts, variables='all')\n",
    "X_flow = X_flow.drop('dis')  # current dis is to be predicted, is not a feature"
   ]
  },
  {
   "cell_type": "markdown",
   "metadata": {},
   "source": [
    "Next, we select the training and validation periods,"
   ]
  },
  {
   "cell_type": "code",
   "execution_count": 58,
   "metadata": {},
   "outputs": [],
   "source": [
    "N_train = dict(time=slice(None, '1990'))\n",
    "N_valid = dict(time=slice('1990', '1995'))"
   ]
  },
  {
   "cell_type": "markdown",
   "metadata": {},
   "source": [
    "We determine the location to save the model object and plots about the quality of training and the used features in space (the upstream river gridpoints)."
   ]
  },
  {
   "cell_type": "code",
   "execution_count": 59,
   "metadata": {},
   "outputs": [],
   "source": [
    "# kind, lat, lon will be replaced!\n",
    "main_dir = '/home/srvx11/lehre/users/a1254888/ipython/ml_flood/'\n",
    "ff_mod = main_dir+'/models/localmodel/danube/kind/point_lat_lon_localmodel.pkl'\n",
    "ff_hist = main_dir+'/models/localmodel/danube/kind/point_lat_lon_history.png'\n",
    "ff_valid = main_dir+'/models/localmodel/danube/kind/point_lat_lon_validation.png'\n",
    "\n",
    "\n",
    "ff_mod_transport = main_dir+'/models/flowmodel/danube/kind/point_lat_lon_flowmodel.pkl'"
   ]
  },
  {
   "cell_type": "markdown",
   "metadata": {},
   "source": [
    "### Model selection\n",
    "Now we can select which model to use for the LocalModel.\n",
    "\n",
    "We choose the neural network here, where scaling is done within the model, but we could use other models with feature scaling and feature selection (principal component analysis) too."
   ]
  },
  {
   "cell_type": "code",
   "execution_count": 60,
   "metadata": {},
   "outputs": [],
   "source": [
    "from python.aux.floodmodels import LocalModel"
   ]
  },
  {
   "cell_type": "code",
   "execution_count": 61,
   "metadata": {},
   "outputs": [],
   "source": [
    "#pipe = Pipeline([('scaler', StandardScaler()),\n",
    "#                 #('pca', PCA(n_components=6)),\n",
    "#                 ('model', FlowModel('Ridge', dict(alphas=np.logspace(-3, 2, 6)))),])\n",
    "\n",
    "model = LocalModel('neural_net', dict(epochs=1000,))\n",
    "pipe = Pipeline([#('pca', PCA(n_components=6)),\n",
    "                  ('model', model),])"
   ]
  },
  {
   "cell_type": "markdown",
   "metadata": {
    "scrolled": false
   },
   "source": [
    "### Spatial feature selection\n",
    "In contrast to the transport model we have no background info which gridpoints influence the predictand the most, so we use dimensionality reduction approach and/or let the model decide which gridpoints are most relevant.\n",
    "\n",
    "The only hard constraint for the LocalModel is the influence radius of 1.5 degrees latitude/longitude, about 170 km and that the gridpoints have to lie within the catchment basin of the point."
   ]
  },
  {
   "cell_type": "code",
   "execution_count": 62,
   "metadata": {},
   "outputs": [],
   "source": [
    "from python.aux.utils_flowmodel import get_mask_of_basin"
   ]
  },
  {
   "cell_type": "code",
   "execution_count": 63,
   "metadata": {},
   "outputs": [
    {
     "data": {
      "image/png": "[encoded data removed]",
      "text/plain": [
       "<Figure size 432x288 with 1 Axes>"
      ]
     },
     "metadata": {
      "needs_background": "light"
     },
     "output_type": "display_data"
    }
   ],
   "source": [
    "mask_catchment = get_mask_of_basin(glofas['dis'].isel(time=0), 'Danube')\n",
    "plt.imshow(mask_catchment.astype(int))\n",
    "plt.title('Catchment basin of the Danube river')\n",
    "plt.show()"
   ]
  },
  {
   "cell_type": "code",
   "execution_count": 64,
   "metadata": {},
   "outputs": [],
   "source": [
    "def select_riverpoints(dis):\n",
    "    return (dis > 10)"
   ]
  },
  {
   "cell_type": "code",
   "execution_count": 65,
   "metadata": {},
   "outputs": [
    {
     "data": {
      "image/png": "[encoded data removed]",
      "text/plain": [
       "<Figure size 432x288 with 1 Axes>"
      ]
     },
     "metadata": {
      "needs_background": "light"
     },
     "output_type": "display_data"
    }
   ],
   "source": [
    "dis_map_mean = glofas['dis'].mean('time')\n",
    "is_river = select_riverpoints(dis_map_mean)\n",
    "\n",
    "mask_river_in_catchment = is_river & mask_catchment\n",
    "\n",
    "plt.imshow(mask_river_in_catchment.astype(int))\n",
    "plt.title('mask_river_in_catchment')\n",
    "plt.show()"
   ]
  },
  {
   "cell_type": "markdown",
   "metadata": {},
   "source": [
    "## Preparing the training tasks to run in parallel\n",
    "Before we can start training all the gridpoints models in parallel, we have to prepare all the work in a list which is then worked off.\n",
    "\n",
    "We iterate over the array of river gridpoints, where the localmodel shall contribute to discharge and \n",
    "append a `delayed` function call to the `task_list`, which is worked off later on by `joblib`'s `Parallel()` function.\n",
    "\n",
    "Within the `train_localmodel()`, the TransportModel is called to predict the background flow, then the LocalModel is trained on the residual (error) of the TransportModel.\n",
    "\n",
    "The two models can then be run 14 times to produce a 14 day forecast.\n",
    "From a physics point of view, the combination model uses GloFAS discharge as initial conditions and ERA5 as boundary conditions."
   ]
  },
  {
   "cell_type": "code",
   "execution_count": 76,
   "metadata": {},
   "outputs": [],
   "source": [
    "np.seterr(divide='ignore', invalid='ignore')\n",
    "from joblib import Parallel, delayed  #  parallel computation\n",
    "from joblib import dump, load   # saving and loading pipeline objects (\"models\")\n",
    "from sklearn.base import clone\n",
    "from python.aux.utils_flowmodel import select_upstream, preprocess_reshape_flowmodel\n",
    "@delayed\n",
    "def train_localmodel(X_local, X_flow, pipe,\n",
    "                    lat, lon,\n",
    "                    f_mod, f_hist, f_valid, \n",
    "                    f_mod_transport, \n",
    "                    debug=False):\n",
    "    \"\"\"Train the local model, save it to disk.\"\"\"\n",
    "\n",
    "    upstream = select_upstream(mask_river_in_catchment, lat, lon, basin='Danube')\n",
    "    N_upstream = int(upstream.sum())\n",
    "    lats, lons = str(lat), str(lon)\n",
    "\n",
    "    if not os.path.isfile(f_mod_transport) or N_upstream <= 5:\n",
    "        if debug:\n",
    "            print(lats, lons, 'is spring.')  # assume constant discharge\n",
    "            y_flow = glofas['dis'].sel(latitude=lat, longitude=lon).mean('time')\n",
    "    else:\n",
    "        dis_point = glofas['dis'].sel(latitude=float(lat), longitude=float(lon))\n",
    "        tp_box = era5['tp'].sel(latitude=slice(lat+1.5, lat-1.5),\n",
    "                                longitude=slice(lon-1.5, lon+1.5))\n",
    "        hasprecip = tp_box.mean(['longitude', 'latitude']) > 0.5\n",
    "        \n",
    "        if debug:\n",
    "            print('predict mean flow using the transport model...')\n",
    "            print('upstream:', N_upstream)\n",
    "            \n",
    "        # prepare the transport model input data\n",
    "        Xt = X_flow.where(upstream & hasprecip, drop=True)\n",
    "        if debug:\n",
    "            plt.imshow(upstream.astype(int))\n",
    "            plt.title('upstream')\n",
    "            plt.show()\n",
    "        \n",
    "        yt = dis_point\n",
    "        Xda, yda, time = preprocess_reshape_flowmodel(Xt, yt)\n",
    "        X_flow = Xda\n",
    "        if debug:\n",
    "            print(X_flow.shape)\n",
    "        \n",
    "        ppipe = load(f_mod_transport)\n",
    "        y_flow = ppipe.predict(X_flow)\n",
    "        # background forecast finished, calculate residual now\n",
    "        y_res = dis_point - y_flow\n",
    "        \n",
    "        Xt = X_local.sel(latitude=slice(lat+1.5, lat-1.5),\n",
    "                          longitude=slice(lon-1.5, lon+1.5))\n",
    "\n",
    "        Xt = Xt.where(hasprecip)\n",
    "        yt = y_res\n",
    "        Xda, yda, time = preprocess_reshape_flowmodel(Xt, yt)\n",
    "\n",
    "        X_train = Xda.loc[N_train]\n",
    "        y_train = yda.loc[N_train]\n",
    "        X_valid = Xda.loc[N_valid]\n",
    "        y_valid = yda.loc[N_valid]\n",
    "\n",
    "        if debug:\n",
    "            print(X_train.shape, y_train.shape)\n",
    "            print(X_valid.shape, y_valid.shape)\n",
    "        ppipe = clone(pipe)\n",
    "        history = ppipe.fit(X_train.values, y_train.values,\n",
    "                           model__validation_data=(X_valid.values,\n",
    "                                                   y_valid.values))\n",
    "\n",
    "        dump(ppipe, f_mod)\n",
    "\n",
    "        try:\n",
    "            h = history.named_steps['model'].m.model.history\n",
    "\n",
    "            # Plot training & validation loss value\n",
    "            fig, ax = plt.subplots()\n",
    "            ax.plot(h.history['loss'], label='loss')\n",
    "            ax.plot(h.history['val_loss'], label='val_loss')\n",
    "            plt.title('Model loss')\n",
    "            ax.set_ylabel('Loss')\n",
    "            ax.set_xlabel('Epoch')\n",
    "            plt.legend() #['Train', 'Test'], loc='upper left')\n",
    "            ax.set_yscale('log')\n",
    "            fig.savefig(f_hist); plt.close('all')\n",
    "        except Exception as e:\n",
    "            warnings.warn(str(e))\n",
    "\n",
    "        ppipe = load(f_mod)\n",
    "        y_m = ppipe.predict(X_valid)\n",
    "\n",
    "        try:\n",
    "            fig, ax = plt.subplots(figsize=(10,4))\n",
    "            y_valid.plot(ax=ax, label='reanalysis')\n",
    "            y_m.plot(ax=ax, label='prediction')\n",
    "            plt.legend()\n",
    "            fig.savefig(f_valid); plt.close('all')\n",
    "        except Exception as e:\n",
    "            warnings.warn(str(e))"
   ]
  },
  {
   "cell_type": "code",
   "execution_count": 77,
   "metadata": {},
   "outputs": [],
   "source": [
    "def mkdir(d):\n",
    "    if not os.path.isdir(d):\n",
    "        os.makedirs(d)\n",
    "        \n",
    "def replace(string: str, old_new: dict):\n",
    "    for o, n in old_new.items(): \n",
    "        string = string.replace(o, str(n))\n",
    "    return string"
   ]
  },
  {
   "cell_type": "code",
   "execution_count": 82,
   "metadata": {
    "scrolled": false
   },
   "outputs": [],
   "source": [
    "mkdir(os.path.dirname(ff_mod).replace('kind', model.kind))\n",
    "task_list = []\n",
    "\n",
    "for lon in mask_river_in_catchment.longitude:\n",
    "    for lat in mask_river_in_catchment.latitude:\n",
    "        if mask_river_in_catchment.sel(latitude=lat, longitude=lon) == 1:  # valid danube river point\n",
    "            lat, lon = float(lat), float(lon)\n",
    "            lat, lon = 48.35, 15.650000000000034\n",
    "            #print(lat, lon)\n",
    "\n",
    "            f_mod = replace(ff_mod, dict(lat=lat, lon=lon, kind=model.kind))\n",
    "            f_hist = replace(ff_hist, dict(lat=lat, lon=lon, kind=model.kind))\n",
    "            f_valid = replace(ff_valid, dict(lat=lat, lon=lon, kind=model.kind))\n",
    "\n",
    "            f_mod_transport = replace(ff_mod_transport, dict(lat=lat, lon=lon, kind=model.kind))\n",
    "\n",
    "            transport_exists = os.path.isfile(f_mod_transport)\n",
    "            localmodel_exists = os.path.isfile(f_mod)\n",
    "\n",
    "            if transport_exists and not localmodel_exists:\n",
    "                task = train_localmodel(X_local, X_flow, pipe,\n",
    "                                            lat, lon,\n",
    "                                            f_mod, f_hist, f_valid, \n",
    "                                            f_mod_transport, \n",
    "                                            debug=False)\n",
    "                task_list.append(task)\n"
   ]
  },
  {
   "cell_type": "markdown",
   "metadata": {
    "scrolled": true
   },
   "source": [
    "How many tasks are there?"
   ]
  },
  {
   "cell_type": "code",
   "execution_count": 83,
   "metadata": {},
   "outputs": [
    {
     "data": {
      "text/plain": [
       "582"
      ]
     },
     "execution_count": 83,
     "metadata": {},
     "output_type": "execute_result"
    }
   ],
   "source": [
    "len(task_list)"
   ]
  },
  {
   "cell_type": "markdown",
   "metadata": {},
   "source": [
    "### Actual computation\n",
    "The actual computation can be done for example with these two packages. We found `joblib` to work easier out of the box because we have independent computations.\n",
    "\n",
    "dask:\n",
    "1. Import `dask`\n",
    "2. Decorate the function to parallelize with `@dask.delayed`\n",
    "3. Call\n",
    "``with ProgressBar():\n",
    "    dask.compute(task_list)``\n",
    "    \n",
    "joblib:\n",
    "1. Import `from joblib import delayed, Parallel`\n",
    "2. Decorate the function to parallelize with `@delayed`\n",
    "3. Call\n",
    "``Parallel(n_jobs=20, verbose=10)(task_list)``"
   ]
  },
  {
   "cell_type": "code",
   "execution_count": 91,
   "metadata": {
    "scrolled": false
   },
   "outputs": [
    {
     "name": "stderr",
     "output_type": "stream",
     "text": [
      "[Parallel(n_jobs=20)]: Using backend LokyBackend with 20 concurrent workers.\n",
      "[Parallel(n_jobs=20)]: Done   1 tasks      | elapsed:  7.4min\n"
     ]
    },
    {
     "ename": "ValueError",
     "evalue": "Error when checking input: expected sequential_2_input to have shape (216,) but got array with shape (864,)",
     "output_type": "error",
     "traceback": [
      "\u001b[0;31m---------------------------------------------------------------------------\u001b[0m",
      "\u001b[0;31m_RemoteTraceback\u001b[0m                          Traceback (most recent call last)",
      "\u001b[0;31m_RemoteTraceback\u001b[0m: \n\"\"\"\nTraceback (most recent call last):\n  File \"/home/srvx11/lehre/users/a1254888/.conda/envs/ml_flood/lib/python3.7/site-packages/joblib/externals/loky/process_executor.py\", line 418, in _process_worker\n    r = call_item()\n  File \"/home/srvx11/lehre/users/a1254888/.conda/envs/ml_flood/lib/python3.7/site-packages/joblib/externals/loky/process_executor.py\", line 272, in __call__\n    return self.fn(*self.args, **self.kwargs)\n  File \"/home/srvx11/lehre/users/a1254888/.conda/envs/ml_flood/lib/python3.7/site-packages/joblib/_parallel_backends.py\", line 567, in __call__\n    return self.func(*args, **kwargs)\n  File \"/home/srvx11/lehre/users/a1254888/.conda/envs/ml_flood/lib/python3.7/site-packages/joblib/parallel.py\", line 225, in __call__\n    for func, args, kwargs in self.items]\n  File \"/home/srvx11/lehre/users/a1254888/.conda/envs/ml_flood/lib/python3.7/site-packages/joblib/parallel.py\", line 225, in <listcomp>\n    for func, args, kwargs in self.items]\n  File \"<ipython-input-76-b2e14e9f6fa4>\", line 46, in train_localmodel\n  File \"/home/srvx11/lehre/users/a1254888/.conda/envs/ml_flood/lib/python3.7/site-packages/sklearn/utils/metaestimators.py\", line 116, in <lambda>\n    out = lambda *args, **kwargs: self.fn(obj, *args, **kwargs)\n  File \"/home/srvx11/lehre/users/a1254888/.conda/envs/ml_flood/lib/python3.7/site-packages/sklearn/pipeline.py\", line 422, in predict\n    return self.steps[-1][-1].predict(Xt, **predict_params)\n  File \"../python/aux/floodmodels.py\", line 46, in predict\n    a = self.m.predict(Xda.values).squeeze()\n  File \"../python/aux/floodmodels.py\", line 80, in predict\n    return self.model.predict(Xda)\n  File \"/home/srvx11/lehre/users/a1254888/.conda/envs/ml_flood/lib/python3.7/site-packages/keras/engine/training.py\", line 1149, in predict\n    x, _, _ = self._standardize_user_data(x)\n  File \"/home/srvx11/lehre/users/a1254888/.conda/envs/ml_flood/lib/python3.7/site-packages/keras/engine/training.py\", line 751, in _standardize_user_data\n    exception_prefix='input')\n  File \"/home/srvx11/lehre/users/a1254888/.conda/envs/ml_flood/lib/python3.7/site-packages/keras/engine/training_utils.py\", line 138, in standardize_input_data\n    str(data_shape))\nValueError: Error when checking input: expected sequential_2_input to have shape (216,) but got array with shape (864,)\n\"\"\"",
      "\nThe above exception was the direct cause of the following exception:\n",
      "\u001b[0;31mValueError\u001b[0m                                Traceback (most recent call last)",
      "\u001b[0;32m<ipython-input-91-e7a4c278fe0d>\u001b[0m in \u001b[0;36m<module>\u001b[0;34m\u001b[0m\n\u001b[0;32m----> 1\u001b[0;31m \u001b[0mParallel\u001b[0m\u001b[0;34m(\u001b[0m\u001b[0mn_jobs\u001b[0m\u001b[0;34m=\u001b[0m\u001b[0;36m20\u001b[0m\u001b[0;34m,\u001b[0m \u001b[0mverbose\u001b[0m\u001b[0;34m=\u001b[0m\u001b[0;36m10\u001b[0m\u001b[0;34m)\u001b[0m\u001b[0;34m(\u001b[0m\u001b[0mtask_list\u001b[0m\u001b[0;34m)\u001b[0m\u001b[0;34m\u001b[0m\u001b[0;34m\u001b[0m\u001b[0m\n\u001b[0m",
      "\u001b[0;32m~/.conda/envs/ml_flood/lib/python3.7/site-packages/joblib/parallel.py\u001b[0m in \u001b[0;36m__call__\u001b[0;34m(self, iterable)\u001b[0m\n\u001b[1;32m    932\u001b[0m \u001b[0;34m\u001b[0m\u001b[0m\n\u001b[1;32m    933\u001b[0m             \u001b[0;32mwith\u001b[0m \u001b[0mself\u001b[0m\u001b[0;34m.\u001b[0m\u001b[0m_backend\u001b[0m\u001b[0;34m.\u001b[0m\u001b[0mretrieval_context\u001b[0m\u001b[0;34m(\u001b[0m\u001b[0;34m)\u001b[0m\u001b[0;34m:\u001b[0m\u001b[0;34m\u001b[0m\u001b[0;34m\u001b[0m\u001b[0m\n\u001b[0;32m--> 934\u001b[0;31m                 \u001b[0mself\u001b[0m\u001b[0;34m.\u001b[0m\u001b[0mretrieve\u001b[0m\u001b[0;34m(\u001b[0m\u001b[0;34m)\u001b[0m\u001b[0;34m\u001b[0m\u001b[0;34m\u001b[0m\u001b[0m\n\u001b[0m\u001b[1;32m    935\u001b[0m             \u001b[0;31m# Make sure that we get a last message telling us we are done\u001b[0m\u001b[0;34m\u001b[0m\u001b[0;34m\u001b[0m\u001b[0;34m\u001b[0m\u001b[0m\n\u001b[1;32m    936\u001b[0m             \u001b[0melapsed_time\u001b[0m \u001b[0;34m=\u001b[0m \u001b[0mtime\u001b[0m\u001b[0;34m.\u001b[0m\u001b[0mtime\u001b[0m\u001b[0;34m(\u001b[0m\u001b[0;34m)\u001b[0m \u001b[0;34m-\u001b[0m \u001b[0mself\u001b[0m\u001b[0;34m.\u001b[0m\u001b[0m_start_time\u001b[0m\u001b[0;34m\u001b[0m\u001b[0;34m\u001b[0m\u001b[0m\n",
      "\u001b[0;32m~/.conda/envs/ml_flood/lib/python3.7/site-packages/joblib/parallel.py\u001b[0m in \u001b[0;36mretrieve\u001b[0;34m(self)\u001b[0m\n\u001b[1;32m    831\u001b[0m             \u001b[0;32mtry\u001b[0m\u001b[0;34m:\u001b[0m\u001b[0;34m\u001b[0m\u001b[0;34m\u001b[0m\u001b[0m\n\u001b[1;32m    832\u001b[0m                 \u001b[0;32mif\u001b[0m \u001b[0mgetattr\u001b[0m\u001b[0;34m(\u001b[0m\u001b[0mself\u001b[0m\u001b[0;34m.\u001b[0m\u001b[0m_backend\u001b[0m\u001b[0;34m,\u001b[0m \u001b[0;34m'supports_timeout'\u001b[0m\u001b[0;34m,\u001b[0m \u001b[0;32mFalse\u001b[0m\u001b[0;34m)\u001b[0m\u001b[0;34m:\u001b[0m\u001b[0;34m\u001b[0m\u001b[0;34m\u001b[0m\u001b[0m\n\u001b[0;32m--> 833\u001b[0;31m                     \u001b[0mself\u001b[0m\u001b[0;34m.\u001b[0m\u001b[0m_output\u001b[0m\u001b[0;34m.\u001b[0m\u001b[0mextend\u001b[0m\u001b[0;34m(\u001b[0m\u001b[0mjob\u001b[0m\u001b[0;34m.\u001b[0m\u001b[0mget\u001b[0m\u001b[0;34m(\u001b[0m\u001b[0mtimeout\u001b[0m\u001b[0;34m=\u001b[0m\u001b[0mself\u001b[0m\u001b[0;34m.\u001b[0m\u001b[0mtimeout\u001b[0m\u001b[0;34m)\u001b[0m\u001b[0;34m)\u001b[0m\u001b[0;34m\u001b[0m\u001b[0;34m\u001b[0m\u001b[0m\n\u001b[0m\u001b[1;32m    834\u001b[0m                 \u001b[0;32melse\u001b[0m\u001b[0;34m:\u001b[0m\u001b[0;34m\u001b[0m\u001b[0;34m\u001b[0m\u001b[0m\n\u001b[1;32m    835\u001b[0m                     \u001b[0mself\u001b[0m\u001b[0;34m.\u001b[0m\u001b[0m_output\u001b[0m\u001b[0;34m.\u001b[0m\u001b[0mextend\u001b[0m\u001b[0;34m(\u001b[0m\u001b[0mjob\u001b[0m\u001b[0;34m.\u001b[0m\u001b[0mget\u001b[0m\u001b[0;34m(\u001b[0m\u001b[0;34m)\u001b[0m\u001b[0;34m)\u001b[0m\u001b[0;34m\u001b[0m\u001b[0;34m\u001b[0m\u001b[0m\n",
      "\u001b[0;32m~/.conda/envs/ml_flood/lib/python3.7/site-packages/joblib/_parallel_backends.py\u001b[0m in \u001b[0;36mwrap_future_result\u001b[0;34m(future, timeout)\u001b[0m\n\u001b[1;32m    519\u001b[0m         AsyncResults.get from multiprocessing.\"\"\"\n\u001b[1;32m    520\u001b[0m         \u001b[0;32mtry\u001b[0m\u001b[0;34m:\u001b[0m\u001b[0;34m\u001b[0m\u001b[0;34m\u001b[0m\u001b[0m\n\u001b[0;32m--> 521\u001b[0;31m             \u001b[0;32mreturn\u001b[0m \u001b[0mfuture\u001b[0m\u001b[0;34m.\u001b[0m\u001b[0mresult\u001b[0m\u001b[0;34m(\u001b[0m\u001b[0mtimeout\u001b[0m\u001b[0;34m=\u001b[0m\u001b[0mtimeout\u001b[0m\u001b[0;34m)\u001b[0m\u001b[0;34m\u001b[0m\u001b[0;34m\u001b[0m\u001b[0m\n\u001b[0m\u001b[1;32m    522\u001b[0m         \u001b[0;32mexcept\u001b[0m \u001b[0mLokyTimeoutError\u001b[0m\u001b[0;34m:\u001b[0m\u001b[0;34m\u001b[0m\u001b[0;34m\u001b[0m\u001b[0m\n\u001b[1;32m    523\u001b[0m             \u001b[0;32mraise\u001b[0m \u001b[0mTimeoutError\u001b[0m\u001b[0;34m(\u001b[0m\u001b[0;34m)\u001b[0m\u001b[0;34m\u001b[0m\u001b[0;34m\u001b[0m\u001b[0m\n",
      "\u001b[0;32m~/.conda/envs/ml_flood/lib/python3.7/concurrent/futures/_base.py\u001b[0m in \u001b[0;36mresult\u001b[0;34m(self, timeout)\u001b[0m\n\u001b[1;32m    430\u001b[0m                 \u001b[0;32mraise\u001b[0m \u001b[0mCancelledError\u001b[0m\u001b[0;34m(\u001b[0m\u001b[0;34m)\u001b[0m\u001b[0;34m\u001b[0m\u001b[0;34m\u001b[0m\u001b[0m\n\u001b[1;32m    431\u001b[0m             \u001b[0;32melif\u001b[0m \u001b[0mself\u001b[0m\u001b[0;34m.\u001b[0m\u001b[0m_state\u001b[0m \u001b[0;34m==\u001b[0m \u001b[0mFINISHED\u001b[0m\u001b[0;34m:\u001b[0m\u001b[0;34m\u001b[0m\u001b[0;34m\u001b[0m\u001b[0m\n\u001b[0;32m--> 432\u001b[0;31m                 \u001b[0;32mreturn\u001b[0m \u001b[0mself\u001b[0m\u001b[0;34m.\u001b[0m\u001b[0m__get_result\u001b[0m\u001b[0;34m(\u001b[0m\u001b[0;34m)\u001b[0m\u001b[0;34m\u001b[0m\u001b[0;34m\u001b[0m\u001b[0m\n\u001b[0m\u001b[1;32m    433\u001b[0m             \u001b[0;32melse\u001b[0m\u001b[0;34m:\u001b[0m\u001b[0;34m\u001b[0m\u001b[0;34m\u001b[0m\u001b[0m\n\u001b[1;32m    434\u001b[0m                 \u001b[0;32mraise\u001b[0m \u001b[0mTimeoutError\u001b[0m\u001b[0;34m(\u001b[0m\u001b[0;34m)\u001b[0m\u001b[0;34m\u001b[0m\u001b[0;34m\u001b[0m\u001b[0m\n",
      "\u001b[0;32m~/.conda/envs/ml_flood/lib/python3.7/concurrent/futures/_base.py\u001b[0m in \u001b[0;36m__get_result\u001b[0;34m(self)\u001b[0m\n\u001b[1;32m    382\u001b[0m     \u001b[0;32mdef\u001b[0m \u001b[0m__get_result\u001b[0m\u001b[0;34m(\u001b[0m\u001b[0mself\u001b[0m\u001b[0;34m)\u001b[0m\u001b[0;34m:\u001b[0m\u001b[0;34m\u001b[0m\u001b[0;34m\u001b[0m\u001b[0m\n\u001b[1;32m    383\u001b[0m         \u001b[0;32mif\u001b[0m \u001b[0mself\u001b[0m\u001b[0;34m.\u001b[0m\u001b[0m_exception\u001b[0m\u001b[0;34m:\u001b[0m\u001b[0;34m\u001b[0m\u001b[0;34m\u001b[0m\u001b[0m\n\u001b[0;32m--> 384\u001b[0;31m             \u001b[0;32mraise\u001b[0m \u001b[0mself\u001b[0m\u001b[0;34m.\u001b[0m\u001b[0m_exception\u001b[0m\u001b[0;34m\u001b[0m\u001b[0;34m\u001b[0m\u001b[0m\n\u001b[0m\u001b[1;32m    385\u001b[0m         \u001b[0;32melse\u001b[0m\u001b[0;34m:\u001b[0m\u001b[0;34m\u001b[0m\u001b[0;34m\u001b[0m\u001b[0m\n\u001b[1;32m    386\u001b[0m             \u001b[0;32mreturn\u001b[0m \u001b[0mself\u001b[0m\u001b[0;34m.\u001b[0m\u001b[0m_result\u001b[0m\u001b[0;34m\u001b[0m\u001b[0;34m\u001b[0m\u001b[0m\n",
      "\u001b[0;31mValueError\u001b[0m: Error when checking input: expected sequential_2_input to have shape (216,) but got array with shape (864,)"
     ]
    }
   ],
   "source": [
    "Parallel(n_jobs=20, verbose=10)(task_list)"
   ]
  },
  {
   "cell_type": "markdown",
   "metadata": {},
   "source": [
    "The work is now finished and saved in our folder."
   ]
  },
  {
   "cell_type": "code",
   "execution_count": 23,
   "metadata": {},
   "outputs": [
    {
     "data": {
      "text/plain": [
       "50"
      ]
     },
     "execution_count": 23,
     "metadata": {},
     "output_type": "execute_result"
    }
   ],
   "source": [
    "files = os.listdir(os.path.dirname(f_mod))\n",
    "len(files)"
   ]
  },
  {
   "cell_type": "markdown",
   "metadata": {},
   "source": [
    "Let's look at some of the results:"
   ]
  },
  {
   "cell_type": "code",
   "execution_count": 85,
   "metadata": {},
   "outputs": [],
   "source": [
    "from IPython.display import Image\n",
    "ddir = \"../models/localmodel/danube/neural_net/\""
   ]
  },
  {
   "cell_type": "code",
   "execution_count": 89,
   "metadata": {},
   "outputs": [
    {
     "data": {
      "image/png": "[encoded data removed]",
      "text/plain": [
       "<IPython.core.display.Image object>"
      ]
     },
     "execution_count": 89,
     "metadata": {},
     "output_type": "execute_result"
    }
   ],
   "source": [
    "Image(ddir+'point_48.65_16.850000000000023_history.png')"
   ]
  },
  {
   "cell_type": "code",
   "execution_count": 90,
   "metadata": {},
   "outputs": [
    {
     "data": {
      "image/png": "[encoded data removed]",
      "text/plain": [
       "<IPython.core.display.Image object>"
      ]
     },
     "execution_count": 90,
     "metadata": {},
     "output_type": "execute_result"
    }
   ],
   "source": [
    "Image(ddir+'point_48.65_16.850000000000023_validation.png')"
   ]
  },
  {
   "cell_type": "code",
   "execution_count": null,
   "metadata": {},
   "outputs": [],
   "source": []
  },
  {
   "cell_type": "code",
   "execution_count": null,
   "metadata": {},
   "outputs": [],
   "source": []
  },
  {
   "cell_type": "code",
   "execution_count": null,
   "metadata": {},
   "outputs": [],
   "source": []
  },
  {
   "cell_type": "code",
   "execution_count": null,
   "metadata": {},
   "outputs": [],
   "source": []
  },
  {
   "cell_type": "code",
   "execution_count": null,
   "metadata": {},
   "outputs": [],
   "source": []
  }
 ],
 "metadata": {
  "kernelspec": {
   "display_name": "Python 3",
   "language": "python",
   "name": "python3"
  },
  "language_info": {
   "codemirror_mode": {
    "name": "ipython",
    "version": 3
   },
   "file_extension": ".py",
   "mimetype": "text/x-python",
   "name": "python",
   "nbconvert_exporter": "python",
   "pygments_lexer": "ipython3",
   "version": "3.7.3"
  }
 },
 "nbformat": 4,
 "nbformat_minor": 2
}
