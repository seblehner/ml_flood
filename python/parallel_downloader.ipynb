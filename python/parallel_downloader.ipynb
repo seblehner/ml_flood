{
 "cells": [
  {
   "cell_type": "markdown",
   "metadata": {},
   "source": [
    "## Starting multiple requests using the multiprocessing package"
   ]
  },
  {
   "cell_type": "markdown",
   "metadata": {},
   "source": [
    "description"
   ]
  },
  {
   "cell_type": "code",
   "execution_count": 1,
   "metadata": {},
   "outputs": [],
   "source": [
    "from ml_flood_config import path_to_data\n",
    "from aux.data_download import CDS_Dataset"
   ]
  },
  {
   "cell_type": "markdown",
   "metadata": {},
   "source": [
    "## 1) download pressure level data"
   ]
  },
  {
   "cell_type": "code",
   "execution_count": 2,
   "metadata": {},
   "outputs": [],
   "source": [
    "# define areas of interest\n",
    "area_dict = {'danube': '50/7/47/20',\n",
    "             'asia': '55/35/0/140',\n",
    "             'usa': '50/-125/25/-70'}"
   ]
  },
  {
   "cell_type": "code",
   "execution_count": 3,
   "metadata": {},
   "outputs": [],
   "source": [
    "ds = CDS_Dataset(dataset_name=\"reanalysis-era5-pressure-levels\",\n",
    "                 save_to_folder=path_to_data  # path to where datasets shall be stored\n",
    "                ) "
   ]
  },
  {
   "cell_type": "code",
   "execution_count": null,
   "metadata": {},
   "outputs": [
    {
     "name": "stderr",
     "output_type": "stream",
     "text": [
      "2019-05-30 01:34:51,598 INFO Sending request to https://cds.climate.copernicus.eu/api/v2/resources/reanalysis-era5-pressure-levels\n",
      "2019-05-30 01:34:51,599 INFO Sending request to https://cds.climate.copernicus.eu/api/v2/resources/reanalysis-era5-pressure-levels\n",
      "2019-05-30 01:34:51,599 INFO Sending request to https://cds.climate.copernicus.eu/api/v2/resources/reanalysis-era5-pressure-levels\n",
      "2019-05-30 01:34:51,600 INFO Sending request to https://cds.climate.copernicus.eu/api/v2/resources/reanalysis-era5-pressure-levels\n",
      "2019-05-30 01:34:51,601 INFO Sending request to https://cds.climate.copernicus.eu/api/v2/resources/reanalysis-era5-pressure-levels\n",
      "2019-05-30 01:34:51,604 INFO Sending request to https://cds.climate.copernicus.eu/api/v2/resources/reanalysis-era5-pressure-levels\n",
      "2019-05-30 01:34:51,605 INFO Sending request to https://cds.climate.copernicus.eu/api/v2/resources/reanalysis-era5-pressure-levels\n",
      "2019-05-30 01:34:51,606 INFO Sending request to https://cds.climate.copernicus.eu/api/v2/resources/reanalysis-era5-pressure-levels\n",
      "2019-05-30 01:34:51,608 INFO Sending request to https://cds.climate.copernicus.eu/api/v2/resources/reanalysis-era5-pressure-levels\n",
      "2019-05-30 01:34:51,607 INFO Sending request to https://cds.climate.copernicus.eu/api/v2/resources/reanalysis-era5-pressure-levels\n",
      "/raid/home/srvx7/lehre/users/a1254888/ipython/ml_flood/python/aux/data_download.py:66: UserWarning: \"day\" not found in arguments, assuming day=['01', '02', '03', '04', '05', '06', '07', '08', '09', '10', '11', '12', '13', '14', '15', '16', '17', '18', '19', '20', '21', '22', '23', '24', '25', '26', '27', '28', '29', '30', '31']\n",
      "  warnings.warn(f'\"{key}\" not found in arguments, assuming {key}={assumed_args[key]}')\n",
      "/raid/home/srvx7/lehre/users/a1254888/ipython/ml_flood/python/aux/data_download.py:66: UserWarning: \"time\" not found in arguments, assuming time=['00', '01', '02', '03', '04', '05', '06', '07', '08', '09', '10', '11', '12', '13', '14', '15', '16', '17', '18', '19', '20', '21', '22', '23']\n",
      "  warnings.warn(f'\"{key}\" not found in arguments, assuming {key}={assumed_args[key]}')\n",
      "2019-05-30 01:34:51,983 INFO Request is queued\n",
      "2019-05-30 01:34:51,984 INFO Request is queued\n",
      "2019-05-30 01:34:51,983 INFO Request is queued\n",
      "2019-05-30 01:34:51,983 INFO Request is queued\n",
      "2019-05-30 01:34:51,984 INFO Request is queued\n",
      "2019-05-30 01:34:51,984 INFO Request is queued\n",
      "2019-05-30 01:34:51,985 INFO Request is queued\n",
      "2019-05-30 01:34:51,986 INFO Request is queued\n",
      "2019-05-30 01:34:51,985 INFO Request is queued\n",
      "2019-05-30 01:34:51,989 INFO Request is queued\n"
     ]
    }
   ],
   "source": [
    "ds.get(years = [str(y) for y in range(1980, 2018)], \n",
    "       months = [str(a).zfill(2) for a in range(1,13)], \n",
    "       request = dict(product_type='reanalysis', format='netcdf',\n",
    "                      area=area_dict['asia'],\n",
    "                      variable=['geopotential', 'temperature', 'specific_humidity'], \n",
    "                      pressure_level=['850', '700', '500']), \n",
    "       N_parallel_requests=10)"
   ]
  },
  {
   "cell_type": "code",
   "execution_count": null,
   "metadata": {},
   "outputs": [],
   "source": []
  },
  {
   "cell_type": "markdown",
   "metadata": {},
   "source": [
    "## 2) download single level data"
   ]
  },
  {
   "cell_type": "code",
   "execution_count": null,
   "metadata": {},
   "outputs": [],
   "source": [
    "ds = CDS_Dataset(dataset_name=\"reanalysis-era5-single-levels\",\n",
    "                 save_to_folder=path_to_data  # path to where datasets shall be stored\n",
    "                )\n",
    "\n",
    "ds.get(years = [str(y) for y in range(1980, 2017)], \n",
    "       months = [str(a).zfill(2) for a in range(1,13)], \n",
    "       request = dict(product_type='reanalysis', format='netcdf',\n",
    "                      area=area_dict['usa'],\n",
    "                      variable=['lsp', 'convective_precipitation']\n",
    "                     ),\n",
    "       N_parallel_requests=10)"
   ]
  },
  {
   "cell_type": "code",
   "execution_count": null,
   "metadata": {},
   "outputs": [],
   "source": [
    "ds = CDS_Dataset(dataset_name=\"reanalysis-era5-single-levels\",\n",
    "                 save_to_folder=path_to_data  # path to where datasets shall be stored\n",
    "                ) \n",
    "\n",
    "ds.get(years = [str(y) for y in range(1980, 2017)], \n",
    "       months = [str(a).zfill(2) for a in range(1,13)], \n",
    "       request = dict(product_type='reanalysis', format='netcdf',\n",
    "                      area=area_dict['usa'],\n",
    "                      variable=['volumetric_soil_water_layer_1', 'volumetric_soil_water_layer_2', \n",
    "                                'slope_of_sub_gridscale_orography', 'land_sea_mask', \n",
    "                                'soil_type', 'runoff', 'total_column_water_vapour']\n",
    "                     ),\n",
    "       N_parallel_requests=10)"
   ]
  }
 ],
 "metadata": {
  "kernelspec": {
   "display_name": "Python 3",
   "language": "python",
   "name": "python3"
  },
  "language_info": {
   "codemirror_mode": {
    "name": "ipython",
    "version": 3
   },
   "file_extension": ".py",
   "mimetype": "text/x-python",
   "name": "python",
   "nbconvert_exporter": "python",
   "pygments_lexer": "ipython3",
   "version": "3.7.3"
  }
 },
 "nbformat": 4,
 "nbformat_minor": 2
}
