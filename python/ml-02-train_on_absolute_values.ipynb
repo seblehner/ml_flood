{
 "cells": [
  {
   "cell_type": "code",
   "execution_count": 1,
   "metadata": {},
   "outputs": [
    {
     "name": "stderr",
     "output_type": "stream",
     "text": [
      "/home/srvx11/lehre/users/a1254888/.conda/envs/ml_flood2/lib/python3.7/site-packages/distributed/bokeh/core.py:74: UserWarning: \n",
      "Port 8787 is already in use. \n",
      "Perhaps you already have a cluster running?\n",
      "Hosting the diagnostics dashboard on a random port instead.\n",
      "  warnings.warn(\"\\n\" + msg)\n"
     ]
    }
   ],
   "source": [
    "import numpy as np\n",
    "import datetime as dt\n",
    "import pandas as pd\n",
    "import matplotlib.pyplot as plt\n",
    "import seaborn as sns\n",
    "\n",
    "import dask\n",
    "from dask.distributed import Client, LocalCluster\n",
    "cluster = LocalCluster(processes=True) #n_workers=10, threads_per_worker=1, \n",
    "client = Client(cluster)  # memory_limit='16GB', \n",
    "\n",
    "import xarray as xr\n",
    "from dask.diagnostics import ProgressBar"
   ]
  },
  {
   "cell_type": "code",
   "execution_count": 2,
   "metadata": {},
   "outputs": [
    {
     "data": {
      "text/html": [
       "<table style=\"border: 2px solid white;\">\n",
       "<tr>\n",
       "<td style=\"vertical-align: top; border: 0px solid white\">\n",
       "<h3>Client</h3>\n",
       "<ul>\n",
       "  <li><b>Scheduler: </b>tcp://127.0.0.1:39914\n",
       "  <li><b>Dashboard: </b><a href='http://127.0.0.1:40017/status' target='_blank'>http://127.0.0.1:40017/status</a>\n",
       "</ul>\n",
       "</td>\n",
       "<td style=\"vertical-align: top; border: 0px solid white\">\n",
       "<h3>Cluster</h3>\n",
       "<ul>\n",
       "  <li><b>Workers: </b>8</li>\n",
       "  <li><b>Cores: </b>32</li>\n",
       "  <li><b>Memory: </b>203.20 GB</li>\n",
       "</ul>\n",
       "</td>\n",
       "</tr>\n",
       "</table>"
      ],
      "text/plain": [
       "<Client: scheduler='tcp://127.0.0.1:39914' processes=8 cores=32>"
      ]
     },
     "execution_count": 2,
     "metadata": {},
     "output_type": "execute_result"
    }
   ],
   "source": [
    "client"
   ]
  },
  {
   "cell_type": "code",
   "execution_count": 3,
   "metadata": {
    "scrolled": false
   },
   "outputs": [
    {
     "name": "stdout",
     "output_type": "stream",
     "text": [
      "/home/srvx11/lehre/users/a1254888/.conda/envs/ml_flood2/bin/python3\n"
     ]
    }
   ],
   "source": [
    "import sys\n",
    "print(sys.executable)"
   ]
  },
  {
   "cell_type": "code",
   "execution_count": 4,
   "metadata": {
    "scrolled": true
   },
   "outputs": [],
   "source": [
    "def shift_time(ds, value):\n",
    "    ds.coords['time'].values = pd.to_datetime(ds.coords['time'].values) + value\n",
    "    return ds"
   ]
  },
  {
   "cell_type": "code",
   "execution_count": 5,
   "metadata": {},
   "outputs": [],
   "source": [
    "static = xr.open_dataset('../data/danube/era5_slt_z_slor_lsm_stationary_field.nc')"
   ]
  },
  {
   "cell_type": "code",
   "execution_count": 6,
   "metadata": {},
   "outputs": [],
   "source": [
    "era5 = xr.open_dataset('../data/danube/era5_danube_pressure_and_single_levels.nc')"
   ]
  },
  {
   "cell_type": "code",
   "execution_count": 7,
   "metadata": {},
   "outputs": [],
   "source": [
    "glofas = xr.open_dataset('../data/danube/glofas_reanalysis_danube_1981-2002.nc')\n",
    "glofas = glofas.rename({'lat': 'latitude', 'lon': 'longitude'})  # to have the same name like in era5\n",
    "glofas = shift_time(glofas, -dt.timedelta(days=1))"
   ]
  },
  {
   "cell_type": "code",
   "execution_count": 8,
   "metadata": {},
   "outputs": [],
   "source": [
    "glofas_rerun = xr.open_dataset('../data/glofas-freruns/2013051800/glofas2.3_era5wb_reforecast_dis_bigchannels_1000km2_20130518_0.nc')\n",
    "glofas_rerun = glofas_rerun.rename({'lat': 'latitude', 'lon': 'longitude'})\n",
    "glofas_rerun = shift_time(glofas_rerun, -dt.timedelta(days=1))"
   ]
  },
  {
   "cell_type": "markdown",
   "metadata": {},
   "source": [
    "## feature selection"
   ]
  },
  {
   "cell_type": "code",
   "execution_count": 9,
   "metadata": {},
   "outputs": [],
   "source": [
    "if not 'lsp' in era5:\n",
    "    lsp = era5['tp']-era5['cp']\n",
    "    lsp.name = 'lsp'\n",
    "else:\n",
    "    lsp = era5['lsp']\n",
    "\n",
    "reltop = era5['z'].sel(level=500) - era5['z'].sel(level=850)\n",
    "reltop.name = 'reltop'\n",
    "\n",
    "q_mean = era5['q'].mean('level')\n",
    "q_mean.name = 'q_mean'\n",
    "\n",
    "era5 = xr.merge([era5['cp'], lsp, reltop, q_mean])"
   ]
  },
  {
   "cell_type": "markdown",
   "metadata": {},
   "source": [
    "### Interpolation step"
   ]
  },
  {
   "cell_type": "code",
   "execution_count": 10,
   "metadata": {},
   "outputs": [],
   "source": [
    "era5 = era5.interp(latitude=glofas.latitude, longitude=glofas.longitude)"
   ]
  },
  {
   "cell_type": "markdown",
   "metadata": {},
   "source": [
    "### time subset"
   ]
  },
  {
   "cell_type": "code",
   "execution_count": 11,
   "metadata": {},
   "outputs": [],
   "source": [
    "era5 = era5.isel(time=slice(0*365,3*365))\n",
    "glofas = glofas.isel(time=slice(0*365,3*365))\n",
    "\n",
    "if len(era5.time) < 3000:\n",
    "    era5 = era5.load()\n",
    "    glofas = glofas.load()"
   ]
  },
  {
   "cell_type": "code",
   "execution_count": 12,
   "metadata": {},
   "outputs": [],
   "source": [
    "krems = dict(latitude=48.403, longitude=15.615)\n",
    "\n",
    "surrounding = dict(latitude=slice(krems['latitude']+1, \n",
    "                                  krems['latitude']-1),\n",
    "                   longitude=slice(krems['longitude']-1, \n",
    "                                  krems['longitude']+1))"
   ]
  },
  {
   "cell_type": "code",
   "execution_count": 13,
   "metadata": {},
   "outputs": [
    {
     "data": {
      "text/plain": [
       "<xarray.Dataset>\n",
       "Dimensions:  (time: 1095)\n",
       "Coordinates:\n",
       "  * time     (time) datetime64[ns] 1981-01-01 1981-01-02 ... 1983-12-31\n",
       "Data variables:\n",
       "    cp       (time) float64 0.001624 0.0008551 0.0008235 ... 0.0004743 6.423e-05\n",
       "    lsp      (time) float64 0.000967 0.002493 0.0079 ... 0.0001274 0.001093\n",
       "    reltop   (time) float64 3.924e+04 3.87e+04 4.008e+04 ... 4.065e+04 4.001e+04\n",
       "    q_mean   (time) float64 0.001418 0.001336 0.002463 ... 0.001842 0.001696"
      ]
     },
     "execution_count": 13,
     "metadata": {},
     "output_type": "execute_result"
    }
   ],
   "source": [
    "# select data of interest\n",
    "dis = glofas.interp(krems)\n",
    "y = dis #.diff('time', 1)  # forecast time difference of discharge\n",
    "X = era5.sel(surrounding).mean(['latitude', 'longitude'])\n",
    "X"
   ]
  },
  {
   "cell_type": "code",
   "execution_count": 14,
   "metadata": {},
   "outputs": [],
   "source": [
    "def add_shifted_predictors(ds, shifts, variables='all'):\n",
    "    \"\"\"Adds additional variables to an array which are shifted in time.\n",
    "    \n",
    "    Parameters\n",
    "    ----------\n",
    "    ds : xr.Dataset\n",
    "    shifts : list of integers\n",
    "    variables : str or list\n",
    "    \"\"\"\n",
    "    if variables == 'all': \n",
    "        variables = ds.data_vars\n",
    "        \n",
    "    for var in variables:\n",
    "        for i in shifts:\n",
    "            if i == 0: continue  # makes no sense to shift by zero\n",
    "            newvar = var+'-'+str(i)\n",
    "            ds[newvar] = ds[var].shift(time=i)\n",
    "    return ds"
   ]
  },
  {
   "cell_type": "code",
   "execution_count": 15,
   "metadata": {
    "scrolled": false
   },
   "outputs": [],
   "source": [
    "shifts = range(1,11)\n",
    "notshift_vars = ['swvl1', 'swvl2']\n",
    "shift_vars = [v for v in X.data_vars if not v in notshift_vars]\n",
    "\n",
    "Xs = add_shifted_predictors(X, shifts, variables=shift_vars)"
   ]
  },
  {
   "cell_type": "code",
   "execution_count": 16,
   "metadata": {},
   "outputs": [],
   "source": [
    "Xar = Xs.to_array(dim='features')\n",
    "yar = y.to_array()\n",
    "yar = yar.rename({'variable': 'features'})\n",
    "yar = yar.drop(['latitude', 'longitude'])"
   ]
  },
  {
   "cell_type": "code",
   "execution_count": 17,
   "metadata": {},
   "outputs": [],
   "source": [
    "Xy = xr.concat([Xar, yar], dim='features')  \n",
    "Xyt = Xy.dropna('time', how='any')  # drop them as we cannot train on nan values"
   ]
  },
  {
   "cell_type": "code",
   "execution_count": 18,
   "metadata": {},
   "outputs": [
    {
     "data": {
      "text/plain": [
       "(45, 1095)"
      ]
     },
     "execution_count": 18,
     "metadata": {},
     "output_type": "execute_result"
    }
   ],
   "source": [
    "Xy.shape"
   ]
  },
  {
   "cell_type": "code",
   "execution_count": 19,
   "metadata": {},
   "outputs": [],
   "source": [
    "assert len(Xyt.time) > 1"
   ]
  },
  {
   "cell_type": "code",
   "execution_count": 20,
   "metadata": {},
   "outputs": [],
   "source": [
    "predictand = 'dis'\n",
    "predictors = [v for v in Xyt.coords['features'].values if v != predictand]"
   ]
  },
  {
   "cell_type": "code",
   "execution_count": 21,
   "metadata": {},
   "outputs": [],
   "source": [
    "Xda = Xyt.loc[predictors]\n",
    "yda = Xyt.loc[predictand]"
   ]
  },
  {
   "cell_type": "code",
   "execution_count": 22,
   "metadata": {
    "scrolled": false
   },
   "outputs": [
    {
     "data": {
      "text/plain": [
       "['cp',\n",
       " 'lsp',\n",
       " 'reltop',\n",
       " 'q_mean',\n",
       " 'cp-1',\n",
       " 'cp-2',\n",
       " 'cp-3',\n",
       " 'cp-4',\n",
       " 'cp-5',\n",
       " 'cp-6',\n",
       " 'cp-7',\n",
       " 'cp-8',\n",
       " 'cp-9',\n",
       " 'cp-10',\n",
       " 'lsp-1',\n",
       " 'lsp-2',\n",
       " 'lsp-3',\n",
       " 'lsp-4',\n",
       " 'lsp-5',\n",
       " 'lsp-6',\n",
       " 'lsp-7',\n",
       " 'lsp-8',\n",
       " 'lsp-9',\n",
       " 'lsp-10',\n",
       " 'reltop-1',\n",
       " 'reltop-2',\n",
       " 'reltop-3',\n",
       " 'reltop-4',\n",
       " 'reltop-5',\n",
       " 'reltop-6',\n",
       " 'reltop-7',\n",
       " 'reltop-8',\n",
       " 'reltop-9',\n",
       " 'reltop-10',\n",
       " 'q_mean-1',\n",
       " 'q_mean-2',\n",
       " 'q_mean-3',\n",
       " 'q_mean-4',\n",
       " 'q_mean-5',\n",
       " 'q_mean-6',\n",
       " 'q_mean-7',\n",
       " 'q_mean-8',\n",
       " 'q_mean-9',\n",
       " 'q_mean-10']"
      ]
     },
     "execution_count": 22,
     "metadata": {},
     "output_type": "execute_result"
    }
   ],
   "source": [
    "predictors"
   ]
  },
  {
   "cell_type": "code",
   "execution_count": 23,
   "metadata": {},
   "outputs": [],
   "source": [
    "time = yda.time\n",
    "Xda = Xda.chunk(dict(time=-1, features=-1)).data.T\n",
    "yda = yda.data.squeeze()"
   ]
  },
  {
   "cell_type": "code",
   "execution_count": 24,
   "metadata": {},
   "outputs": [
    {
     "data": {
      "text/plain": [
       "dask.array<transpose, shape=(1085, 44), dtype=float64, chunksize=(1085, 44)>"
      ]
     },
     "execution_count": 24,
     "metadata": {},
     "output_type": "execute_result"
    }
   ],
   "source": [
    "Xda"
   ]
  },
  {
   "cell_type": "code",
   "execution_count": 25,
   "metadata": {},
   "outputs": [
    {
     "data": {
      "text/plain": [
       "array([511.176361  , 508.53819285, 505.81103593, ..., 401.64623683,\n",
       "       401.4437952 , 394.49342294])"
      ]
     },
     "execution_count": 25,
     "metadata": {},
     "output_type": "execute_result"
    }
   ],
   "source": [
    "yda"
   ]
  },
  {
   "cell_type": "code",
   "execution_count": 26,
   "metadata": {},
   "outputs": [],
   "source": [
    "import joblib\n",
    "from sklearn.pipeline import Pipeline\n",
    "from dask_ml.preprocessing import StandardScaler\n",
    "from dask_ml.decomposition import PCA\n",
    "\n",
    "#from dask_ml.xgboost import XGBRegressor\n",
    "from dask_ml.linear_model import LogisticRegression\n",
    "from dask_ml.linear_model import LinearRegression\n"
   ]
  },
  {
   "cell_type": "code",
   "execution_count": 27,
   "metadata": {},
   "outputs": [],
   "source": [
    "model_kws = dict(n_jobs=-1, max_iter=10000, verbose=True)\n",
    "\n",
    "pipe = Pipeline([('scaler', StandardScaler()),\n",
    "                 #('pca', PCA(n_components=6)),\n",
    "                 ('model', LinearRegression(**model_kws)),],\n",
    "                verbose=True)"
   ]
  },
  {
   "cell_type": "code",
   "execution_count": 28,
   "metadata": {},
   "outputs": [
    {
     "data": {
      "text/plain": [
       "Pipeline(memory=None,\n",
       "         steps=[('scaler',\n",
       "                 StandardScaler(copy=True, with_mean=True, with_std=True)),\n",
       "                ('model',\n",
       "                 LinearRegression(C=1.0, class_weight=None, dual=False,\n",
       "                                  fit_intercept=True, intercept_scaling=1.0,\n",
       "                                  max_iter=10000, multi_class='ovr', n_jobs=-1,\n",
       "                                  penalty='l2', random_state=None,\n",
       "                                  solver='admm', solver_kwargs=None, tol=0.0001,\n",
       "                                  verbose=True, warm_start=False))],\n",
       "         verbose=True)"
      ]
     },
     "execution_count": 28,
     "metadata": {},
     "output_type": "execute_result"
    }
   ],
   "source": [
    "pipe"
   ]
  },
  {
   "cell_type": "code",
   "execution_count": 29,
   "metadata": {
    "scrolled": true
   },
   "outputs": [
    {
     "name": "stdout",
     "output_type": "stream",
     "text": [
      "[Pipeline] ............ (step 1 of 2) Processing scaler, total=   0.5s\n",
      "[Pipeline] ............. (step 2 of 2) Processing model, total=   1.1s\n"
     ]
    }
   ],
   "source": [
    "Xda = Xda.persist()\n",
    "\n",
    "with ProgressBar():\n",
    "    pipe.fit(Xda, yda)"
   ]
  },
  {
   "cell_type": "markdown",
   "metadata": {},
   "source": [
    "# Test it on the same data"
   ]
  },
  {
   "cell_type": "code",
   "execution_count": null,
   "metadata": {},
   "outputs": [],
   "source": []
  },
  {
   "cell_type": "code",
   "execution_count": 30,
   "metadata": {},
   "outputs": [],
   "source": [
    "def add_time(vector, time, name=None):\n",
    "    \"\"\"Converts arrays to xarrays with a time coordinate.\"\"\"\n",
    "    return xr.DataArray(vector, dims=('time'), coords={'time': time}, name=name)"
   ]
  },
  {
   "cell_type": "code",
   "execution_count": 39,
   "metadata": {},
   "outputs": [],
   "source": [
    "with ProgressBar():\n",
    "    ytest = pipe.predict(Xda)"
   ]
  },
  {
   "cell_type": "code",
   "execution_count": null,
   "metadata": {},
   "outputs": [],
   "source": []
  },
  {
   "cell_type": "code",
   "execution_count": 40,
   "metadata": {},
   "outputs": [],
   "source": [
    "ytest = add_time(ytest, time, name='dis-forecast')"
   ]
  },
  {
   "cell_type": "code",
   "execution_count": 42,
   "metadata": {
    "scrolled": false
   },
   "outputs": [
    {
     "data": {
      "text/plain": [
       "Text(0, 0.5, 'river discharge [m$^3$/s]')"
      ]
     },
     "execution_count": 42,
     "metadata": {},
     "output_type": "execute_result"
    },
    {
     "data": {
      "image/png": "[encoded data removed]",
      "text/plain": [
       "<Figure size 1728x360 with 1 Axes>"
      ]
     },
     "metadata": {
      "needs_background": "light"
     },
     "output_type": "display_data"
    }
   ],
   "source": [
    "fig, ax = plt.subplots(figsize=(24,5))\n",
    "Xyt.loc[predictand].to_pandas().plot(ax=ax, label='dis-reanalysis')\n",
    "ytest.to_pandas().plot(ax=ax, label='dis-forecast')\n",
    "plt.legend()\n",
    "ax.set_ylabel('river discharge [m$^3$/s]')"
   ]
  },
  {
   "cell_type": "code",
   "execution_count": null,
   "metadata": {},
   "outputs": [],
   "source": []
  },
  {
   "cell_type": "code",
   "execution_count": null,
   "metadata": {},
   "outputs": [],
   "source": []
  },
  {
   "cell_type": "code",
   "execution_count": null,
   "metadata": {},
   "outputs": [],
   "source": []
  },
  {
   "cell_type": "code",
   "execution_count": null,
   "metadata": {},
   "outputs": [],
   "source": []
  },
  {
   "cell_type": "code",
   "execution_count": null,
   "metadata": {},
   "outputs": [],
   "source": []
  },
  {
   "cell_type": "code",
   "execution_count": null,
   "metadata": {},
   "outputs": [],
   "source": []
  },
  {
   "cell_type": "code",
   "execution_count": null,
   "metadata": {},
   "outputs": [],
   "source": []
  },
  {
   "cell_type": "code",
   "execution_count": null,
   "metadata": {},
   "outputs": [],
   "source": []
  }
 ],
 "metadata": {
  "kernelspec": {
   "display_name": "Python 3",
   "language": "python",
   "name": "python3"
  },
  "language_info": {
   "codemirror_mode": {
    "name": "ipython",
    "version": 3
   },
   "file_extension": ".py",
   "mimetype": "text/x-python",
   "name": "python",
   "nbconvert_exporter": "python",
   "pygments_lexer": "ipython3",
   "version": "3.7.3"
  }
 },
 "nbformat": 4,
 "nbformat_minor": 2
}
