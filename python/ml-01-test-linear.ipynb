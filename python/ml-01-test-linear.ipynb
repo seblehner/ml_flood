{
 "cells": [
  {
   "cell_type": "code",
   "execution_count": 1,
   "metadata": {},
   "outputs": [],
   "source": [
    "import numpy as np\n",
    "import datetime as dt\n",
    "import pandas as pd\n",
    "import matplotlib.pyplot as plt\n",
    "import seaborn as sns\n",
    "\n",
    "import dask\n",
    "from dask.distributed import Client, LocalCluster\n",
    "cluster = LocalCluster(processes=True) #n_workers=10, threads_per_worker=1, \n",
    "client = Client(cluster)  # memory_limit='16GB', \n",
    "\n",
    "import xarray as xr\n",
    "from dask.diagnostics import ProgressBar"
   ]
  },
  {
   "cell_type": "code",
   "execution_count": 2,
   "metadata": {},
   "outputs": [
    {
     "data": {
      "text/html": [
       "<table style=\"border: 2px solid white;\">\n",
       "<tr>\n",
       "<td style=\"vertical-align: top; border: 0px solid white\">\n",
       "<h3>Client</h3>\n",
       "<ul>\n",
       "  <li><b>Scheduler: </b>tcp://127.0.0.1:40612\n",
       "  <li><b>Dashboard: </b><a href='http://127.0.0.1:8787/status' target='_blank'>http://127.0.0.1:8787/status</a>\n",
       "</ul>\n",
       "</td>\n",
       "<td style=\"vertical-align: top; border: 0px solid white\">\n",
       "<h3>Cluster</h3>\n",
       "<ul>\n",
       "  <li><b>Workers: </b>8</li>\n",
       "  <li><b>Cores: </b>32</li>\n",
       "  <li><b>Memory: </b>203.20 GB</li>\n",
       "</ul>\n",
       "</td>\n",
       "</tr>\n",
       "</table>"
      ],
      "text/plain": [
       "<Client: scheduler='tcp://127.0.0.1:40612' processes=8 cores=32>"
      ]
     },
     "execution_count": 2,
     "metadata": {},
     "output_type": "execute_result"
    }
   ],
   "source": [
    "client"
   ]
  },
  {
   "cell_type": "code",
   "execution_count": 3,
   "metadata": {
    "scrolled": false
   },
   "outputs": [
    {
     "name": "stdout",
     "output_type": "stream",
     "text": [
      "/home/srvx11/lehre/users/a1254888/.conda/envs/ml_flood2/bin/python3\n"
     ]
    }
   ],
   "source": [
    "import sys\n",
    "print(sys.executable)"
   ]
  },
  {
   "cell_type": "code",
   "execution_count": 4,
   "metadata": {
    "scrolled": true
   },
   "outputs": [],
   "source": [
    "def shift_time(ds, value):\n",
    "    ds.coords['time'].values = pd.to_datetime(ds.coords['time'].values) + value\n",
    "    return ds"
   ]
  },
  {
   "cell_type": "code",
   "execution_count": 5,
   "metadata": {},
   "outputs": [
    {
     "data": {
      "text/plain": [
       "<xarray.Dataset>\n",
       "Dimensions:    (latitude: 13, longitude: 53, time: 31)\n",
       "Coordinates:\n",
       "  * longitude  (longitude) float32 7.0 7.25 7.5 7.75 ... 19.25 19.5 19.75 20.0\n",
       "  * latitude   (latitude) float32 50.0 49.75 49.5 49.25 ... 47.5 47.25 47.0\n",
       "  * time       (time) datetime64[ns] 2000-01-01T23:00:00 ... 2000-01-31T23:00:00\n",
       "Data variables:\n",
       "    slt        (time, latitude, longitude) float32 ...\n",
       "    z          (time, latitude, longitude) float32 ...\n",
       "    slor       (time, latitude, longitude) float32 ...\n",
       "    lsm        (time, latitude, longitude) float32 ...\n",
       "Attributes:\n",
       "    CDI:          Climate Data Interface version 1.6.4rc4 (http://code.zmaw.d...\n",
       "    Conventions:  CF-1.6\n",
       "    history:      Thu May 30 01:39:36 2019: cdo dayavg /home/srvx11/lehre/use...\n",
       "    CDO:          Climate Data Operators version 1.6.4rc7 (http://code.zmaw.d..."
      ]
     },
     "execution_count": 5,
     "metadata": {},
     "output_type": "execute_result"
    }
   ],
   "source": [
    "static = xr.open_dataset('../data/danube/era5_slt_z_slor_lsm_stationary_field.nc')\n",
    "static"
   ]
  },
  {
   "cell_type": "code",
   "execution_count": 6,
   "metadata": {},
   "outputs": [
    {
     "data": {
      "text/plain": [
       "<xarray.Dataset>\n",
       "Dimensions:    (latitude: 13, level: 3, longitude: 53, time: 13514)\n",
       "Coordinates:\n",
       "  * time       (time) datetime64[ns] 1981-01-01 1981-01-02 ... 2017-12-31\n",
       "  * latitude   (latitude) float32 50.0 49.75 49.5 49.25 ... 47.5 47.25 47.0\n",
       "  * longitude  (longitude) float32 7.0 7.25 7.5 7.75 ... 19.25 19.5 19.75 20.0\n",
       "  * level      (level) float64 850.0 700.0 500.0\n",
       "Data variables:\n",
       "    cp         (time, latitude, longitude) float32 ...\n",
       "    tp         (time, latitude, longitude) float32 ...\n",
       "    lsp        (time, latitude, longitude) float32 ...\n",
       "    z          (time, level, latitude, longitude) float32 ...\n",
       "    t          (time, level, latitude, longitude) float32 ...\n",
       "    q          (time, level, latitude, longitude) float32 ...\n",
       "    ro         (time, latitude, longitude) float32 ...\n",
       "    swvl1      (time, latitude, longitude) float32 ...\n",
       "    swvl2      (time, latitude, longitude) float32 ...\n",
       "    tcwv       (time, latitude, longitude) float32 ...\n",
       "Attributes:\n",
       "    CDI:          Climate Data Interface version 1.6.4rc4 (http://code.zmaw.d...\n",
       "    Conventions:  CF-1.6\n",
       "    history:      Thu May 30 12:35:16 2019: cdo dayavg /home/srvx11/lehre/use...\n",
       "    CDO:          Climate Data Operators version 1.6.4rc7 (http://code.zmaw.d..."
      ]
     },
     "execution_count": 6,
     "metadata": {},
     "output_type": "execute_result"
    }
   ],
   "source": [
    "era5 = xr.open_dataset('../data/danube/era5_danube_pressure_and_single_levels.nc')\n",
    "era5"
   ]
  },
  {
   "cell_type": "code",
   "execution_count": null,
   "metadata": {},
   "outputs": [],
   "source": []
  },
  {
   "cell_type": "code",
   "execution_count": 7,
   "metadata": {},
   "outputs": [],
   "source": [
    "glofas = xr.open_dataset('../data/danube/glofas_reanalysis_danube_1981-2002.nc')\n",
    "glofas = glofas.rename({'lat': 'latitude', 'lon': 'longitude'})  # to have the same name like in era5\n",
    "glofas = shift_time(glofas, -dt.timedelta(days=1))"
   ]
  },
  {
   "cell_type": "code",
   "execution_count": 8,
   "metadata": {},
   "outputs": [],
   "source": [
    "glofas_rerun = xr.open_dataset('../data/glofas-freruns/2013051800/glofas2.3_era5wb_reforecast_dis_bigchannels_1000km2_20130518_0.nc')\n",
    "glofas_rerun = glofas_rerun.rename({'lat': 'latitude', 'lon': 'longitude'})\n",
    "glofas_rerun = shift_time(glofas_rerun, -dt.timedelta(days=1))"
   ]
  },
  {
   "cell_type": "code",
   "execution_count": null,
   "metadata": {},
   "outputs": [],
   "source": []
  },
  {
   "cell_type": "code",
   "execution_count": 9,
   "metadata": {},
   "outputs": [
    {
     "data": {
      "text/plain": [
       "Coordinates:\n",
       "  * time       (time) datetime64[ns] 1981-01-01 1981-01-02 ... 2017-12-31\n",
       "  * latitude   (latitude) float32 50.0 49.75 49.5 49.25 ... 47.5 47.25 47.0\n",
       "  * longitude  (longitude) float32 7.0 7.25 7.5 7.75 ... 19.25 19.5 19.75 20.0\n",
       "  * level      (level) float64 850.0 700.0 500.0"
      ]
     },
     "execution_count": 9,
     "metadata": {},
     "output_type": "execute_result"
    }
   ],
   "source": [
    "era5.coords"
   ]
  },
  {
   "cell_type": "code",
   "execution_count": 10,
   "metadata": {},
   "outputs": [
    {
     "data": {
      "text/plain": [
       "Coordinates:\n",
       "  * longitude  (longitude) float64 7.05 7.15 7.25 7.35 ... 19.75 19.85 19.95\n",
       "  * latitude   (latitude) float64 49.95 49.85 49.75 49.65 ... 47.25 47.15 47.05\n",
       "  * time       (time) datetime64[ns] 1981-01-01 1981-01-02 ... 2002-12-31"
      ]
     },
     "execution_count": 10,
     "metadata": {},
     "output_type": "execute_result"
    }
   ],
   "source": [
    "glofas.coords"
   ]
  },
  {
   "cell_type": "markdown",
   "metadata": {},
   "source": [
    "## feature selection"
   ]
  },
  {
   "cell_type": "code",
   "execution_count": 11,
   "metadata": {},
   "outputs": [],
   "source": [
    "if not 'lsp' in era5:\n",
    "    lsp = era5['tp']-era5['cp']\n",
    "    lsp.name = 'lsp'\n",
    "else:\n",
    "    lsp = era5['lsp']\n",
    "\n",
    "reltop = era5['z'].sel(level=500) - era5['z'].sel(level=850)\n",
    "reltop.name = 'reltop'\n",
    "\n",
    "q_mean = era5['q'].mean('level')\n",
    "q_mean.name = 'q_mean'\n",
    "\n",
    "era5 = xr.merge([era5['cp'], lsp, reltop, q_mean])"
   ]
  },
  {
   "cell_type": "code",
   "execution_count": 12,
   "metadata": {},
   "outputs": [
    {
     "data": {
      "text/plain": [
       "<xarray.Dataset>\n",
       "Dimensions:    (latitude: 13, longitude: 53, time: 13514)\n",
       "Coordinates:\n",
       "  * time       (time) datetime64[ns] 1981-01-01 1981-01-02 ... 2017-12-31\n",
       "  * latitude   (latitude) float32 50.0 49.75 49.5 49.25 ... 47.5 47.25 47.0\n",
       "  * longitude  (longitude) float32 7.0 7.25 7.5 7.75 ... 19.25 19.5 19.75 20.0\n",
       "Data variables:\n",
       "    cp         (time, latitude, longitude) float32 ...\n",
       "    lsp        (time, latitude, longitude) float32 ...\n",
       "    reltop     (time, latitude, longitude) float32 39412.242 ... 40458.85\n",
       "    q_mean     (time, latitude, longitude) float32 0.0013045641 ... 0.002670081"
      ]
     },
     "execution_count": 12,
     "metadata": {},
     "output_type": "execute_result"
    }
   ],
   "source": [
    "era5"
   ]
  },
  {
   "cell_type": "markdown",
   "metadata": {},
   "source": [
    "### Interpolation step"
   ]
  },
  {
   "cell_type": "code",
   "execution_count": 13,
   "metadata": {},
   "outputs": [],
   "source": [
    "era5 = era5.interp(latitude=glofas.latitude, longitude=glofas.longitude)"
   ]
  },
  {
   "cell_type": "markdown",
   "metadata": {},
   "source": [
    "### time subset"
   ]
  },
  {
   "cell_type": "code",
   "execution_count": 14,
   "metadata": {},
   "outputs": [],
   "source": [
    "era5 = era5.isel(time=slice(0*365,3*365))\n",
    "glofas = glofas.isel(time=slice(0*365,3*365))\n",
    "\n",
    "if len(era5.time) < 3000:\n",
    "    era5 = era5.load()\n",
    "    glofas = glofas.load()"
   ]
  },
  {
   "cell_type": "markdown",
   "metadata": {},
   "source": [
    "## inspect variables\n"
   ]
  },
  {
   "cell_type": "raw",
   "metadata": {
    "scrolled": false
   },
   "source": [
    "for var in era5:\n",
    "    fig, ax = plt.subplots(figsize=(25,5))\n",
    "    era5[var].isel(latitude=5, longitude=33).to_pandas().plot(ax=ax, title=var)"
   ]
  },
  {
   "cell_type": "code",
   "execution_count": null,
   "metadata": {},
   "outputs": [],
   "source": []
  },
  {
   "cell_type": "code",
   "execution_count": 15,
   "metadata": {},
   "outputs": [],
   "source": [
    "krems = dict(latitude=48.403, longitude=15.615)\n",
    "\n",
    "surrounding = dict(latitude=slice(krems['latitude']+1, \n",
    "                                  krems['latitude']-1),\n",
    "                   longitude=slice(krems['longitude']-1, \n",
    "                                  krems['longitude']+1))"
   ]
  },
  {
   "cell_type": "markdown",
   "metadata": {},
   "source": []
  },
  {
   "cell_type": "code",
   "execution_count": null,
   "metadata": {},
   "outputs": [],
   "source": []
  },
  {
   "cell_type": "code",
   "execution_count": null,
   "metadata": {},
   "outputs": [],
   "source": []
  },
  {
   "cell_type": "code",
   "execution_count": null,
   "metadata": {},
   "outputs": [],
   "source": []
  },
  {
   "cell_type": "code",
   "execution_count": null,
   "metadata": {},
   "outputs": [],
   "source": []
  },
  {
   "cell_type": "code",
   "execution_count": 16,
   "metadata": {},
   "outputs": [],
   "source": [
    "def mask_dataframe(df, limit_per_variable: dict):\n",
    "    for var, (lowlim, uplim) in limit_per_variable.items():\n",
    "        df = df[var > lowlim]\n",
    "        df = df[var < uplim]\n",
    "    return df\n",
    "\n",
    "def normalize(series):\n",
    "    return series #(series-series.mean())/series.std()\n",
    "\n",
    "def normalize_df(df):\n",
    "    dic = []\n",
    "    for var, d in xdf.items():\n",
    "        dic.append( normalize(d) )\n",
    "    return #pd.concat(dic)"
   ]
  },
  {
   "cell_type": "markdown",
   "metadata": {},
   "source": [
    "## daily change in discharge \n",
    "As discharge itself has a large memory component (high autocorrelation, dependence on previous values), we can also look on the changes in discharge through time."
   ]
  },
  {
   "cell_type": "code",
   "execution_count": null,
   "metadata": {},
   "outputs": [],
   "source": []
  },
  {
   "cell_type": "code",
   "execution_count": 46,
   "metadata": {},
   "outputs": [
    {
     "data": {
      "text/plain": [
       "<xarray.Dataset>\n",
       "Dimensions:  (time: 1095)\n",
       "Coordinates:\n",
       "  * time     (time) datetime64[ns] 1981-01-01 1981-01-02 ... 1983-12-31\n",
       "Data variables:\n",
       "    cp       (time) float64 0.001624 0.0008551 0.0008235 ... 0.0004743 6.423e-05\n",
       "    lsp      (time) float64 0.000967 0.002493 0.0079 ... 0.0001274 0.001093\n",
       "    reltop   (time) float64 3.924e+04 3.87e+04 4.008e+04 ... 4.065e+04 4.001e+04\n",
       "    q_mean   (time) float64 0.001418 0.001336 0.002463 ... 0.001842 0.001696"
      ]
     },
     "execution_count": 46,
     "metadata": {},
     "output_type": "execute_result"
    }
   ],
   "source": [
    "# select data of interest\n",
    "dis = glofas.interp(krems)\n",
    "y = dis #.diff('time', 1)  # forecast time difference of discharge\n",
    "X = era5.sel(surrounding).mean(['latitude', 'longitude'])\n",
    "X"
   ]
  },
  {
   "cell_type": "code",
   "execution_count": null,
   "metadata": {},
   "outputs": [],
   "source": []
  },
  {
   "cell_type": "markdown",
   "metadata": {},
   "source": [
    "## Is there a relationship "
   ]
  },
  {
   "cell_type": "code",
   "execution_count": 47,
   "metadata": {},
   "outputs": [],
   "source": [
    "#sns.jointplot(x='cp', y='dis', data=merge, kind='hex')"
   ]
  },
  {
   "cell_type": "code",
   "execution_count": 48,
   "metadata": {},
   "outputs": [],
   "source": [
    "#sns.jointplot(x='lsp', y='dis', data=merge, kind='hex')"
   ]
  },
  {
   "cell_type": "code",
   "execution_count": null,
   "metadata": {},
   "outputs": [],
   "source": []
  },
  {
   "cell_type": "code",
   "execution_count": 49,
   "metadata": {},
   "outputs": [],
   "source": [
    "def add_shifted_predictors(ds, shifts, variables='all'):\n",
    "    \"\"\"Adds additional variables to an array which are shifted in time.\n",
    "    \n",
    "    Parameters\n",
    "    ----------\n",
    "    ds : xr.Dataset\n",
    "    shifts : list of integers\n",
    "    variables : str or list\n",
    "    \"\"\"\n",
    "    if variables == 'all':\n",
    "        variables = ds.data_vars\n",
    "        \n",
    "    for var in variables:\n",
    "        for i in shifts:\n",
    "            if i == 0: continue  # makes no sense to shift by zero\n",
    "            newvar = var+'-'+str(i)\n",
    "            ds[newvar] = ds[var].shift(time=i)\n",
    "    return ds"
   ]
  },
  {
   "cell_type": "code",
   "execution_count": 50,
   "metadata": {
    "scrolled": false
   },
   "outputs": [],
   "source": [
    "shifts = range(1,11)\n",
    "notshift_vars = ['swvl1', 'swvl2']\n",
    "shift_vars = [v for v in X.data_vars if not v in notshift_vars]\n",
    "\n",
    "Xs = add_shifted_predictors(X, shifts, variables=shift_vars)"
   ]
  },
  {
   "cell_type": "code",
   "execution_count": 51,
   "metadata": {
    "scrolled": false
   },
   "outputs": [
    {
     "data": {
      "text/plain": [
       "<xarray.Dataset>\n",
       "Dimensions:    (time: 1095)\n",
       "Coordinates:\n",
       "  * time       (time) datetime64[ns] 1981-01-01 1981-01-02 ... 1983-12-31\n",
       "Data variables:\n",
       "    cp         (time) float64 0.001624 0.0008551 ... 0.0004743 6.423e-05\n",
       "    lsp        (time) float64 0.000967 0.002493 0.0079 ... 0.0001274 0.001093\n",
       "    reltop     (time) float64 3.924e+04 3.87e+04 ... 4.065e+04 4.001e+04\n",
       "    q_mean     (time) float64 0.001418 0.001336 0.002463 ... 0.001842 0.001696\n",
       "    cp-1       (time) float64 nan 0.001624 0.0008551 ... 1.161e-06 0.0004743\n",
       "    cp-2       (time) float64 nan nan 0.001624 ... 0.0003974 0.0001108 1.161e-06\n",
       "    cp-3       (time) float64 nan nan nan ... 0.0008407 0.0003974 0.0001108\n",
       "    cp-4       (time) float64 nan nan nan nan ... 4.177e-10 0.0008407 0.0003974\n",
       "    cp-5       (time) float64 nan nan nan nan ... 0.0002298 4.177e-10 0.0008407\n",
       "    cp-6       (time) float64 nan nan nan nan ... 0.0001662 0.0002298 4.177e-10\n",
       "    cp-7       (time) float64 nan nan nan nan ... 0.0001152 0.0001662 0.0002298\n",
       "    cp-8       (time) float64 nan nan nan nan ... 0.0001548 0.0001152 0.0001662\n",
       "    cp-9       (time) float64 nan nan nan nan ... 0.0008995 0.0001548 0.0001152\n",
       "    cp-10      (time) float64 nan nan nan nan ... 0.0006134 0.0008995 0.0001548\n",
       "    lsp-1      (time) float64 nan 0.000967 0.002493 ... 0.0001345 0.0001274\n",
       "    lsp-2      (time) float64 nan nan 0.000967 ... 0.0008387 7.096e-05 0.0001345\n",
       "    lsp-3      (time) float64 nan nan nan ... 0.002182 0.0008387 7.096e-05\n",
       "    lsp-4      (time) float64 nan nan nan nan ... -5.204e-18 0.002182 0.0008387\n",
       "    lsp-5      (time) float64 nan nan nan nan ... 0.004656 -5.204e-18 0.002182\n",
       "    lsp-6      (time) float64 nan nan nan nan ... 0.0007877 0.004656 -5.204e-18\n",
       "    lsp-7      (time) float64 nan nan nan nan ... 0.001903 0.0007877 0.004656\n",
       "    lsp-8      (time) float64 nan nan nan nan ... 0.0002383 0.001903 0.0007877\n",
       "    lsp-9      (time) float64 nan nan nan nan ... 0.01014 0.0002383 0.001903\n",
       "    lsp-10     (time) float64 nan nan nan nan ... 0.0005027 0.01014 0.0002383\n",
       "    reltop-1   (time) float64 nan 3.924e+04 3.87e+04 ... 3.976e+04 4.065e+04\n",
       "    reltop-2   (time) float64 nan nan 3.924e+04 ... -3.043e+03 3.976e+04\n",
       "    reltop-3   (time) float64 nan nan nan ... 4.015e+04 3.994e+04 -3.043e+03\n",
       "    reltop-4   (time) float64 nan nan nan nan ... 4.101e+04 4.015e+04 3.994e+04\n",
       "    reltop-5   (time) float64 nan nan nan nan ... 4.035e+04 4.101e+04 4.015e+04\n",
       "    reltop-6   (time) float64 nan nan nan nan ... 4.007e+04 4.035e+04 4.101e+04\n",
       "    reltop-7   (time) float64 nan nan nan nan ... 4.013e+04 4.007e+04 4.035e+04\n",
       "    reltop-8   (time) float64 nan nan nan nan ... 4.036e+04 4.013e+04 4.007e+04\n",
       "    reltop-9   (time) float64 nan nan nan nan ... 4.009e+04 4.036e+04 4.013e+04\n",
       "    reltop-10  (time) float64 nan nan nan nan ... 4.068e+04 4.009e+04 4.036e+04\n",
       "    q_mean-1   (time) float64 nan 0.001418 0.001336 ... 0.00207 0.001842\n",
       "    q_mean-2   (time) float64 nan nan 0.001418 ... 0.001307 0.002622 0.00207\n",
       "    q_mean-3   (time) float64 nan nan nan ... 0.002256 0.001307 0.002622\n",
       "    q_mean-4   (time) float64 nan nan nan nan ... 0.001527 0.002256 0.001307\n",
       "    q_mean-5   (time) float64 nan nan nan nan ... 0.002685 0.001527 0.002256\n",
       "    q_mean-6   (time) float64 nan nan nan nan ... 0.002174 0.002685 0.001527\n",
       "    q_mean-7   (time) float64 nan nan nan nan ... 0.002625 0.002174 0.002685\n",
       "    q_mean-8   (time) float64 nan nan nan nan ... 0.001904 0.002625 0.002174\n",
       "    q_mean-9   (time) float64 nan nan nan nan ... 0.002642 0.001904 0.002625\n",
       "    q_mean-10  (time) float64 nan nan nan nan ... 0.002317 0.002642 0.001904"
      ]
     },
     "execution_count": 51,
     "metadata": {},
     "output_type": "execute_result"
    }
   ],
   "source": [
    "Xs"
   ]
  },
  {
   "cell_type": "code",
   "execution_count": 52,
   "metadata": {},
   "outputs": [],
   "source": [
    "Xar = Xs.to_array(dim='features')\n",
    "yar = y.to_array()\n",
    "\n",
    "# singleton dimension has to have the same name like in X\n",
    "# so we set it to 'features' too\n",
    "yar = yar.rename({'variable': 'features'})\n",
    "\n",
    "# it confuses the concat if one has latitude but the other not\n",
    "yar = yar.drop(['latitude', 'longitude'])"
   ]
  },
  {
   "cell_type": "code",
   "execution_count": 53,
   "metadata": {},
   "outputs": [
    {
     "data": {
      "text/plain": [
       "<xarray.DataArray (features: 44, time: 1095)>\n",
       "array([[1.623629e-03, 8.551281e-04, 8.234900e-04, ..., 1.161331e-06,\n",
       "        4.743362e-04, 6.423270e-05],\n",
       "       [9.669637e-04, 2.492533e-03, 7.900144e-03, ..., 1.345064e-04,\n",
       "        1.273530e-04, 1.092872e-03],\n",
       "       [3.923759e+04, 3.869767e+04, 4.007942e+04, ..., 3.976337e+04,\n",
       "        4.065292e+04, 4.001194e+04],\n",
       "       ...,\n",
       "       [         nan,          nan,          nan, ..., 1.904261e-03,\n",
       "        2.624561e-03, 2.173802e-03],\n",
       "       [         nan,          nan,          nan, ..., 2.641860e-03,\n",
       "        1.904261e-03, 2.624561e-03],\n",
       "       [         nan,          nan,          nan, ..., 2.316547e-03,\n",
       "        2.641860e-03, 1.904261e-03]])\n",
       "Coordinates:\n",
       "  * time      (time) datetime64[ns] 1981-01-01 1981-01-02 ... 1983-12-31\n",
       "  * features  (features) <U9 'cp' 'lsp' 'reltop' ... 'q_mean-9' 'q_mean-10'"
      ]
     },
     "execution_count": 53,
     "metadata": {},
     "output_type": "execute_result"
    }
   ],
   "source": [
    "Xar"
   ]
  },
  {
   "cell_type": "code",
   "execution_count": null,
   "metadata": {},
   "outputs": [],
   "source": [
    "yar"
   ]
  },
  {
   "cell_type": "markdown",
   "metadata": {},
   "source": [
    "## concat\n",
    "- allows us to synchronize times and \n",
    "- get rid of nan entries with dropna()"
   ]
  },
  {
   "cell_type": "code",
   "execution_count": 54,
   "metadata": {},
   "outputs": [],
   "source": [
    "Xy = xr.concat([Xar, yar], dim='features')  \n",
    "\n",
    "Xyt = Xy.dropna('time', how='any')  # drop them as we cannot train on nan values"
   ]
  },
  {
   "cell_type": "code",
   "execution_count": 55,
   "metadata": {},
   "outputs": [
    {
     "data": {
      "text/plain": [
       "(45, 1095)"
      ]
     },
     "execution_count": 55,
     "metadata": {},
     "output_type": "execute_result"
    }
   ],
   "source": [
    "Xy.shape\n",
    "Xyt.shape"
   ]
  },
  {
   "cell_type": "code",
   "execution_count": 56,
   "metadata": {},
   "outputs": [
    {
     "data": {
      "text/plain": [
       "<xarray.DataArray (features: 45, time: 1085)>\n",
       "array([[1.395622e-05, 0.000000e+00, 7.585690e-05, ..., 1.161331e-06,\n",
       "        4.743362e-04, 6.423270e-05],\n",
       "       [6.169035e-04, 1.099495e-04, 6.894520e-04, ..., 1.345064e-04,\n",
       "        1.273530e-04, 1.092872e-03],\n",
       "       [3.911006e+04, 3.913603e+04, 3.911511e+04, ..., 3.976337e+04,\n",
       "        4.065292e+04, 4.001194e+04],\n",
       "       ...,\n",
       "       [1.335756e-03, 2.463035e-03, 1.488710e-03, ..., 2.641860e-03,\n",
       "        1.904261e-03, 2.624561e-03],\n",
       "       [1.418231e-03, 1.335756e-03, 2.463035e-03, ..., 2.316547e-03,\n",
       "        2.641860e-03, 1.904261e-03],\n",
       "       [5.111764e+02, 5.085382e+02, 5.058110e+02, ..., 4.016462e+02,\n",
       "        4.014438e+02, 3.944934e+02]])\n",
       "Coordinates:\n",
       "  * time      (time) datetime64[ns] 1981-01-11 1981-01-12 ... 1983-12-31\n",
       "  * features  (features) object 'cp' 'lsp' 'reltop' ... 'q_mean-10' 'dis'"
      ]
     },
     "execution_count": 56,
     "metadata": {},
     "output_type": "execute_result"
    }
   ],
   "source": [
    "Xyt"
   ]
  },
  {
   "cell_type": "code",
   "execution_count": 57,
   "metadata": {},
   "outputs": [],
   "source": [
    "predictand = 'dis'\n",
    "predictors = [v for v in Xyt.coords['features'].values if v != predictand]"
   ]
  },
  {
   "cell_type": "code",
   "execution_count": 58,
   "metadata": {},
   "outputs": [
    {
     "name": "stdout",
     "output_type": "stream",
     "text": [
      "<xarray.DataArray (features: 45, time: 1085)>\n",
      "array([[1.395622e-05, 0.000000e+00, 7.585690e-05, ..., 1.161331e-06,\n",
      "        4.743362e-04, 6.423270e-05],\n",
      "       [6.169035e-04, 1.099495e-04, 6.894520e-04, ..., 1.345064e-04,\n",
      "        1.273530e-04, 1.092872e-03],\n",
      "       [3.911006e+04, 3.913603e+04, 3.911511e+04, ..., 3.976337e+04,\n",
      "        4.065292e+04, 4.001194e+04],\n",
      "       ...,\n",
      "       [1.335756e-03, 2.463035e-03, 1.488710e-03, ..., 2.641860e-03,\n",
      "        1.904261e-03, 2.624561e-03],\n",
      "       [1.418231e-03, 1.335756e-03, 2.463035e-03, ..., 2.316547e-03,\n",
      "        2.641860e-03, 1.904261e-03],\n",
      "       [5.111764e+02, 5.085382e+02, 5.058110e+02, ..., 4.016462e+02,\n",
      "        4.014438e+02, 3.944934e+02]])\n",
      "Coordinates:\n",
      "  * time      (time) datetime64[ns] 1981-01-11 1981-01-12 ... 1983-12-31\n",
      "  * features  (features) object 'cp' 'lsp' 'reltop' ... 'q_mean-10' 'dis'\n"
     ]
    }
   ],
   "source": [
    "print(Xyt)\n",
    "Xda = Xyt.loc[predictors]\n",
    "yda = Xyt.loc[predictand]"
   ]
  },
  {
   "cell_type": "code",
   "execution_count": 59,
   "metadata": {
    "scrolled": false
   },
   "outputs": [
    {
     "data": {
      "text/plain": [
       "['cp',\n",
       " 'lsp',\n",
       " 'reltop',\n",
       " 'q_mean',\n",
       " 'cp-1',\n",
       " 'cp-2',\n",
       " 'cp-3',\n",
       " 'cp-4',\n",
       " 'cp-5',\n",
       " 'cp-6',\n",
       " 'cp-7',\n",
       " 'cp-8',\n",
       " 'cp-9',\n",
       " 'cp-10',\n",
       " 'lsp-1',\n",
       " 'lsp-2',\n",
       " 'lsp-3',\n",
       " 'lsp-4',\n",
       " 'lsp-5',\n",
       " 'lsp-6',\n",
       " 'lsp-7',\n",
       " 'lsp-8',\n",
       " 'lsp-9',\n",
       " 'lsp-10',\n",
       " 'reltop-1',\n",
       " 'reltop-2',\n",
       " 'reltop-3',\n",
       " 'reltop-4',\n",
       " 'reltop-5',\n",
       " 'reltop-6',\n",
       " 'reltop-7',\n",
       " 'reltop-8',\n",
       " 'reltop-9',\n",
       " 'reltop-10',\n",
       " 'q_mean-1',\n",
       " 'q_mean-2',\n",
       " 'q_mean-3',\n",
       " 'q_mean-4',\n",
       " 'q_mean-5',\n",
       " 'q_mean-6',\n",
       " 'q_mean-7',\n",
       " 'q_mean-8',\n",
       " 'q_mean-9',\n",
       " 'q_mean-10']"
      ]
     },
     "execution_count": 59,
     "metadata": {},
     "output_type": "execute_result"
    }
   ],
   "source": [
    "predictors"
   ]
  },
  {
   "cell_type": "code",
   "execution_count": 60,
   "metadata": {},
   "outputs": [],
   "source": [
    "time = yda.time\n",
    "Xda = Xda.chunk(dict(time=-1, features=-1)).data.T\n",
    "yda = yda.data.squeeze()"
   ]
  },
  {
   "cell_type": "code",
   "execution_count": 61,
   "metadata": {},
   "outputs": [
    {
     "data": {
      "text/plain": [
       "dask.array<transpose, shape=(1085, 44), dtype=float64, chunksize=(1085, 44)>"
      ]
     },
     "execution_count": 61,
     "metadata": {},
     "output_type": "execute_result"
    }
   ],
   "source": [
    "Xda"
   ]
  },
  {
   "cell_type": "code",
   "execution_count": 62,
   "metadata": {},
   "outputs": [
    {
     "data": {
      "text/plain": [
       "array([511.176361  , 508.53819285, 505.81103593, ..., 401.64623683,\n",
       "       401.4437952 , 394.49342294])"
      ]
     },
     "execution_count": 62,
     "metadata": {},
     "output_type": "execute_result"
    }
   ],
   "source": [
    "yda"
   ]
  },
  {
   "cell_type": "code",
   "execution_count": 63,
   "metadata": {},
   "outputs": [],
   "source": [
    "import joblib\n",
    "from sklearn.pipeline import Pipeline\n",
    "from dask_ml.preprocessing import StandardScaler\n",
    "from dask_ml.decomposition import PCA\n",
    "\n",
    "#from dask_ml.xgboost import XGBRegressor\n",
    "from dask_ml.linear_model import LogisticRegression\n",
    "from dask_ml.linear_model import LinearRegression\n"
   ]
  },
  {
   "cell_type": "code",
   "execution_count": 64,
   "metadata": {},
   "outputs": [],
   "source": [
    "model_kws = dict(n_jobs=-1, max_iter=10000, verbose=True)\n",
    "\n",
    "pipe = Pipeline([('scaler', StandardScaler()),\n",
    "                 #('pca', PCA(n_components=6)),\n",
    "                 ('model', LinearRegression(**model_kws)),],\n",
    "                verbose=True)"
   ]
  },
  {
   "cell_type": "code",
   "execution_count": 65,
   "metadata": {},
   "outputs": [
    {
     "data": {
      "text/plain": [
       "Pipeline(memory=None,\n",
       "         steps=[('scaler',\n",
       "                 StandardScaler(copy=True, with_mean=True, with_std=True)),\n",
       "                ('model',\n",
       "                 LinearRegression(C=1.0, class_weight=None, dual=False,\n",
       "                                  fit_intercept=True, intercept_scaling=1.0,\n",
       "                                  max_iter=10000, multi_class='ovr', n_jobs=-1,\n",
       "                                  penalty='l2', random_state=None,\n",
       "                                  solver='admm', solver_kwargs=None, tol=0.0001,\n",
       "                                  verbose=True, warm_start=False))],\n",
       "         verbose=True)"
      ]
     },
     "execution_count": 65,
     "metadata": {},
     "output_type": "execute_result"
    }
   ],
   "source": [
    "pipe"
   ]
  },
  {
   "cell_type": "code",
   "execution_count": 66,
   "metadata": {
    "scrolled": true
   },
   "outputs": [
    {
     "name": "stdout",
     "output_type": "stream",
     "text": [
      "[Pipeline] ............ (step 1 of 2) Processing scaler, total=   0.1s\n",
      "[Pipeline] ............. (step 2 of 2) Processing model, total=   0.5s\n"
     ]
    }
   ],
   "source": [
    "Xda = Xda.persist()\n",
    "\n",
    "with ProgressBar():\n",
    "    pipe.fit(Xda, yda)"
   ]
  },
  {
   "cell_type": "markdown",
   "metadata": {},
   "source": [
    "# Test it on the same data"
   ]
  },
  {
   "cell_type": "code",
   "execution_count": null,
   "metadata": {},
   "outputs": [],
   "source": []
  },
  {
   "cell_type": "code",
   "execution_count": 67,
   "metadata": {},
   "outputs": [],
   "source": [
    "def add_time(vector, time, name=None):\n",
    "    \"\"\"Converts arrays to xarrays with a time coordinate.\"\"\"\n",
    "    return xr.DataArray(vector, dims=('time'), coords={'time': time}, name=name)"
   ]
  },
  {
   "cell_type": "code",
   "execution_count": 68,
   "metadata": {},
   "outputs": [],
   "source": [
    "with ProgressBar():\n",
    "    ytest = pipe.predict(Xda)"
   ]
  },
  {
   "cell_type": "code",
   "execution_count": null,
   "metadata": {},
   "outputs": [],
   "source": []
  },
  {
   "cell_type": "code",
   "execution_count": 69,
   "metadata": {},
   "outputs": [],
   "source": [
    "ytest = add_time(ytest, time, name='dis-forecast')\n",
    "ytest += yda[0]  # initial state + changes = timeseries of forecasted discharge"
   ]
  },
  {
   "cell_type": "code",
   "execution_count": 70,
   "metadata": {
    "scrolled": false
   },
   "outputs": [
    {
     "data": {
      "text/plain": [
       "<matplotlib.legend.Legend at 0x7f952599ddd8>"
      ]
     },
     "execution_count": 70,
     "metadata": {},
     "output_type": "execute_result"
    },
    {
     "data": {
      "image/png": "[encoded data removed]",
      "text/plain": [
       "<Figure size 1728x360 with 1 Axes>"
      ]
     },
     "metadata": {
      "needs_background": "light"
     },
     "output_type": "display_data"
    }
   ],
   "source": [
    "fig, ax = plt.subplots(figsize=(24,5))\n",
    "Xyt.loc[predictand].to_pandas().plot(ax=ax, label='dis-reanalysis')\n",
    "ytest.to_pandas().plot(ax=ax, label='dis-forecast')\n",
    "plt.legend()"
   ]
  },
  {
   "cell_type": "code",
   "execution_count": null,
   "metadata": {},
   "outputs": [],
   "source": []
  },
  {
   "cell_type": "code",
   "execution_count": null,
   "metadata": {},
   "outputs": [],
   "source": []
  },
  {
   "cell_type": "code",
   "execution_count": 73,
   "metadata": {},
   "outputs": [],
   "source": [
    "def recurrent_predict(pipe, X, n=1):\n",
    "    \"\"\"\n",
    "    \n",
    "    X : np.array or dask.array\n",
    "        dimensions: (n, #features)\n",
    "    n : int\n",
    "        number of iterations\n",
    "    \"\"\"\n",
    "    y = np.zeros(n)\n",
    "    for i in range(n):\n",
    "        y[i] = pipe.predict(X[np.newaxis, i])\n",
    "    return y"
   ]
  },
  {
   "cell_type": "code",
   "execution_count": null,
   "metadata": {},
   "outputs": [],
   "source": []
  },
  {
   "cell_type": "code",
   "execution_count": 74,
   "metadata": {},
   "outputs": [],
   "source": [
    "#t = recurrent_predict(pipe, Xda, 10)"
   ]
  },
  {
   "cell_type": "code",
   "execution_count": 75,
   "metadata": {},
   "outputs": [
    {
     "data": {
      "image/png": "[encoded data removed]",
      "text/plain": [
       "<Figure size 1080x360 with 1 Axes>"
      ]
     },
     "metadata": {
      "needs_background": "light"
     },
     "output_type": "display_data"
    }
   ],
   "source": [
    "fig, ax = plt.subplots(figsize=(15,5))\n",
    "t = 0\n",
    "for t in range(12):\n",
    "    y = pipe.predict(Xda[t:t+30])\n",
    "    ydf = pd.Series(index=time.to_pandas().iloc[t:t+30], data=y)\n",
    "    ydf.plot(ax=ax)"
   ]
  },
  {
   "cell_type": "code",
   "execution_count": null,
   "metadata": {},
   "outputs": [],
   "source": []
  },
  {
   "cell_type": "code",
   "execution_count": null,
   "metadata": {},
   "outputs": [],
   "source": []
  }
 ],
 "metadata": {
  "kernelspec": {
   "display_name": "Python 3",
   "language": "python",
   "name": "python3"
  },
  "language_info": {
   "codemirror_mode": {
    "name": "ipython",
    "version": 3
   },
   "file_extension": ".py",
   "mimetype": "text/x-python",
   "name": "python",
   "nbconvert_exporter": "python",
   "pygments_lexer": "ipython3",
   "version": "3.7.3"
  }
 },
 "nbformat": 4,
 "nbformat_minor": 2
}
