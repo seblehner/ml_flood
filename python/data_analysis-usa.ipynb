{
 "cells": [
  {
   "cell_type": "markdown",
   "metadata": {},
   "source": [
    "# Data Inspection / Analysis\n",
    "\n",
    "- mean\n",
    "- std\n",
    "- spatial covariance\n",
    "- distribution"
   ]
  },
  {
   "cell_type": "code",
   "execution_count": 1,
   "metadata": {},
   "outputs": [],
   "source": [
    "import numpy as np\n",
    "import datetime as dt\n",
    "import pandas as pd\n",
    "import matplotlib.pyplot as plt\n",
    "import seaborn as sb\n",
    "import xarray as xr\n",
    "\n",
    "import dask\n",
    "dask.config.set(scheduler='processes')\n",
    "\n",
    "from dask.diagnostics import ProgressBar\n",
    "import link_src\n",
    "from aux.plot import Map"
   ]
  },
  {
   "cell_type": "code",
   "execution_count": null,
   "metadata": {},
   "outputs": [],
   "source": []
  },
  {
   "cell_type": "code",
   "execution_count": 2,
   "metadata": {
    "scrolled": false
   },
   "outputs": [
    {
     "ename": "OSError",
     "evalue": "no files to open",
     "output_type": "error",
     "traceback": [
      "\u001b[0;31m---------------------------------------------------------------------------\u001b[0m",
      "\u001b[0;31mOSError\u001b[0m                                   Traceback (most recent call last)",
      "\u001b[0;32m<ipython-input-2-85d4d52129bf>\u001b[0m in \u001b[0;36m<module>\u001b[0;34m\u001b[0m\n\u001b[0;32m----> 1\u001b[0;31m \u001b[0mxar\u001b[0m \u001b[0;34m=\u001b[0m \u001b[0mxr\u001b[0m\u001b[0;34m.\u001b[0m\u001b[0mopen_mfdataset\u001b[0m\u001b[0;34m(\u001b[0m\u001b[0;34m'../data/usa/*precip*.nc'\u001b[0m\u001b[0;34m)\u001b[0m\u001b[0;34m\u001b[0m\u001b[0;34m\u001b[0m\u001b[0m\n\u001b[0m",
      "\u001b[0;32m~/.conda/envs/ml_flood2/lib/python3.7/site-packages/xarray/backends/api.py\u001b[0m in \u001b[0;36mopen_mfdataset\u001b[0;34m(paths, chunks, concat_dim, compat, preprocess, engine, lock, data_vars, coords, autoclose, parallel, **kwargs)\u001b[0m\n\u001b[1;32m    661\u001b[0m \u001b[0;34m\u001b[0m\u001b[0m\n\u001b[1;32m    662\u001b[0m     \u001b[0;32mif\u001b[0m \u001b[0;32mnot\u001b[0m \u001b[0mpaths\u001b[0m\u001b[0;34m:\u001b[0m\u001b[0;34m\u001b[0m\u001b[0;34m\u001b[0m\u001b[0m\n\u001b[0;32m--> 663\u001b[0;31m         \u001b[0;32mraise\u001b[0m \u001b[0mIOError\u001b[0m\u001b[0;34m(\u001b[0m\u001b[0;34m'no files to open'\u001b[0m\u001b[0;34m)\u001b[0m\u001b[0;34m\u001b[0m\u001b[0;34m\u001b[0m\u001b[0m\n\u001b[0m\u001b[1;32m    664\u001b[0m \u001b[0;34m\u001b[0m\u001b[0m\n\u001b[1;32m    665\u001b[0m     \u001b[0;31m# Coerce 1D input into ND to maintain backwards-compatible API until API\u001b[0m\u001b[0;34m\u001b[0m\u001b[0;34m\u001b[0m\u001b[0;34m\u001b[0m\u001b[0m\n",
      "\u001b[0;31mOSError\u001b[0m: no files to open"
     ]
    }
   ],
   "source": [
    "xar = xr.open_mfdataset('../data/usa/*precip*.nc')"
   ]
  },
  {
   "cell_type": "code",
   "execution_count": null,
   "metadata": {},
   "outputs": [],
   "source": [
    "xar.data_vars"
   ]
  },
  {
   "cell_type": "code",
   "execution_count": null,
   "metadata": {
    "scrolled": false
   },
   "outputs": [],
   "source": []
  },
  {
   "cell_type": "markdown",
   "metadata": {},
   "source": [
    "## Projections\n",
    "The `Map()` configuration object may be used with all cartopy CRS (coordinate reference system).\n",
    "To plot a xarray.DataArray `xar`, just use `m.plot(xar)`. It returns matplotlib's figure and axis objects.\n",
    "\n",
    "Example CRSs:\n",
    "- ccrs.LambertConformal(central_longitude=0, central_latitude=0)\n",
    "- ccrs.Orthographic(central_longitude=0, central_latitude=0)\n",
    "- ccrs.PlateCarree()"
   ]
  },
  {
   "cell_type": "code",
   "execution_count": null,
   "metadata": {},
   "outputs": [],
   "source": [
    "m = Map(figure_kws=dict(figsize=(10,8)))"
   ]
  },
  {
   "cell_type": "markdown",
   "metadata": {},
   "source": [
    "## Getting an overview over the dataset\n",
    "### Mean, Std, Skewness, 1/99 percentile and distribution density plot"
   ]
  },
  {
   "cell_type": "code",
   "execution_count": null,
   "metadata": {},
   "outputs": [],
   "source": []
  },
  {
   "cell_type": "code",
   "execution_count": null,
   "metadata": {},
   "outputs": [],
   "source": [
    "with ProgressBar():\n",
    "    fig, ax = m.plot(xar['lsp'].mean('time'))\n",
    "    ax.set_title('Large-scale precipitation - Mean over time')"
   ]
  },
  {
   "cell_type": "code",
   "execution_count": null,
   "metadata": {},
   "outputs": [],
   "source": []
  },
  {
   "cell_type": "code",
   "execution_count": null,
   "metadata": {
    "scrolled": false
   },
   "outputs": [],
   "source": [
    "with ProgressBar():\n",
    "    fig, ax = m.plot(xar['lsp'].std('time'))\n",
    "    ax.set_title('Large-scale precipitation - Standard Deviation over time')"
   ]
  },
  {
   "cell_type": "code",
   "execution_count": null,
   "metadata": {},
   "outputs": [],
   "source": [
    "with ProgressBar():\n",
    "    fig, ax = m.plot(xar['cp'].mean('time'))\n",
    "    ax.set_title('Convective precipitation - Mean over time')"
   ]
  },
  {
   "cell_type": "code",
   "execution_count": null,
   "metadata": {},
   "outputs": [],
   "source": [
    "with ProgressBar():\n",
    "    fig, ax = m.plot(xar['cp'].std('time'))\n",
    "    ax.set_title('Convective precipitation - Standard Deviation over time')"
   ]
  },
  {
   "cell_type": "code",
   "execution_count": null,
   "metadata": {
    "scrolled": false
   },
   "outputs": [],
   "source": [
    "with ProgressBar():\n",
    "    fig, ax = m.plot(xar['cp'].std('time')/xar['cp'].mean('time'))\n",
    "    ax.set_title('Convective precipitation - Relative Standard Deviation over time')"
   ]
  },
  {
   "cell_type": "code",
   "execution_count": null,
   "metadata": {},
   "outputs": [],
   "source": [
    "with ProgressBar():\n",
    "    fig, ax = m.plot(xar['lsp'].std('time')/xar['lsp'].mean('time'))\n",
    "    ax.set_title('Large-scale precipitation - Relative Standard Deviation over time')"
   ]
  },
  {
   "cell_type": "code",
   "execution_count": null,
   "metadata": {},
   "outputs": [],
   "source": []
  },
  {
   "cell_type": "markdown",
   "metadata": {},
   "source": [
    "## Spatial correlations\n",
    "\n",
    "Text"
   ]
  },
  {
   "cell_type": "code",
   "execution_count": null,
   "metadata": {},
   "outputs": [],
   "source": [
    "anom = xar - xar.mean('time')\n",
    "da = anom['lsp']"
   ]
  },
  {
   "cell_type": "markdown",
   "metadata": {},
   "source": [
    "Calling `xarray`'s plotting routines without projection yields nice plots too, but they may be distorted if your spatial domain is not of quadratic shape:"
   ]
  },
  {
   "cell_type": "code",
   "execution_count": null,
   "metadata": {},
   "outputs": [],
   "source": [
    "point = dict(latitude=48, longitude=-100)\n",
    "cov = da.loc[point].dot(da)\n",
    "cov.plot.pcolormesh()"
   ]
  },
  {
   "cell_type": "code",
   "execution_count": null,
   "metadata": {},
   "outputs": [],
   "source": []
  },
  {
   "cell_type": "code",
   "execution_count": null,
   "metadata": {},
   "outputs": [],
   "source": []
  },
  {
   "cell_type": "code",
   "execution_count": null,
   "metadata": {
    "scrolled": false
   },
   "outputs": [],
   "source": [
    "points = [dict(latitude=48, longitude=-100),\n",
    "          dict(latitude=47, longitude=-80),\n",
    "          dict(latitude=40, longitude=-115),\n",
    "          dict(latitude=38, longitude=-115),\n",
    "          dict(latitude=38, longitude=-115)\n",
    "         ]\n",
    "\n",
    "for point in points:\n",
    "    cov = da.loc[point].dot(da)/(da.std('time')*da.loc[point].std())/len(da.coords['time'])\n",
    "    with ProgressBar():\n",
    "        fig, ax = m.plot(cov, vmin=-1, vmax=1, cmap='coolwarm_r')\n",
    "        m.plot_point(ax, lat=point['latitude'], lon=point['longitude'])\n",
    "        ax.set_title(f\"Spatial correlation with N {point['latitude']} E {point['longitude']}\")\n",
    "        plt.show()"
   ]
  },
  {
   "cell_type": "markdown",
   "metadata": {},
   "source": [
    "# Dataset Variable's Distribution\n",
    "\n",
    "using seaborn? or too many values (\"big data\")\n",
    "-> probably \"bokeh\" module"
   ]
  },
  {
   "cell_type": "code",
   "execution_count": null,
   "metadata": {},
   "outputs": [],
   "source": [
    "data = xar['lsp'].sum('time').values.ravel()\n",
    "sb.distplot(data)"
   ]
  },
  {
   "cell_type": "code",
   "execution_count": null,
   "metadata": {},
   "outputs": [],
   "source": [
    "data = xar['cp'].sum('time').values.ravel()\n",
    "sb.distplot(data)"
   ]
  },
  {
   "cell_type": "code",
   "execution_count": null,
   "metadata": {},
   "outputs": [],
   "source": [
    "x, y = xar['cp'][0,:,:], xar['lsp'][0,:,:]\n",
    "\n",
    "f, ax = plt.subplots()\n",
    "ax.set(xscale=\"log\", yscale=\"log\")\n",
    "mask = (x>0.001)*(y>0.001)\n",
    "x, y = x.where(mask), y.where(mask)\n",
    "sb.jointplot(x, y, ax=ax)"
   ]
  },
  {
   "cell_type": "markdown",
   "metadata": {},
   "source": [
    "## Animations: How does a Hurricane look in our data?"
   ]
  },
  {
   "cell_type": "markdown",
   "metadata": {},
   "source": [
    "Let us define the time frame first. What timeframe could give us most insight into our data? \n",
    "\n",
    "Probably an event of a hurricane making landfall? What about Hurricane Katrina in August 2005? \n",
    "So let's have a look at the months August and September of the Year 2005, so you will also see Hurricane Ophelia moving along the east coast on its way over to Europe."
   ]
  },
  {
   "cell_type": "code",
   "execution_count": null,
   "metadata": {},
   "outputs": [],
   "source": [
    "xar = xr.open_mfdataset('../data/hourly_for_animations/*precip*.nc')\n",
    "da = (xar['lsp'] + xar['cp'])*1000\n",
    "da.name = 'total_precipitation'\n",
    "da = da.sel(time=slice(dt.datetime(2005,8,25), \n",
    "                       dt.datetime(2005,10,1)))"
   ]
  },
  {
   "cell_type": "markdown",
   "metadata": {},
   "source": [
    "As we wont do heavy computations from now on, we can switch of parallelism and set the dask scheduler to `synchronous`. We can also load the data before rendering the animation."
   ]
  },
  {
   "cell_type": "code",
   "execution_count": null,
   "metadata": {},
   "outputs": [],
   "source": [
    "dask.config.set(scheduler='synchronous')\n",
    "da = da.load()"
   ]
  },
  {
   "cell_type": "markdown",
   "metadata": {},
   "source": [
    "To avoid plotting colors where no or very little precipitation occured, let's grey out all values below 0.1 mm/day. As our dataset has precipitation in units of meters (per day), that is 0.001. So we set all values below this threshold to zero."
   ]
  },
  {
   "cell_type": "code",
   "execution_count": null,
   "metadata": {},
   "outputs": [],
   "source": [
    "da = da.where(da>0.001, np.nan)"
   ]
  },
  {
   "cell_type": "markdown",
   "metadata": {},
   "source": [
    "The next cell defines the code to create the animation, this is the place of choice if you want to customize your animation."
   ]
  },
  {
   "cell_type": "code",
   "execution_count": null,
   "metadata": {},
   "outputs": [],
   "source": [
    "import numpy as np\n",
    "import pandas as pd\n",
    "import matplotlib\n",
    "import matplotlib.pyplot as plt\n",
    "import cartopy\n",
    "import cartopy.crs as ccrs\n",
    "import cartopy.feature as cfeature\n",
    "from cartopy.io.shapereader import Reader\n",
    "from cartopy.feature import ShapelyFeature\n",
    "import xarray as xr\n",
    "\n",
    "\n",
    "from matplotlib import animation, rc\n",
    "from IPython.display import HTML\n",
    "\n",
    "from aux.plot import choose_proj_from_xar\n",
    "from aux.ml_flood_config import path_to_data\n",
    "\n",
    "major_basins_shapefile = path_to_data+'/drainage_basins/Major_Basins_of_the_World.shp'\n",
    "\n",
    "nws_precip_colors = [\n",
    "    \"#04e9e7\",  # 0.01 - 0.10 inches\n",
    "    \"#019ff4\",  # 0.10 - 0.25 inches\n",
    "    \"#0300f4\",  # 0.25 - 0.50 inches\n",
    "    \"#02fd02\",  # 0.50 - 0.75 inches\n",
    "    \"#01c501\",  # 0.75 - 1.00 inches\n",
    "    \"#008e00\",  # 1.00 - 1.50 inches\n",
    "    \"#fdf802\",  # 1.50 - 2.00 inches\n",
    "    \"#e5bc00\",  # 2.00 - 2.50 inches\n",
    "    \"#fd9500\",  # 2.50 - 3.00 inches\n",
    "    \"#fd0000\",  # 3.00 - 4.00 inches\n",
    "    \"#d40000\",  # 4.00 - 5.00 inches\n",
    "    \"#bc0000\",  # 5.00 - 6.00 inches\n",
    "    \"#f800fd\",  # 6.00 - 8.00 inches\n",
    "    \"#9854c6\",  # 8.00 - 10.00 inches\n",
    "    \"#fdfdfd\"   # 10.00+\n",
    "]\n",
    "precip_colormap = matplotlib.colors.ListedColormap(nws_precip_colors)\n",
    "\n",
    "\n",
    "def create_animation(dataarray):\n",
    "    da = dataarray\n",
    "    fig, ax = plt.subplots(figsize=(12,8))\n",
    "    proj = choose_proj_from_xar(da)\n",
    "    ax = plt.axes(projection=proj)\n",
    "    transform = ccrs.PlateCarree()\n",
    "\n",
    "    countries = cfeature.NaturalEarthFeature(\n",
    "                            category='cultural',\n",
    "                            name='admin_0_boundary_lines_land',\n",
    "                            scale='50m',\n",
    "                            facecolor='none')\n",
    "    rivers = cfeature.NaturalEarthFeature(scale='50m', category='physical',\n",
    "                                          name='rivers_lake_centerlines', \n",
    "                                          edgecolor='blue', facecolor='none')\n",
    "\n",
    "    ax.add_feature(countries, edgecolor='grey')\n",
    "    ax.coastlines('50m')\n",
    "    ax.add_feature(rivers, edgecolor='blue')\n",
    "\n",
    "    sf = Reader(major_basins_shapefile)\n",
    "    shape_feature = ShapelyFeature(sf.geometries(), transform, edgecolor='black')\n",
    "    ax.add_feature(shape_feature, facecolor='none', edgecolor='green')\n",
    "\n",
    "    im = (da.isel(time=0)*np.nan).plot.pcolormesh(ax=ax, transform=transform, \n",
    "                                                  subplot_kws=dict(projection=proj),\n",
    "                                                  cbar_kwargs=dict(fraction=0.025), \n",
    "                                                  vmin=0, vmax=30,\n",
    "                                                  cmap=precip_colormap)\n",
    "    def init():\n",
    "        im.set_array(np.array([]))\n",
    "        return im,\n",
    "\n",
    "    def animate(i):\n",
    "        data = da.isel(time=i)\n",
    "        time = pd.to_datetime(data.time.values)\n",
    "        title = str(data.name)+' - '+time.strftime('%Y-%m-%d %H')\n",
    "        im.set_array(data.values.ravel())\n",
    "        ax.set_title(title)\n",
    "        return (im,)\n",
    "    \n",
    "    return animation.FuncAnimation(fig, animate, init_func=init,\n",
    "                                   frames=len(da.coords['time']), interval=100, \n",
    "                                   blit=True)"
   ]
  },
  {
   "cell_type": "markdown",
   "metadata": {
    "scrolled": true
   },
   "source": [
    "## Now it's time to render the video\n",
    "When finished, you have multiple choices:\n",
    "- Save your video to disk with `anim.save(filename)`\n",
    "- Show it within this jupyter notebook \n",
    "    - as HTML5 Video (mp4) with `HTML(anim.to_html5_video())`\n",
    "    - as Javascript Animation with `HTML(anim.to_jshtml())`\n",
    "    \n",
    "Note that github.com does not show your animations currently, but https://nbviewer.jupyter.org is an excellent site with lets you view all contents."
   ]
  },
  {
   "cell_type": "code",
   "execution_count": null,
   "metadata": {},
   "outputs": [],
   "source": [
    "anim = create_animation(da)"
   ]
  },
  {
   "cell_type": "code",
   "execution_count": null,
   "metadata": {
    "scrolled": false
   },
   "outputs": [],
   "source": [
    "HTML(anim.to_html5_video())"
   ]
  },
  {
   "cell_type": "code",
   "execution_count": null,
   "metadata": {},
   "outputs": [],
   "source": [
    "anim.save('tp_2005_hourly_nomask.mp4')"
   ]
  },
  {
   "cell_type": "code",
   "execution_count": null,
   "metadata": {},
   "outputs": [],
   "source": [
    "HTML(anim.to_jshtml())"
   ]
  },
  {
   "cell_type": "code",
   "execution_count": null,
   "metadata": {},
   "outputs": [],
   "source": []
  }
 ],
 "metadata": {
  "kernelspec": {
   "display_name": "Python 3",
   "language": "python",
   "name": "python3"
  },
  "language_info": {
   "codemirror_mode": {
    "name": "ipython",
    "version": 3
   },
   "file_extension": ".py",
   "mimetype": "text/x-python",
   "name": "python",
   "nbconvert_exporter": "python",
   "pygments_lexer": "ipython3",
   "version": "3.7.3"
  }
 },
 "nbformat": 4,
 "nbformat_minor": 2
}
