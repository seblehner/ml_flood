{
 "cells": [
  {
   "cell_type": "code",
   "execution_count": 10,
   "metadata": {},
   "outputs": [
    {
     "ename": "ModuleNotFoundError",
     "evalue": "No module named 'keras'",
     "output_type": "error",
     "traceback": [
      "\u001b[0;31m---------------------------------------------------------------------------\u001b[0m",
      "\u001b[0;31mModuleNotFoundError\u001b[0m                       Traceback (most recent call last)",
      "\u001b[0;32m<ipython-input-10-dff8e664210d>\u001b[0m in \u001b[0;36m<module>\u001b[0;34m\u001b[0m\n\u001b[1;32m     18\u001b[0m \u001b[0;32mfrom\u001b[0m \u001b[0mdask_ml\u001b[0m\u001b[0;34m.\u001b[0m\u001b[0mlinear_model\u001b[0m \u001b[0;32mimport\u001b[0m \u001b[0mLinearRegression\u001b[0m\u001b[0;34m\u001b[0m\u001b[0;34m\u001b[0m\u001b[0m\n\u001b[1;32m     19\u001b[0m \u001b[0;34m\u001b[0m\u001b[0m\n\u001b[0;32m---> 20\u001b[0;31m \u001b[0;32mimport\u001b[0m \u001b[0mkeras\u001b[0m\u001b[0;34m\u001b[0m\u001b[0;34m\u001b[0m\u001b[0m\n\u001b[0m\u001b[1;32m     21\u001b[0m \u001b[0;32mfrom\u001b[0m \u001b[0mkeras\u001b[0m\u001b[0;34m.\u001b[0m\u001b[0mlayers\u001b[0m\u001b[0;34m.\u001b[0m\u001b[0mcore\u001b[0m \u001b[0;32mimport\u001b[0m \u001b[0mDropout\u001b[0m\u001b[0;34m\u001b[0m\u001b[0;34m\u001b[0m\u001b[0m\n",
      "\u001b[0;31mModuleNotFoundError\u001b[0m: No module named 'keras'"
     ]
    }
   ],
   "source": [
    "import numpy as np\n",
    "import datetime as dt\n",
    "import pandas as pd\n",
    "import matplotlib.pyplot as plt\n",
    "import seaborn as sns\n",
    "\n",
    "import dask\n",
    "import xarray as xr\n",
    "from dask.diagnostics import ProgressBar\n",
    "\n",
    "import joblib\n",
    "from sklearn.pipeline import Pipeline\n",
    "from dask_ml.preprocessing import StandardScaler\n",
    "from dask_ml.decomposition import PCA\n",
    "\n",
    "#from dask_ml.xgboost import XGBRegressor\n",
    "#from dask_ml.linear_model import LogisticRegression\n",
    "from dask_ml.linear_model import LinearRegression\n",
    "\n",
    "import keras\n",
    "from keras.layers.core import Dropout"
   ]
  },
  {
   "cell_type": "code",
   "execution_count": null,
   "metadata": {},
   "outputs": [],
   "source": []
  },
  {
   "cell_type": "code",
   "execution_count": 11,
   "metadata": {
    "scrolled": false
   },
   "outputs": [
    {
     "name": "stdout",
     "output_type": "stream",
     "text": [
      "/home/srvx11/lehre/users/a1303583/.conda/envs/py3/bin/python\n"
     ]
    }
   ],
   "source": [
    "import sys\n",
    "print(sys.executable)"
   ]
  },
  {
   "cell_type": "code",
   "execution_count": null,
   "metadata": {
    "scrolled": true
   },
   "outputs": [],
   "source": [
    "def shift_time(ds, value):\n",
    "    ds.coords['time'].values = pd.to_datetime(ds.coords['time'].values) + value\n",
    "    return ds"
   ]
  },
  {
   "cell_type": "code",
   "execution_count": null,
   "metadata": {},
   "outputs": [],
   "source": [
    "static = xr.open_dataset('../data/usa/era5_slt_z_slor_lsm_stationary_field.nc')"
   ]
  },
  {
   "cell_type": "code",
   "execution_count": null,
   "metadata": {},
   "outputs": [],
   "source": [
    "era5 = xr.open_dataset('../data/usa/era5_lsp_cp_1981-2017_daysum.nc')"
   ]
  },
  {
   "cell_type": "code",
   "execution_count": null,
   "metadata": {},
   "outputs": [],
   "source": [
    "glofas = xr.open_dataset('../data/usa/glofas_reanalysis_usa_1981-2002.nc')\n",
    "glofas = glofas.rename({'lat': 'latitude', 'lon': 'longitude'})  # to have the same name like in era5\n",
    "glofas = shift_time(glofas, -dt.timedelta(days=1))\n",
    "# da.transpose(dims='latitude')  # flip?"
   ]
  },
  {
   "cell_type": "code",
   "execution_count": null,
   "metadata": {},
   "outputs": [],
   "source": [
    "glofas = glofas.isel(time=slice(0, 365*3))"
   ]
  },
  {
   "cell_type": "markdown",
   "metadata": {},
   "source": [
    "### basic spatial subset - compute the model only in this domain"
   ]
  },
  {
   "cell_type": "code",
   "execution_count": 8,
   "metadata": {},
   "outputs": [],
   "source": [
    "box_model = dict(latitude=slice(40, 28), \n",
    "                 longitude=slice(-95, -85))"
   ]
  },
  {
   "cell_type": "code",
   "execution_count": 9,
   "metadata": {},
   "outputs": [],
   "source": [
    "glofas = glofas.sel(box_model)\n",
    "era5 = era5.sel(box_model)"
   ]
  },
  {
   "cell_type": "code",
   "execution_count": 10,
   "metadata": {},
   "outputs": [],
   "source": [
    "dis = glofas['dis']"
   ]
  },
  {
   "cell_type": "code",
   "execution_count": 11,
   "metadata": {},
   "outputs": [],
   "source": [
    "z_glofas = static['z'].isel(time=0)/9.81  # converting to m approx.\n",
    "z_glofas = z_glofas.interp(latitude=glofas.latitude,\n",
    "                           longitude=glofas.longitude)\n",
    "z_glofas = z_glofas.drop('time')  # time is misleading as the topography does not change"
   ]
  },
  {
   "cell_type": "code",
   "execution_count": 12,
   "metadata": {},
   "outputs": [],
   "source": [
    "tp = (era5['cp']+era5['lsp'])*1000\n",
    "tp.name = 'total precip [mm]'\n",
    "tp = tp.interp(latitude=glofas.latitude,\n",
    "               longitude=glofas.longitude)"
   ]
  },
  {
   "cell_type": "markdown",
   "metadata": {},
   "source": [
    "# Preprocessing routines - Summary"
   ]
  },
  {
   "cell_type": "code",
   "execution_count": 13,
   "metadata": {},
   "outputs": [],
   "source": [
    "def add_shifted_predictors(ds, shifts, variables='all'):\n",
    "    \"\"\"Adds additional variables to an array which are shifted in time.\n",
    "    \n",
    "    Parameters\n",
    "    ----------\n",
    "    ds : xr.Dataset\n",
    "    shifts : list of integers\n",
    "    variables : str or list\n",
    "    \"\"\"\n",
    "    if variables == 'all': \n",
    "        variables = ds.data_vars\n",
    "        \n",
    "    for var in variables:\n",
    "        for i in shifts:\n",
    "            if i == 0: continue  # makes no sense to shift by zero\n",
    "            newvar = var+'-'+str(i)\n",
    "            ds[newvar] = ds[var].shift(time=i)\n",
    "    return ds"
   ]
  },
  {
   "cell_type": "code",
   "execution_count": 14,
   "metadata": {},
   "outputs": [],
   "source": [
    "def correlate(da_3d, da_timeseries, timelag=False):\n",
    "    a = da_3d - da_3d.mean('time')\n",
    "    b = da_timeseries - da_timeseries.mean('time')\n",
    "    N = len(b.coords['time'])\n",
    "    if timelag:\n",
    "        b = b.drop('time')\n",
    "        a = a.drop('time')\n",
    "    out = b.dot(a)/a.std('time')/b.std()/N\n",
    "    out.name = 'correlation coefficient'\n",
    "    return out"
   ]
  },
  {
   "cell_type": "code",
   "execution_count": 15,
   "metadata": {},
   "outputs": [],
   "source": [
    "def select_river(dis):\n",
    "    river = dis.min('time') > 5\n",
    "    river.name = 'river mask [0/1]'\n",
    "    return river"
   ]
  },
  {
   "cell_type": "code",
   "execution_count": 16,
   "metadata": {},
   "outputs": [],
   "source": [
    "def select_upstream_river(dis_box, dis_point, z_box, z_point, rivermask, pct):\n",
    "    lags = [-1, 1]\n",
    "\n",
    "    timelag_corrs = np.full((len(lags), len(dis_box.latitude), len(dis_box.longitude)), np.nan)\n",
    "    for t, lag in enumerate(lags):\n",
    "        if lag > 0:  # dis_box with data from previous timesteps\n",
    "            cntr = dis_point[lag:]\n",
    "            dis_box_shift = dis_box[:-lag]\n",
    "        elif lag < 0:  # dis_box with data from future timesteps\n",
    "            cntr = dis_point[:lag]\n",
    "            dis_box_shift = dis_box[-lag:]\n",
    "\n",
    "        dis_box_relevant = dis_box_shift.where(rivermask==1)\n",
    "        timelag_corrs[t,:,:] = correlate(dis_box_relevant, cntr, timelag=True)\n",
    "\n",
    "    lag_influencing = timelag_corrs[1,:,:]>timelag_corrs[0,:,:]\n",
    "    #plt.imshow(lag_influencing)\n",
    "\n",
    "    influencer = (dis_box.mean('time') > pct*dis_point.mean('time'))  \\\n",
    "                  &(z_box > z_point)   \\\n",
    "                  &(rivermask==1) & lag_influencing\n",
    "    influencer.name = 'gridpoints influencing discharge [0/1]'\n",
    "    #influencer.plot()\n",
    "    return influencer"
   ]
  },
  {
   "cell_type": "code",
   "execution_count": 17,
   "metadata": {},
   "outputs": [],
   "source": [
    "shifts = range(1,4)\n",
    "X_dis = add_shifted_predictors(glofas, shifts, variables='all')\n",
    "X_dis = X_dis.drop('dis')  # we actually want to predict (t) with (t-1, t-2, t-3)\n",
    "y_dis = glofas['dis']"
   ]
  },
  {
   "cell_type": "code",
   "execution_count": 18,
   "metadata": {},
   "outputs": [],
   "source": [
    "i, j = 70, 38\n",
    "di = 20\n",
    "dj = 20\n",
    "pct = 0.1  # influencing gridpoint must have mean discharge more than this percentage\n",
    "\n",
    "i0, i1 = i-di, i+di\n",
    "j0, j1 = j-dj, j+dj"
   ]
  },
  {
   "cell_type": "code",
   "execution_count": null,
   "metadata": {},
   "outputs": [],
   "source": []
  },
  {
   "cell_type": "code",
   "execution_count": null,
   "metadata": {},
   "outputs": [],
   "source": []
  },
  {
   "cell_type": "code",
   "execution_count": 19,
   "metadata": {},
   "outputs": [
    {
     "name": "stdout",
     "output_type": "stream",
     "text": [
      "percentage: <xarray.DataArray 'total precip [mm]' ()>\n",
      "array(0.334986)\n",
      "<xarray.DataArray 'total precip [mm]' (time: 13514)>\n",
      "array([ True,  True,  True, ...,  True, False, False])\n",
      "Coordinates:\n",
      "  * time     (time) datetime64[ns] 1981-01-01T23:00:00 ... 2017-12-31T23:00:00\n"
     ]
    }
   ],
   "source": [
    "tp_box = tp[:, i0:i1, j0:j1]\n",
    "few_precip = tp_box.mean(['longitude', 'latitude']) < 0.1\n",
    "print('percentage:',sum(few_precip.astype(int))/few_precip.size) # .plot() #.plot() #'#'\n",
    "print(few_precip)"
   ]
  },
  {
   "cell_type": "code",
   "execution_count": 20,
   "metadata": {},
   "outputs": [
    {
     "data": {
      "text/plain": [
       "<matplotlib.axes._subplots.AxesSubplot at 0x7f206132c1d0>"
      ]
     },
     "execution_count": 20,
     "metadata": {},
     "output_type": "execute_result"
    },
    {
     "data": {
      "image/png": "[encoded data removed]",
      "text/plain": [
       "<Figure size 1800x360 with 1 Axes>"
      ]
     },
     "metadata": {
      "needs_background": "light"
     },
     "output_type": "display_data"
    }
   ],
   "source": [
    "fig, ax = plt.subplots(figsize=(25,5))\n",
    "few_precip.astype(int).to_pandas().plot(ax=ax)"
   ]
  },
  {
   "cell_type": "code",
   "execution_count": 21,
   "metadata": {},
   "outputs": [
    {
     "data": {
      "text/plain": [
       "<matplotlib.collections.QuadMesh at 0x7f206db9f4a8>"
      ]
     },
     "execution_count": 21,
     "metadata": {},
     "output_type": "execute_result"
    },
    {
     "data": {
      "image/png": "[encoded data removed]",
      "text/plain": [
       "<Figure size 432x288 with 2 Axes>"
      ]
     },
     "metadata": {
      "needs_background": "light"
     },
     "output_type": "display_data"
    }
   ],
   "source": [
    "tp_box.where(few_precip).isel(time=0).plot()"
   ]
  },
  {
   "cell_type": "code",
   "execution_count": 22,
   "metadata": {},
   "outputs": [],
   "source": [
    "dis = dis.load()\n",
    "disf = dis.where(few_precip)"
   ]
  },
  {
   "cell_type": "code",
   "execution_count": 23,
   "metadata": {},
   "outputs": [
    {
     "data": {
      "text/plain": [
       "<xarray.DataArray 'dis' (time: 1095, latitude: 120, longitude: 100)>\n",
       "array([[[9.030977e-02, 6.938147e-02, ..., 1.058031e+00, 7.581121e-01],\n",
       "        [4.353719e+02, 6.850996e-02, ..., 1.591652e+00, 9.349488e-01],\n",
       "        ...,\n",
       "        [         nan,          nan, ...,          nan,          nan],\n",
       "        [         nan,          nan, ...,          nan,          nan]],\n",
       "\n",
       "       [[8.804606e-02, 6.719401e-02, ..., 1.058679e+00, 7.594556e-01],\n",
       "        [4.354823e+02, 6.682967e-02, ..., 1.589289e+00, 9.351913e-01],\n",
       "        ...,\n",
       "        [         nan,          nan, ...,          nan,          nan],\n",
       "        [         nan,          nan, ...,          nan,          nan]],\n",
       "\n",
       "       ...,\n",
       "\n",
       "       [[4.729932e-01, 4.863705e-01, ..., 1.142748e+00, 8.647016e-01],\n",
       "        [7.267107e+02, 3.798618e-01, ..., 2.813933e+00, 1.405810e+00],\n",
       "        ...,\n",
       "        [         nan,          nan, ...,          nan,          nan],\n",
       "        [         nan,          nan, ...,          nan,          nan]],\n",
       "\n",
       "       [[4.714040e-01, 4.846140e-01, ..., 1.145358e+00, 8.765144e-01],\n",
       "        [7.259071e+02, 3.766377e-01, ..., 2.823766e+00, 1.420400e+00],\n",
       "        ...,\n",
       "        [         nan,          nan, ...,          nan,          nan],\n",
       "        [         nan,          nan, ...,          nan,          nan]]],\n",
       "      dtype=float32)\n",
       "Coordinates:\n",
       "  * longitude  (longitude) float64 -94.95 -94.85 -94.75 ... -85.25 -85.15 -85.05\n",
       "  * latitude   (latitude) float64 39.95 39.85 39.75 39.65 ... 28.25 28.15 28.05\n",
       "  * time       (time) datetime64[ns] 1981-01-01 1981-01-02 ... 1983-12-31\n",
       "Attributes:\n",
       "    long_name:  discharge\n",
       "    units:      m3/s"
      ]
     },
     "execution_count": 23,
     "metadata": {},
     "output_type": "execute_result"
    }
   ],
   "source": [
    "dis"
   ]
  },
  {
   "cell_type": "markdown",
   "metadata": {},
   "source": [
    "### pre-selection of upstream river gridpoints"
   ]
  },
  {
   "cell_type": "code",
   "execution_count": 24,
   "metadata": {},
   "outputs": [
    {
     "name": "stderr",
     "output_type": "stream",
     "text": [
      "/home/srvx11/lehre/users/a1254888/.conda/envs/ml_flood/lib/python3.7/site-packages/xarray/core/nanops.py:161: RuntimeWarning: Mean of empty slice\n",
      "  return np.nanmean(a, axis=axis, dtype=dtype)\n",
      "/home/srvx11/lehre/users/a1254888/.conda/envs/ml_flood/lib/python3.7/site-packages/numpy/lib/nanfunctions.py:1628: RuntimeWarning: Degrees of freedom <= 0 for slice.\n",
      "  keepdims=keepdims)\n",
      "/home/srvx11/lehre/users/a1254888/.conda/envs/ml_flood/lib/python3.7/site-packages/xarray/core/nanops.py:161: RuntimeWarning: Mean of empty slice\n",
      "  return np.nanmean(a, axis=axis, dtype=dtype)\n",
      "/home/srvx11/lehre/users/a1254888/.conda/envs/ml_flood/lib/python3.7/site-packages/numpy/lib/nanfunctions.py:1628: RuntimeWarning: Degrees of freedom <= 0 for slice.\n",
      "  keepdims=keepdims)\n"
     ]
    }
   ],
   "source": [
    "dis_point = dis[:,i,j]\n",
    "dis_box = dis[:, i0:i1, j0:j1]\n",
    "z_point = z_glofas[i,j]\n",
    "z_box = z_glofas[i0:i1,j0:j1]\n",
    "\n",
    "\n",
    "rivermask = select_river(dis_box)\n",
    "\n",
    "upstream = select_upstream_river(dis_box, dis_point, z_box, z_point, rivermask, pct)"
   ]
  },
  {
   "cell_type": "code",
   "execution_count": 25,
   "metadata": {},
   "outputs": [
    {
     "name": "stdout",
     "output_type": "stream",
     "text": [
      "<xarray.DataArray 'gridpoints influencing discharge [0/1]' ()>\n",
      "array(26)\n"
     ]
    },
    {
     "data": {
      "image/png": "[encoded data removed]",
      "text/plain": [
       "<Figure size 432x288 with 2 Axes>"
      ]
     },
     "metadata": {
      "needs_background": "light"
     },
     "output_type": "display_data"
    }
   ],
   "source": [
    "upstream.plot()\n",
    "print(upstream.sum())"
   ]
  },
  {
   "cell_type": "markdown",
   "metadata": {},
   "source": [
    "# Parameter-tuning for reasonable performance"
   ]
  },
  {
   "cell_type": "code",
   "execution_count": 26,
   "metadata": {},
   "outputs": [],
   "source": [
    "def preprocess_reshape(X_dis, y_dis, upstream, i, j):\n",
    "    X_dis = X_dis.where(upstream)\n",
    "    X_dis = X_dis.to_array(dim='time_feature')  \n",
    "    X_dis = X_dis.stack(features=['latitude', 'longitude', 'time_feature'])\n",
    "    Xar = X_dis.dropna('features', how='all')\n",
    "    \n",
    "    yar = y_dis[:,i,j]\n",
    "    yar = yar.drop(['latitude', 'longitude'])\n",
    "    yar.coords['features'] = 'dis'\n",
    "    \n",
    "    Xy = xr.concat([Xar, yar], dim='features')\n",
    "    Xyt = Xy.dropna('time', how='any')  # drop them as we cannot train on nan values\n",
    "    time = Xyt.time\n",
    "    \n",
    "    Xda = Xyt[:,:-1]\n",
    "    yda = Xyt[:,-1]\n",
    "    return Xda, yda, time"
   ]
  },
  {
   "cell_type": "code",
   "execution_count": 27,
   "metadata": {},
   "outputs": [],
   "source": [
    "Xda, yda, time = preprocess_reshape(X_dis, y_dis, upstream, i,j)"
   ]
  },
  {
   "cell_type": "code",
   "execution_count": 28,
   "metadata": {},
   "outputs": [
    {
     "data": {
      "text/plain": [
       "<xarray.DataArray (time: 1092, features: 78)>\n",
       "array([[ 4151.1094,  4166.663 ,  4182.    , ...,  4820.8086,  4847.2827,\n",
       "         4875.5356],\n",
       "       [ 4134.447 ,  4151.1094,  4166.663 , ...,  4795.667 ,  4820.8086,\n",
       "         4847.2827],\n",
       "       [ 4117.834 ,  4134.447 ,  4151.1094, ...,  4772.7407,  4795.667 ,\n",
       "         4820.8086],\n",
       "       ...,\n",
       "       [10176.239 , 10166.683 , 10201.387 , ..., 11792.947 , 11961.535 ,\n",
       "        12160.183 ],\n",
       "       [10226.457 , 10176.239 , 10166.683 , ..., 11665.72  , 11792.947 ,\n",
       "        11961.535 ],\n",
       "       [10286.518 , 10226.457 , 10176.239 , ..., 11585.135 , 11665.72  ,\n",
       "        11792.947 ]], dtype=float32)\n",
       "Coordinates:\n",
       "  * time      (time) datetime64[ns] 1981-01-04 1981-01-05 ... 1983-12-31\n",
       "  * features  (features) object (34.95, -90.24999999999999, 'dis-1') ... (33.05, -91.14999999999998, 'dis-3')"
      ]
     },
     "execution_count": 28,
     "metadata": {},
     "output_type": "execute_result"
    }
   ],
   "source": [
    "Xda"
   ]
  },
  {
   "cell_type": "raw",
   "metadata": {},
   "source": [
    "for p in range(Xda.shape[1]):\n",
    "    print(p, float(Xda[:,p].mean()))"
   ]
  },
  {
   "cell_type": "code",
   "execution_count": 29,
   "metadata": {},
   "outputs": [
    {
     "data": {
      "text/plain": [
       "<xarray.Dataset>\n",
       "Dimensions:    (latitude: 40, longitude: 40, time: 1095)\n",
       "Coordinates:\n",
       "  * latitude   (latitude) float64 34.95 34.85 34.75 34.65 ... 31.25 31.15 31.05\n",
       "  * longitude  (longitude) float64 -93.15 -93.05 -92.95 ... -89.45 -89.35 -89.25\n",
       "  * time       (time) datetime64[ns] 1981-01-01 1981-01-02 ... 1983-12-31\n",
       "Data variables:\n",
       "    dis-1      (time, latitude, longitude) float32 nan nan nan ... nan nan nan\n",
       "    dis-2      (time, latitude, longitude) float32 nan nan nan ... nan nan nan\n",
       "    dis-3      (time, latitude, longitude) float32 nan nan nan ... nan nan nan\n",
       "Attributes:\n",
       "    CDI:          Climate Data Interface version 1.6.4rc4 (http://code.zmaw.d...\n",
       "    Conventions:  CF-1.4\n",
       "    history:      Thu Jun 13 19:39:24 2019: cdo mergetime /home/srvx11/lehre/...\n",
       "    CDO:          Climate Data Operators version 1.6.4rc7 (http://code.zmaw.d..."
      ]
     },
     "execution_count": 29,
     "metadata": {},
     "output_type": "execute_result"
    }
   ],
   "source": [
    "X_dis.where(upstream) #.plot()"
   ]
  },
  {
   "cell_type": "code",
   "execution_count": 30,
   "metadata": {},
   "outputs": [],
   "source": [
    "Xda = Xda.values\n",
    "yda = yda.values[:, np.newaxis]"
   ]
  },
  {
   "cell_type": "code",
   "execution_count": 31,
   "metadata": {},
   "outputs": [
    {
     "name": "stdout",
     "output_type": "stream",
     "text": [
      "yda.shape: (1092, 78) yda.shape: (1092, 1)\n"
     ]
    }
   ],
   "source": [
    "print('yda.shape:', Xda.shape, 'yda.shape:',  yda.shape)"
   ]
  },
  {
   "cell_type": "code",
   "execution_count": null,
   "metadata": {},
   "outputs": [],
   "source": []
  },
  {
   "cell_type": "code",
   "execution_count": null,
   "metadata": {
    "scrolled": false
   },
   "outputs": [],
   "source": []
  },
  {
   "cell_type": "code",
   "execution_count": 32,
   "metadata": {},
   "outputs": [],
   "source": [
    "class KerasDenseNN(object):\n",
    "    def __init__(self, **kwargs):\n",
    "        model = keras.models.Sequential()\n",
    "        self.cfg = kwargs\n",
    "        \n",
    "        model.add(keras.layers.BatchNormalization())\n",
    "        \n",
    "        model.add(keras.layers.Dense(8,\n",
    "                                  kernel_initializer='normal', \n",
    "                                  bias_initializer='zeros',\n",
    "                                  activation='relu')) #('sigmoid'))\n",
    "        #model.add(Dropout(self.cfg.get('dropout')))\n",
    "        #model.add(keras.layers.Dense(32))\n",
    "        #model.add(keras.layers.Activation('sigmoid'))\n",
    "        #model.add(Dropout(self.cfg.get('dropout')))\n",
    "        #model.add(keras.layers.Dense(16))\n",
    "        #model.add(keras.layers.Activation('sigmoid'))\n",
    "        #model.add(Dropout(self.cfg.get('dropout')))\n",
    "        #model.add(keras.layers.Dense(8))\n",
    "        #model.add(keras.layers.Activation('sigmoid'))\n",
    "        #model.add(Dropout(self.cfg.get('dropout')))\n",
    "        model.add(keras.layers.Dense(1, activation='linear'))\n",
    "        #                     bias_initializer=keras.initializers.Constant(value=9000)))\n",
    "        \n",
    "        #ha = self.cfg.get('hidden_activation')\n",
    "\n",
    "        #for N_nodes in self.cfg.get('N_hidden_nodes'):\n",
    "        #        \n",
    "        #    model.add(hidden)\n",
    "        #    model.add(ha.copy())\n",
    "        #    \n",
    "        #    if self.cfg.get('dropout'):\n",
    "        #        model.add(Dropout(self.cfg.get('dropout')))#\n",
    "\n",
    "        #outputlayer = keras.layers.Dense(1, activation='linear')\n",
    "\n",
    "        #optimizer_name, options_dict = self.cfg.get('optimizer')\n",
    "        #optimizer = getattr(keras.optimizers, optimizer_name)(**options_dict)\n",
    "        #optimizer = keras.optimizers.SGD(lr=0.01)\n",
    "        rmsprop = keras.optimizers.RMSprop(lr=.1)\n",
    "        sgd = keras.optimizers.SGD(lr=0.1, decay=1e-6, momentum=0.5, nesterov=True)\n",
    "\n",
    "        model.compile(loss=self.cfg.get('loss'), \n",
    "                      optimizer=rmsprop)\n",
    "        self.model = model\n",
    "\n",
    "        self.callbacks = [keras.callbacks.EarlyStopping(monitor='loss',\n",
    "                            min_delta=1, patience=100, verbose=0, mode='auto',\n",
    "                            baseline=None, restore_best_weights=True),]\n",
    "\n",
    "    def predict(self, X):\n",
    "        return self.model.predict(X).squeeze()\n",
    "\n",
    "    def fit(self, X, y, **kwargs):\n",
    "        return self.model.fit(X, y,\n",
    "                              epochs=self.cfg.get('epochs', None),\n",
    "                              batch_size=self.cfg.get('batch_size', None),\n",
    "                              callbacks=self.callbacks,\n",
    "                              verbose=1,\n",
    "                              **kwargs)\n",
    "    \n",
    "    "
   ]
  },
  {
   "cell_type": "raw",
   "metadata": {},
   "source": []
  },
  {
   "cell_type": "code",
   "execution_count": 33,
   "metadata": {},
   "outputs": [],
   "source": [
    "\n",
    "mlp_kws = dict(optimizer=('sgd', dict(lr=1)),\n",
    "               loss='mean_squared_error',\n",
    "               #N_hidden_nodes=(4,4),\n",
    "               #hidden_activation=keras.layers.Activation('sigmoid'), #keras.layers.ReLU(), #-LeakyReLU(alpha=0.3), #'relu',\n",
    "               #output_activation='linear',\n",
    "               #bias_initializer='random_uniform',\n",
    "               batch_size=128,\n",
    "               dropout=0., #.25,\n",
    "               epochs=1000,\n",
    "              )\n",
    "\n",
    "\n",
    "linear_kws = dict(C=.1, n_jobs=-1, max_iter=10000, verbose=True)\n",
    "\n",
    "\n",
    "if False:\n",
    "    pipe = Pipeline([('scaler', StandardScaler()),\n",
    "                     ('pca', PCA(n_components=4)),\n",
    "                     ('model', LinearRegression(**linear_kws)),],\n",
    "                    verbose=True)\n",
    "if True:\n",
    "    pipe = Pipeline([#('scaler', StandardScaler()),\n",
    "                     #('pca', PCA(n_components=2)),\n",
    "                     ('model', KerasDenseNN(**mlp_kws)),],\n",
    "                    verbose=False)\n",
    "    "
   ]
  },
  {
   "cell_type": "code",
   "execution_count": 34,
   "metadata": {
    "scrolled": true
   },
   "outputs": [
    {
     "data": {
      "text/plain": [
       "Pipeline(memory=None,\n",
       "         steps=[('model', <__main__.KerasDenseNN object at 0x7f206da483c8>)],\n",
       "         verbose=False)"
      ]
     },
     "execution_count": 34,
     "metadata": {},
     "output_type": "execute_result"
    }
   ],
   "source": [
    "pipe"
   ]
  },
  {
   "cell_type": "code",
   "execution_count": 35,
   "metadata": {},
   "outputs": [
    {
     "data": {
      "text/plain": [
       "numpy.ndarray"
      ]
     },
     "execution_count": 35,
     "metadata": {},
     "output_type": "execute_result"
    }
   ],
   "source": [
    "type(Xda)"
   ]
  },
  {
   "cell_type": "code",
   "execution_count": 36,
   "metadata": {},
   "outputs": [
    {
     "name": "stdout",
     "output_type": "stream",
     "text": [
      "Epoch 1/1000\n",
      "1092/1092 [==============================] - 0s 31us/step - loss: 147108337.1722\n",
      "Epoch 2/1000\n",
      "1092/1092 [==============================] - 0s 11us/step - loss: 98884458.0806\n",
      "Epoch 3/1000\n",
      "1092/1092 [==============================] - 0s 11us/step - loss: 57823935.6630\n",
      "Epoch 4/1000\n",
      "1092/1092 [==============================] - 0s 10us/step - loss: 42240299.8535\n",
      "Epoch 5/1000\n",
      "1092/1092 [==============================] - 0s 10us/step - loss: 32537950.1538\n",
      "Epoch 6/1000\n",
      "1092/1092 [==============================] - 0s 11us/step - loss: 13889310.7363\n",
      "Epoch 7/1000\n",
      "1092/1092 [==============================] - 0s 11us/step - loss: 2492459.5826\n",
      "Epoch 8/1000\n",
      "1092/1092 [==============================] - 0s 11us/step - loss: 2238356.1287\n",
      "Epoch 9/1000\n",
      "1092/1092 [==============================] - 0s 10us/step - loss: 2575206.5096\n",
      "Epoch 10/1000\n",
      "1092/1092 [==============================] - 0s 11us/step - loss: 1045738.2692\n",
      "Epoch 11/1000\n",
      "1092/1092 [==============================] - 0s 10us/step - loss: 1964865.2092\n",
      "Epoch 12/1000\n",
      "1092/1092 [==============================] - 0s 11us/step - loss: 1621443.3827\n",
      "Epoch 13/1000\n",
      "1092/1092 [==============================] - 0s 11us/step - loss: 1529319.5604\n",
      "Epoch 14/1000\n",
      "1092/1092 [==============================] - 0s 10us/step - loss: 1469363.8388\n",
      "Epoch 15/1000\n",
      "1092/1092 [==============================] - 0s 10us/step - loss: 969190.8288\n",
      "Epoch 16/1000\n",
      "1092/1092 [==============================] - 0s 11us/step - loss: 2345368.6332\n",
      "Epoch 17/1000\n",
      "1092/1092 [==============================] - 0s 10us/step - loss: 1863851.6227\n",
      "Epoch 18/1000\n",
      "1092/1092 [==============================] - 0s 10us/step - loss: 1573361.3617\n",
      "Epoch 19/1000\n",
      "1092/1092 [==============================] - 0s 10us/step - loss: 1684376.9467\n",
      "Epoch 20/1000\n",
      "1092/1092 [==============================] - 0s 30us/step - loss: 1954720.0247\n",
      "Epoch 21/1000\n",
      "1092/1092 [==============================] - 0s 25us/step - loss: 1887948.8507\n",
      "Epoch 22/1000\n",
      "1092/1092 [==============================] - 0s 24us/step - loss: 1285702.0169\n",
      "Epoch 23/1000\n",
      "1092/1092 [==============================] - 0s 24us/step - loss: 1972427.4029\n",
      "Epoch 24/1000\n",
      "1092/1092 [==============================] - 0s 24us/step - loss: 883854.2129\n",
      "Epoch 25/1000\n",
      "1092/1092 [==============================] - 0s 23us/step - loss: 1145842.6783\n",
      "Epoch 26/1000\n",
      "1092/1092 [==============================] - 0s 24us/step - loss: 2468550.5824\n",
      "Epoch 27/1000\n",
      "1092/1092 [==============================] - 0s 23us/step - loss: 1196896.3546\n",
      "Epoch 28/1000\n",
      "1092/1092 [==============================] - 0s 24us/step - loss: 2554378.4255\n",
      "Epoch 29/1000\n",
      "1092/1092 [==============================] - 0s 23us/step - loss: 655721.6425\n",
      "Epoch 30/1000\n",
      "1092/1092 [==============================] - 0s 23us/step - loss: 1495985.2537\n",
      "Epoch 31/1000\n",
      "1092/1092 [==============================] - 0s 23us/step - loss: 888997.6099\n",
      "Epoch 32/1000\n",
      "1092/1092 [==============================] - 0s 25us/step - loss: 1073925.6758\n",
      "Epoch 33/1000\n",
      "1092/1092 [==============================] - 0s 23us/step - loss: 3231588.9366\n",
      "Epoch 34/1000\n",
      "1092/1092 [==============================] - 0s 23us/step - loss: 1706995.1310\n",
      "Epoch 35/1000\n",
      "1092/1092 [==============================] - 0s 24us/step - loss: 1281869.1043\n",
      "Epoch 36/1000\n",
      "1092/1092 [==============================] - 0s 23us/step - loss: 1339405.4263\n",
      "Epoch 37/1000\n",
      "1092/1092 [==============================] - 0s 23us/step - loss: 635801.8938\n",
      "Epoch 38/1000\n",
      "1092/1092 [==============================] - 0s 20us/step - loss: 1537394.3045\n",
      "Epoch 39/1000\n",
      "1092/1092 [==============================] - 0s 20us/step - loss: 1851414.0513\n",
      "Epoch 40/1000\n",
      "1092/1092 [==============================] - 0s 20us/step - loss: 2760783.1640\n",
      "Epoch 41/1000\n",
      "1092/1092 [==============================] - ETA: 0s - loss: 2300830.500 - 0s 20us/step - loss: 960321.4389\n",
      "Epoch 42/1000\n",
      "1092/1092 [==============================] - 0s 20us/step - loss: 2040000.4780\n",
      "Epoch 43/1000\n",
      "1092/1092 [==============================] - 0s 21us/step - loss: 1872651.0723\n",
      "Epoch 44/1000\n",
      "1092/1092 [==============================] - 0s 19us/step - loss: 1312658.1179\n",
      "Epoch 45/1000\n",
      "1092/1092 [==============================] - 0s 20us/step - loss: 1604310.6987\n",
      "Epoch 46/1000\n",
      "1092/1092 [==============================] - 0s 20us/step - loss: 1663774.7930\n",
      "Epoch 47/1000\n",
      "1092/1092 [==============================] - 0s 20us/step - loss: 1935346.6951\n",
      "Epoch 48/1000\n",
      "1092/1092 [==============================] - 0s 20us/step - loss: 673584.7623\n",
      "Epoch 49/1000\n",
      "1092/1092 [==============================] - 0s 20us/step - loss: 1232310.5454\n",
      "Epoch 50/1000\n",
      "1092/1092 [==============================] - 0s 20us/step - loss: 853858.4538\n",
      "Epoch 51/1000\n",
      "1092/1092 [==============================] - 0s 20us/step - loss: 1497133.7692\n",
      "Epoch 52/1000\n",
      "1092/1092 [==============================] - 0s 22us/step - loss: 1310030.1137\n",
      "Epoch 53/1000\n",
      "1092/1092 [==============================] - 0s 22us/step - loss: 966211.5913\n",
      "Epoch 54/1000\n",
      "1092/1092 [==============================] - 0s 20us/step - loss: 1525897.0888\n",
      "Epoch 55/1000\n",
      "1092/1092 [==============================] - 0s 20us/step - loss: 769696.2857\n",
      "Epoch 56/1000\n",
      "1092/1092 [==============================] - 0s 19us/step - loss: 1895430.1552\n",
      "Epoch 57/1000\n",
      "1092/1092 [==============================] - 0s 20us/step - loss: 908855.1589\n",
      "Epoch 58/1000\n",
      "1092/1092 [==============================] - 0s 20us/step - loss: 1094926.5165\n",
      "Epoch 59/1000\n",
      "1092/1092 [==============================] - 0s 15us/step - loss: 1386295.3093\n",
      "Epoch 60/1000\n",
      "1092/1092 [==============================] - 0s 8us/step - loss: 891294.5952\n",
      "Epoch 61/1000\n",
      "1092/1092 [==============================] - 0s 8us/step - loss: 2953278.9704\n",
      "Epoch 62/1000\n",
      "1092/1092 [==============================] - 0s 8us/step - loss: 421619.2743\n",
      "Epoch 63/1000\n",
      "1092/1092 [==============================] - 0s 8us/step - loss: 1572750.9931\n",
      "Epoch 64/1000\n",
      "1092/1092 [==============================] - 0s 9us/step - loss: 1265436.9057\n",
      "Epoch 65/1000\n",
      "1092/1092 [==============================] - 0s 9us/step - loss: 882109.0788\n",
      "Epoch 66/1000\n",
      "1092/1092 [==============================] - 0s 8us/step - loss: 2915363.3214\n",
      "Epoch 67/1000\n",
      "1092/1092 [==============================] - 0s 8us/step - loss: 1262778.8004\n",
      "Epoch 68/1000\n",
      "1092/1092 [==============================] - 0s 8us/step - loss: 1254618.8814\n",
      "Epoch 69/1000\n",
      "1092/1092 [==============================] - 0s 8us/step - loss: 617037.7729\n",
      "Epoch 70/1000\n",
      "1092/1092 [==============================] - 0s 8us/step - loss: 1417228.3070\n",
      "Epoch 71/1000\n",
      "1092/1092 [==============================] - 0s 8us/step - loss: 2158225.1126\n",
      "Epoch 72/1000\n",
      "1092/1092 [==============================] - 0s 8us/step - loss: 711056.8342\n",
      "Epoch 73/1000\n",
      "1092/1092 [==============================] - 0s 8us/step - loss: 632042.6360\n",
      "Epoch 74/1000\n",
      "1092/1092 [==============================] - 0s 8us/step - loss: 1597368.7344\n",
      "Epoch 75/1000\n",
      "1092/1092 [==============================] - 0s 8us/step - loss: 2088814.7711\n",
      "Epoch 76/1000\n",
      "1092/1092 [==============================] - 0s 8us/step - loss: 1357366.7399\n",
      "Epoch 77/1000\n",
      "1092/1092 [==============================] - 0s 8us/step - loss: 736890.3887\n",
      "Epoch 78/1000\n",
      "1092/1092 [==============================] - 0s 8us/step - loss: 1617040.2015\n",
      "Epoch 79/1000\n",
      "1092/1092 [==============================] - 0s 8us/step - loss: 664350.7605\n",
      "Epoch 80/1000\n",
      "1092/1092 [==============================] - 0s 8us/step - loss: 2083063.0559\n",
      "Epoch 81/1000\n",
      "1092/1092 [==============================] - 0s 8us/step - loss: 1267680.1849\n",
      "Epoch 82/1000\n",
      "1092/1092 [==============================] - 0s 8us/step - loss: 743603.5767\n",
      "Epoch 83/1000\n",
      "1092/1092 [==============================] - 0s 8us/step - loss: 1711262.7406\n",
      "Epoch 84/1000\n",
      "1092/1092 [==============================] - 0s 9us/step - loss: 1345764.5659\n",
      "Epoch 85/1000\n",
      "1092/1092 [==============================] - 0s 8us/step - loss: 1098392.7912\n",
      "Epoch 86/1000\n",
      "1092/1092 [==============================] - 0s 8us/step - loss: 1234459.8104\n",
      "Epoch 87/1000\n",
      "1092/1092 [==============================] - 0s 8us/step - loss: 931868.8546\n",
      "Epoch 88/1000\n",
      "1092/1092 [==============================] - 0s 8us/step - loss: 2154888.9821\n",
      "Epoch 89/1000\n",
      "1092/1092 [==============================] - 0s 8us/step - loss: 2198916.1223\n",
      "Epoch 90/1000\n",
      "1092/1092 [==============================] - 0s 8us/step - loss: 1015117.4267\n",
      "Epoch 91/1000\n",
      "1092/1092 [==============================] - 0s 9us/step - loss: 1580968.0780\n",
      "Epoch 92/1000\n",
      "1092/1092 [==============================] - 0s 9us/step - loss: 960775.3571\n",
      "Epoch 93/1000\n",
      "1092/1092 [==============================] - 0s 9us/step - loss: 1037363.5238\n",
      "Epoch 94/1000\n",
      "1092/1092 [==============================] - 0s 9us/step - loss: 1664244.9076\n",
      "Epoch 95/1000\n",
      "1092/1092 [==============================] - 0s 9us/step - loss: 671438.3370\n",
      "Epoch 96/1000\n",
      "1092/1092 [==============================] - 0s 9us/step - loss: 969627.7816\n",
      "Epoch 97/1000\n",
      "1092/1092 [==============================] - 0s 9us/step - loss: 1346177.4616\n",
      "Epoch 98/1000\n",
      "1092/1092 [==============================] - 0s 9us/step - loss: 535822.1758\n",
      "Epoch 99/1000\n",
      "1092/1092 [==============================] - 0s 9us/step - loss: 1709169.7033\n",
      "Epoch 100/1000\n",
      "1092/1092 [==============================] - 0s 9us/step - loss: 1617759.1777\n",
      "Epoch 101/1000\n",
      "1092/1092 [==============================] - 0s 9us/step - loss: 1119732.2969\n",
      "Epoch 102/1000\n",
      "1092/1092 [==============================] - 0s 9us/step - loss: 1700306.7041\n",
      "Epoch 103/1000\n",
      "1092/1092 [==============================] - 0s 9us/step - loss: 2192669.8638\n",
      "Epoch 104/1000\n",
      "1092/1092 [==============================] - 0s 8us/step - loss: 1944075.1456\n",
      "Epoch 105/1000\n",
      "1092/1092 [==============================] - 0s 8us/step - loss: 669500.1960\n",
      "Epoch 106/1000\n",
      "1092/1092 [==============================] - 0s 8us/step - loss: 1605369.8139\n",
      "Epoch 107/1000\n",
      "1092/1092 [==============================] - 0s 9us/step - loss: 815977.0468\n",
      "Epoch 108/1000\n",
      "1092/1092 [==============================] - 0s 9us/step - loss: 1768339.7249\n",
      "Epoch 109/1000\n",
      "1092/1092 [==============================] - 0s 9us/step - loss: 580358.8984\n",
      "Epoch 110/1000\n",
      "1092/1092 [==============================] - 0s 9us/step - loss: 2897614.8165\n",
      "Epoch 111/1000\n",
      "1092/1092 [==============================] - 0s 9us/step - loss: 1588206.3736\n",
      "Epoch 112/1000\n",
      "1092/1092 [==============================] - 0s 9us/step - loss: 1471821.7244\n",
      "Epoch 113/1000\n",
      "1092/1092 [==============================] - 0s 9us/step - loss: 1605303.2125\n",
      "Epoch 114/1000\n",
      "1092/1092 [==============================] - 0s 9us/step - loss: 941206.0330\n",
      "Epoch 115/1000\n",
      "1092/1092 [==============================] - 0s 9us/step - loss: 1092579.8290\n",
      "Epoch 116/1000\n",
      "1092/1092 [==============================] - 0s 8us/step - loss: 522538.1465\n",
      "Epoch 117/1000\n",
      "1092/1092 [==============================] - 0s 8us/step - loss: 1062286.6300\n",
      "Epoch 118/1000\n",
      "1092/1092 [==============================] - 0s 8us/step - loss: 1888852.2225\n",
      "Epoch 119/1000\n",
      "1092/1092 [==============================] - 0s 8us/step - loss: 904613.4235\n",
      "Epoch 120/1000\n",
      "1092/1092 [==============================] - 0s 8us/step - loss: 1333649.7486\n",
      "Epoch 121/1000\n",
      "1092/1092 [==============================] - 0s 8us/step - loss: 1250680.2353\n",
      "Epoch 122/1000\n",
      "1092/1092 [==============================] - 0s 8us/step - loss: 2598559.6960\n",
      "Epoch 123/1000\n",
      "1092/1092 [==============================] - 0s 8us/step - loss: 604351.6882\n",
      "Epoch 124/1000\n",
      "1092/1092 [==============================] - 0s 8us/step - loss: 391165.2582\n",
      "Epoch 125/1000\n",
      "1092/1092 [==============================] - 0s 8us/step - loss: 1449830.0430\n",
      "Epoch 126/1000\n",
      "1092/1092 [==============================] - 0s 8us/step - loss: 962163.2399\n",
      "Epoch 127/1000\n",
      "1092/1092 [==============================] - 0s 8us/step - loss: 1288846.9174\n",
      "Epoch 128/1000\n",
      "1092/1092 [==============================] - 0s 8us/step - loss: 1560127.8100\n",
      "Epoch 129/1000\n",
      "1092/1092 [==============================] - 0s 8us/step - loss: 1423517.2766\n",
      "Epoch 130/1000\n",
      "1092/1092 [==============================] - 0s 8us/step - loss: 574664.0433\n",
      "Epoch 131/1000\n",
      "1092/1092 [==============================] - 0s 8us/step - loss: 913922.1717\n",
      "Epoch 132/1000\n",
      "1092/1092 [==============================] - 0s 8us/step - loss: 918700.3901\n",
      "Epoch 133/1000\n",
      "1092/1092 [==============================] - 0s 8us/step - loss: 1449172.9251\n",
      "Epoch 134/1000\n",
      "1092/1092 [==============================] - 0s 8us/step - loss: 2633424.1706\n",
      "Epoch 135/1000\n",
      "1092/1092 [==============================] - 0s 8us/step - loss: 1415947.4499\n",
      "Epoch 136/1000\n",
      "1092/1092 [==============================] - 0s 8us/step - loss: 920566.1987\n",
      "Epoch 137/1000\n",
      "1092/1092 [==============================] - 0s 8us/step - loss: 1443943.7300\n",
      "Epoch 138/1000\n",
      "1092/1092 [==============================] - 0s 8us/step - loss: 1530255.0082\n",
      "Epoch 139/1000\n",
      "1092/1092 [==============================] - 0s 8us/step - loss: 914374.2335\n",
      "Epoch 140/1000\n",
      "1092/1092 [==============================] - 0s 8us/step - loss: 1616889.7396\n",
      "Epoch 141/1000\n",
      "1092/1092 [==============================] - 0s 8us/step - loss: 1007280.4103\n",
      "Epoch 142/1000\n",
      "1092/1092 [==============================] - 0s 8us/step - loss: 754217.9171\n",
      "Epoch 143/1000\n",
      "1092/1092 [==============================] - 0s 8us/step - loss: 2177482.9136\n",
      "Epoch 144/1000\n",
      "1092/1092 [==============================] - 0s 8us/step - loss: 487453.1108\n",
      "Epoch 145/1000\n",
      "1092/1092 [==============================] - 0s 8us/step - loss: 2195065.4961\n",
      "Epoch 146/1000\n",
      "1092/1092 [==============================] - 0s 8us/step - loss: 972740.4006\n",
      "Epoch 147/1000\n",
      "1092/1092 [==============================] - 0s 8us/step - loss: 1173520.7426\n",
      "Epoch 148/1000\n",
      "1092/1092 [==============================] - 0s 8us/step - loss: 1378559.2134\n",
      "Epoch 149/1000\n",
      "1092/1092 [==============================] - 0s 8us/step - loss: 815925.1355\n",
      "Epoch 150/1000\n",
      "1092/1092 [==============================] - 0s 8us/step - loss: 1841324.5897\n",
      "Epoch 151/1000\n",
      "1092/1092 [==============================] - 0s 8us/step - loss: 1441493.5440\n",
      "Epoch 152/1000\n",
      "1092/1092 [==============================] - 0s 8us/step - loss: 833968.6891\n",
      "Epoch 153/1000\n",
      "1092/1092 [==============================] - 0s 8us/step - loss: 1478599.4776\n",
      "Epoch 154/1000\n",
      "1092/1092 [==============================] - 0s 8us/step - loss: 1188098.7050\n",
      "Epoch 155/1000\n",
      "1092/1092 [==============================] - 0s 8us/step - loss: 1446126.8831\n",
      "Epoch 156/1000\n",
      "1092/1092 [==============================] - 0s 8us/step - loss: 2065039.7838\n",
      "Epoch 157/1000\n",
      "1092/1092 [==============================] - 0s 8us/step - loss: 1229622.9029\n",
      "Epoch 158/1000\n",
      "1092/1092 [==============================] - 0s 8us/step - loss: 1040743.9840\n",
      "Epoch 159/1000\n",
      "1092/1092 [==============================] - 0s 8us/step - loss: 1229645.0087\n",
      "Epoch 160/1000\n",
      "1092/1092 [==============================] - 0s 8us/step - loss: 1123794.7967\n",
      "Epoch 161/1000\n",
      "1092/1092 [==============================] - 0s 8us/step - loss: 1053210.7647\n",
      "Epoch 162/1000\n",
      "1092/1092 [==============================] - 0s 8us/step - loss: 1474068.9606\n",
      "Epoch 163/1000\n",
      "1092/1092 [==============================] - 0s 8us/step - loss: 1140966.8930\n",
      "Epoch 164/1000\n",
      "1092/1092 [==============================] - 0s 8us/step - loss: 451019.5556\n",
      "Epoch 165/1000\n",
      "1092/1092 [==============================] - 0s 8us/step - loss: 2274306.5238\n",
      "Epoch 166/1000\n",
      "1092/1092 [==============================] - 0s 8us/step - loss: 742654.9580\n",
      "Epoch 167/1000\n",
      "1092/1092 [==============================] - 0s 8us/step - loss: 480604.3109\n",
      "Epoch 168/1000\n",
      "1092/1092 [==============================] - 0s 8us/step - loss: 1816129.5171\n",
      "Epoch 169/1000\n",
      "1092/1092 [==============================] - 0s 8us/step - loss: 404245.4389\n",
      "Epoch 170/1000\n",
      "1092/1092 [==============================] - 0s 8us/step - loss: 1468556.0065\n",
      "Epoch 171/1000\n",
      "1092/1092 [==============================] - 0s 8us/step - loss: 796304.2839\n",
      "Epoch 172/1000\n",
      "1092/1092 [==============================] - 0s 8us/step - loss: 738436.7280\n",
      "Epoch 173/1000\n",
      "1092/1092 [==============================] - 0s 8us/step - loss: 864568.1131\n",
      "Epoch 174/1000\n",
      "1092/1092 [==============================] - 0s 8us/step - loss: 2001063.1548\n",
      "Epoch 175/1000\n",
      "1092/1092 [==============================] - 0s 8us/step - loss: 1049398.1360\n",
      "Epoch 176/1000\n",
      "1092/1092 [==============================] - 0s 8us/step - loss: 1521096.1690\n",
      "Epoch 177/1000\n"
     ]
    },
    {
     "name": "stdout",
     "output_type": "stream",
     "text": [
      "1092/1092 [==============================] - 0s 9us/step - loss: 729280.3581\n",
      "Epoch 178/1000\n",
      "1092/1092 [==============================] - 0s 8us/step - loss: 1528655.4748\n",
      "Epoch 179/1000\n",
      "1092/1092 [==============================] - 0s 8us/step - loss: 968060.6536\n",
      "Epoch 180/1000\n",
      "1092/1092 [==============================] - 0s 8us/step - loss: 749848.0009\n",
      "Epoch 181/1000\n",
      "1092/1092 [==============================] - 0s 8us/step - loss: 1343951.4455\n",
      "Epoch 182/1000\n",
      "1092/1092 [==============================] - 0s 8us/step - loss: 1562069.0432\n",
      "Epoch 183/1000\n",
      "1092/1092 [==============================] - 0s 8us/step - loss: 731810.0897\n",
      "Epoch 184/1000\n",
      "1092/1092 [==============================] - 0s 8us/step - loss: 1248269.3787\n",
      "Epoch 185/1000\n",
      "1092/1092 [==============================] - 0s 8us/step - loss: 1174315.1648\n",
      "Epoch 186/1000\n",
      "1092/1092 [==============================] - 0s 8us/step - loss: 2725048.0126\n",
      "Epoch 187/1000\n",
      "1092/1092 [==============================] - 0s 8us/step - loss: 465176.6200\n",
      "Epoch 188/1000\n",
      "1092/1092 [==============================] - 0s 9us/step - loss: 1035800.5607\n",
      "Epoch 189/1000\n",
      "1092/1092 [==============================] - 0s 8us/step - loss: 1264433.4579\n",
      "Epoch 190/1000\n",
      "1092/1092 [==============================] - 0s 8us/step - loss: 1068892.8462\n",
      "Epoch 191/1000\n",
      "1092/1092 [==============================] - 0s 8us/step - loss: 575834.9960\n",
      "Epoch 192/1000\n",
      "1092/1092 [==============================] - 0s 8us/step - loss: 2006309.7070\n",
      "Epoch 193/1000\n",
      "1092/1092 [==============================] - 0s 8us/step - loss: 621117.7880\n",
      "Epoch 194/1000\n",
      "1092/1092 [==============================] - 0s 8us/step - loss: 923695.6273\n",
      "Epoch 195/1000\n",
      "1092/1092 [==============================] - 0s 8us/step - loss: 1968519.1937\n",
      "Epoch 196/1000\n",
      "1092/1092 [==============================] - 0s 8us/step - loss: 739042.7683\n",
      "Epoch 197/1000\n",
      "1092/1092 [==============================] - 0s 8us/step - loss: 1795324.9022\n",
      "Epoch 198/1000\n",
      "1092/1092 [==============================] - 0s 8us/step - loss: 1300883.9123\n",
      "Epoch 199/1000\n",
      "1092/1092 [==============================] - 0s 9us/step - loss: 1304269.0101\n",
      "Epoch 200/1000\n",
      "1092/1092 [==============================] - 0s 9us/step - loss: 440240.1380\n",
      "Epoch 201/1000\n",
      "1092/1092 [==============================] - 0s 8us/step - loss: 512207.4392\n",
      "Epoch 202/1000\n",
      "1092/1092 [==============================] - 0s 8us/step - loss: 1586805.8205\n",
      "Epoch 203/1000\n",
      "1092/1092 [==============================] - 0s 8us/step - loss: 2230236.0069\n",
      "Epoch 204/1000\n",
      "1092/1092 [==============================] - 0s 9us/step - loss: 1377199.0145\n",
      "Epoch 205/1000\n",
      "1092/1092 [==============================] - 0s 8us/step - loss: 2077326.6039\n",
      "Epoch 206/1000\n",
      "1092/1092 [==============================] - 0s 8us/step - loss: 1416170.8883\n",
      "Epoch 207/1000\n",
      "1092/1092 [==============================] - 0s 8us/step - loss: 1338271.5147\n",
      "Epoch 208/1000\n",
      "1092/1092 [==============================] - 0s 8us/step - loss: 765969.4519\n",
      "Epoch 209/1000\n",
      "1092/1092 [==============================] - 0s 8us/step - loss: 981408.4730\n",
      "Epoch 210/1000\n",
      "1092/1092 [==============================] - 0s 8us/step - loss: 1759664.1662\n",
      "Epoch 211/1000\n",
      "1092/1092 [==============================] - 0s 8us/step - loss: 1446318.2683\n",
      "Epoch 212/1000\n",
      "1092/1092 [==============================] - 0s 8us/step - loss: 2057513.8223\n",
      "Epoch 213/1000\n",
      "1092/1092 [==============================] - 0s 8us/step - loss: 1063372.6960\n",
      "Epoch 214/1000\n",
      "1092/1092 [==============================] - 0s 8us/step - loss: 1417617.2589\n",
      "Epoch 215/1000\n",
      "1092/1092 [==============================] - 0s 8us/step - loss: 1442585.9290\n",
      "Epoch 216/1000\n",
      "1092/1092 [==============================] - 0s 8us/step - loss: 1445441.3755\n",
      "Epoch 217/1000\n",
      "1092/1092 [==============================] - 0s 8us/step - loss: 864597.7731\n",
      "Epoch 218/1000\n",
      "1092/1092 [==============================] - 0s 8us/step - loss: 1387495.6941\n",
      "Epoch 219/1000\n",
      "1092/1092 [==============================] - 0s 8us/step - loss: 723206.3736\n",
      "Epoch 220/1000\n",
      "1092/1092 [==============================] - 0s 8us/step - loss: 1632631.5348\n",
      "Epoch 221/1000\n",
      "1092/1092 [==============================] - 0s 8us/step - loss: 1007336.3535\n",
      "Epoch 222/1000\n",
      "1092/1092 [==============================] - 0s 8us/step - loss: 1585524.1099\n",
      "Epoch 223/1000\n",
      "1092/1092 [==============================] - 0s 8us/step - loss: 444548.2450\n",
      "Epoch 224/1000\n",
      "1092/1092 [==============================] - 0s 8us/step - loss: 1832611.3182\n"
     ]
    }
   ],
   "source": [
    "history = pipe.fit(Xda, yda)"
   ]
  },
  {
   "cell_type": "code",
   "execution_count": 37,
   "metadata": {
    "scrolled": true
   },
   "outputs": [
    {
     "name": "stdout",
     "output_type": "stream",
     "text": [
      "_________________________________________________________________\n",
      "Layer (type)                 Output Shape              Param #   \n",
      "=================================================================\n",
      "batch_normalization_1 (Batch (None, 78)                312       \n",
      "_________________________________________________________________\n",
      "dense_1 (Dense)              (None, 8)                 632       \n",
      "_________________________________________________________________\n",
      "dense_2 (Dense)              (None, 1)                 9         \n",
      "=================================================================\n",
      "Total params: 953\n",
      "Trainable params: 797\n",
      "Non-trainable params: 156\n",
      "_________________________________________________________________\n"
     ]
    }
   ],
   "source": [
    "keras.utils.print_summary(pipe.named_steps['model'].model)"
   ]
  },
  {
   "cell_type": "code",
   "execution_count": 38,
   "metadata": {},
   "outputs": [
    {
     "data": {
      "image/png": "[encoded data removed]",
      "text/plain": [
       "<Figure size 432x288 with 1 Axes>"
      ]
     },
     "metadata": {
      "needs_background": "light"
     },
     "output_type": "display_data"
    }
   ],
   "source": [
    "h = history.named_steps['model'].model.history\n",
    "\n",
    "# Plot training & validation loss values\n",
    "plt.plot(h.history['loss'])\n",
    "#plt.plot(h.history['val_loss'])\n",
    "plt.title('Model loss')\n",
    "plt.ylabel('Loss')\n",
    "plt.xlabel('Epoch')\n",
    "plt.legend(['Train', 'Test'], loc='upper left')\n",
    "plt.gca().set_yscale('log')\n",
    "plt.show()"
   ]
  },
  {
   "cell_type": "markdown",
   "metadata": {},
   "source": [
    "# Test it on the same data"
   ]
  },
  {
   "cell_type": "code",
   "execution_count": null,
   "metadata": {},
   "outputs": [],
   "source": []
  },
  {
   "cell_type": "code",
   "execution_count": 39,
   "metadata": {},
   "outputs": [],
   "source": [
    "def add_time(vector, time, name=None):\n",
    "    \"\"\"Converts arrays to xarrays with a time coordinate.\"\"\"\n",
    "    return xr.DataArray(vector, dims=('time'), coords={'time': time}, name=name)"
   ]
  },
  {
   "cell_type": "code",
   "execution_count": 40,
   "metadata": {},
   "outputs": [],
   "source": [
    "with ProgressBar():\n",
    "    ytest = pipe.predict(Xda)"
   ]
  },
  {
   "cell_type": "code",
   "execution_count": 41,
   "metadata": {},
   "outputs": [
    {
     "data": {
      "text/plain": [
       "(1092,)"
      ]
     },
     "execution_count": 41,
     "metadata": {},
     "output_type": "execute_result"
    }
   ],
   "source": [
    "ytest.shape"
   ]
  },
  {
   "cell_type": "code",
   "execution_count": 42,
   "metadata": {},
   "outputs": [
    {
     "data": {
      "text/plain": [
       "array([ 5237.2803,  5218.1343,  5200.064 , ..., 12453.188 , 12369.984 ,\n",
       "       12331.721 ], dtype=float32)"
      ]
     },
     "execution_count": 42,
     "metadata": {},
     "output_type": "execute_result"
    }
   ],
   "source": [
    "ytest = add_time(ytest, time, name='dis-forecast')\n",
    "ytest_dis = ytest #.cumsum('time')\n",
    "ytest_dis.values\n",
    "#ytest_dis += y[0]  # initial state + changes = timeseries of forecasted discharge"
   ]
  },
  {
   "cell_type": "code",
   "execution_count": 43,
   "metadata": {
    "scrolled": false
   },
   "outputs": [
    {
     "data": {
      "text/plain": [
       "<matplotlib.legend.Legend at 0x7f205da61550>"
      ]
     },
     "execution_count": 43,
     "metadata": {},
     "output_type": "execute_result"
    },
    {
     "data": {
      "image/png": "[encoded data removed]",
      "text/plain": [
       "<Figure size 1728x360 with 1 Axes>"
      ]
     },
     "metadata": {
      "needs_background": "light"
     },
     "output_type": "display_data"
    }
   ],
   "source": [
    "fig, ax = plt.subplots(figsize=(24,5))\n",
    "#for p in range(Xda.shape[1]):\n",
    "    #print(p)\n",
    "    #print(Xda[:,p])\n",
    "minpred = add_time(Xda.min(axis=1), time)\n",
    "maxpred = add_time(Xda.max(axis=1), time)\n",
    "\n",
    "minpred.plot(ax=ax, linestyle='--', label='predictor-min')\n",
    "maxpred.plot(ax=ax, linestyle='--', label='predictor-max')\n",
    "\n",
    "\n",
    "obs = dis[:,i,j].to_pandas()\n",
    "fcst = ytest_dis.to_pandas()\n",
    "obs.plot(ax=ax, label='dis-reanalysis')\n",
    "fcst.plot(ax=ax, label='dis-forecast')\n",
    "plt.legend()\n",
    "#plt.gca().set_xlim(dt.datetime(1981,1,1), dt.datetime(1982,1,1)) "
   ]
  },
  {
   "cell_type": "code",
   "execution_count": 44,
   "metadata": {},
   "outputs": [
    {
     "data": {
      "text/plain": [
       "<matplotlib.axes._subplots.AxesSubplot at 0x7f20534c7ac8>"
      ]
     },
     "execution_count": 44,
     "metadata": {},
     "output_type": "execute_result"
    },
    {
     "data": {
      "image/png": "[encoded data removed]",
      "text/plain": [
       "<Figure size 432x288 with 1 Axes>"
      ]
     },
     "metadata": {
      "needs_background": "light"
     },
     "output_type": "display_data"
    }
   ],
   "source": [
    "((fcst-obs)/obs*100).plot()"
   ]
  },
  {
   "cell_type": "code",
   "execution_count": 45,
   "metadata": {},
   "outputs": [
    {
     "data": {
      "text/plain": [
       "[<matplotlib.lines.Line2D at 0x7f206d324d68>]"
      ]
     },
     "execution_count": 45,
     "metadata": {},
     "output_type": "execute_result"
    },
    {
     "data": {
      "image/png": "[encoded data removed]",
      "text/plain": [
       "<Figure size 432x288 with 1 Axes>"
      ]
     },
     "metadata": {
      "needs_background": "light"
     },
     "output_type": "display_data"
    }
   ],
   "source": [
    "y = add_time(yda.squeeze(), time)\n",
    "((maxpred-y)/y*100).plot()"
   ]
  },
  {
   "cell_type": "code",
   "execution_count": null,
   "metadata": {},
   "outputs": [],
   "source": [
    "    "
   ]
  },
  {
   "cell_type": "code",
   "execution_count": 46,
   "metadata": {},
   "outputs": [],
   "source": [
    "s = pipe.named_steps['model'].model.to_json()\n",
    "import json\n",
    "with open('flowmodel.json', 'w') as f:\n",
    "    json.dump(s, f, indent=4)"
   ]
  },
  {
   "cell_type": "code",
   "execution_count": null,
   "metadata": {},
   "outputs": [],
   "source": []
  },
  {
   "cell_type": "code",
   "execution_count": null,
   "metadata": {},
   "outputs": [],
   "source": []
  },
  {
   "cell_type": "code",
   "execution_count": null,
   "metadata": {},
   "outputs": [],
   "source": []
  },
  {
   "cell_type": "code",
   "execution_count": null,
   "metadata": {},
   "outputs": [],
   "source": []
  },
  {
   "cell_type": "code",
   "execution_count": null,
   "metadata": {},
   "outputs": [],
   "source": []
  },
  {
   "cell_type": "code",
   "execution_count": null,
   "metadata": {},
   "outputs": [],
   "source": []
  },
  {
   "cell_type": "code",
   "execution_count": null,
   "metadata": {},
   "outputs": [],
   "source": []
  },
  {
   "cell_type": "code",
   "execution_count": null,
   "metadata": {},
   "outputs": [],
   "source": []
  },
  {
   "cell_type": "code",
   "execution_count": null,
   "metadata": {},
   "outputs": [],
   "source": []
  },
  {
   "cell_type": "code",
   "execution_count": null,
   "metadata": {},
   "outputs": [],
   "source": []
  },
  {
   "cell_type": "code",
   "execution_count": null,
   "metadata": {},
   "outputs": [],
   "source": []
  },
  {
   "cell_type": "code",
   "execution_count": null,
   "metadata": {},
   "outputs": [],
   "source": []
  },
  {
   "cell_type": "code",
   "execution_count": null,
   "metadata": {},
   "outputs": [],
   "source": []
  },
  {
   "cell_type": "code",
   "execution_count": null,
   "metadata": {},
   "outputs": [],
   "source": []
  }
 ],
 "metadata": {
  "kernelspec": {
   "display_name": "Python 3",
   "language": "python",
   "name": "python3"
  },
  "language_info": {
   "codemirror_mode": {
    "name": "ipython",
    "version": 3
   },
   "file_extension": ".py",
   "mimetype": "text/x-python",
   "name": "python",
   "nbconvert_exporter": "python",
   "pygments_lexer": "ipython3",
   "version": "3.7.3"
  }
 },
 "nbformat": 4,
 "nbformat_minor": 2
}
