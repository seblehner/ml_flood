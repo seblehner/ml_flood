{
 "cells": [
  {
   "cell_type": "code",
   "execution_count": 29,
   "metadata": {},
   "outputs": [],
   "source": [
    "import os, warnings\n",
    "import numpy as np\n",
    "import datetime as dt\n",
    "import matplotlib.pyplot as plt\n",
    "import pandas as pd\n",
    "#from pandas.plotting import register_matplotlib_converters\n",
    "#register_matplotlib_converters()\n",
    "import seaborn as sns\n",
    "\n",
    "from sklearn.base import clone\n",
    "from sklearn.pipeline import Pipeline\n",
    "from dask_ml.preprocessing import StandardScaler\n",
    "from dask_ml.decomposition import PCA\n",
    "from joblib import dump, load\n",
    "\n",
    "import keras\n",
    "from keras.layers.core import Dropout\n",
    "from keras.models import load_model\n",
    "\n",
    "import geopandas\n",
    "from rasterio import features\n",
    "from affine import Affine\n",
    "\n",
    "import dask\n",
    "dask.config.set(scheduler='multiprocessing')\n",
    "\n",
    "import xarray as xr\n",
    "from dask.diagnostics import ProgressBar"
   ]
  },
  {
   "cell_type": "code",
   "execution_count": null,
   "metadata": {},
   "outputs": [],
   "source": []
  },
  {
   "cell_type": "code",
   "execution_count": 2,
   "metadata": {
    "scrolled": false
   },
   "outputs": [
    {
     "name": "stdout",
     "output_type": "stream",
     "text": [
      "/home/srvx11/lehre/users/a1254888/.conda/envs/ml_flood/bin/python3\n"
     ]
    }
   ],
   "source": [
    "import sys\n",
    "print(sys.executable)"
   ]
  },
  {
   "cell_type": "code",
   "execution_count": 3,
   "metadata": {},
   "outputs": [],
   "source": [
    "def sfloat(f):\n",
    "    return str(float(f))\n",
    "def sint(i):\n",
    "    return str(int(i))"
   ]
  },
  {
   "cell_type": "code",
   "execution_count": 4,
   "metadata": {},
   "outputs": [],
   "source": [
    "def read_glofas_danube():\n",
    "    glofas = xr.open_dataset('../data/danube/glofas_reanalysis_danube_1981-2002.nc')\n",
    "    glofas = glofas.rename({'lat': 'latitude', 'lon': 'longitude'})  # to have the same name like in era5\n",
    "    glofas = shift_time(glofas, -dt.timedelta(days=1))  # the discharge is the mean of the previous 24h of the timestamp\n",
    "    return glofas"
   ]
  },
  {
   "cell_type": "code",
   "execution_count": 5,
   "metadata": {
    "scrolled": true
   },
   "outputs": [],
   "source": [
    "def shift_time(ds, value):\n",
    "    ds.coords['time'].values = pd.to_datetime(ds.coords['time'].values) + value\n",
    "    return ds"
   ]
  },
  {
   "cell_type": "code",
   "execution_count": 6,
   "metadata": {},
   "outputs": [],
   "source": [
    "def select_riverpoints(dis):\n",
    "    return (dis > 10)"
   ]
  },
  {
   "cell_type": "code",
   "execution_count": 7,
   "metadata": {},
   "outputs": [],
   "source": [
    "def get_mask_of_basin(da, kw_basins='Danube'):\n",
    "    \"\"\"\n",
    "    Parameters:\n",
    "    -----------\n",
    "        da : xr.DataArray\n",
    "            contains the coordinates\n",
    "        kw_basins : str\n",
    "            identifier of the basin in the basins dataset\n",
    "    \"\"\"\n",
    "    def transform_from_latlon(lat, lon):\n",
    "        lat = np.asarray(lat)\n",
    "        lon = np.asarray(lon)\n",
    "        trans = Affine.translation(lon[0], lat[0])\n",
    "        scale = Affine.scale(lon[1] - lon[0], lat[1] - lat[0])\n",
    "        return trans * scale\n",
    "\n",
    "    def rasterize(shapes, coords, fill=np.nan, **kwargs):\n",
    "        \"\"\"Rasterize a list of (geometry, fill_value) tuples onto the given\n",
    "        xray coordinates. This only works for 1d latitude and longitude\n",
    "        arrays.\n",
    "        \"\"\"\n",
    "        transform = transform_from_latlon(coords['latitude'], coords['longitude'])\n",
    "        out_shape = (len(coords['latitude']), len(coords['longitude']))\n",
    "        raster = features.rasterize(shapes, out_shape=out_shape,\n",
    "                                    fill=fill, transform=transform,\n",
    "                                    dtype=float, **kwargs)\n",
    "        return xr.DataArray(raster, coords=coords, dims=('latitude', 'longitude'))\n",
    "    \n",
    "    # this shapefile is from natural earth data\n",
    "    # http://www.naturalearthdata.com/downloads/10m-cultural-vectors/10m-admin-1-states-provinces/\n",
    "    shp2 = '/raid/home/srvx7/lehre/users/a1303583/ipython/ml_flood/data/drainage_basins/Major_Basins_of_the_World.shp'\n",
    "    basins = geopandas.read_file(shp2)\n",
    "#    print(basins)\n",
    "    single_basin = basins.query(\"NAME == '\"+kw_basins+\"'\").reset_index(drop=True)\n",
    "#    print(single_basin)\n",
    "    shapes = [(shape, n) for n, shape in enumerate(single_basin.geometry)]\n",
    "\n",
    "    da['basins'] = rasterize(shapes, da.coords)\n",
    "    da = da.basins == 0\n",
    "    return da.drop('basins')"
   ]
  },
  {
   "cell_type": "code",
   "execution_count": 8,
   "metadata": {},
   "outputs": [],
   "source": [
    "def select_upstream(is_river, lat, lon, basin='Danube'):\n",
    "    \n",
    "    \n",
    "    # longitude condition\n",
    "    is_west = (~np.isnan(is_river.where(is_river.longitude <= lon))).astype(bool)\n",
    "    \n",
    "    mask_basin = get_mask_of_basin(is_river, kw_basins=basin)\n",
    "\n",
    "    nearby_mask = is_river*0.\n",
    "    nearby_mask.loc[dict(latitude=slice(lat+1.5, lat-1.5), \n",
    "                         longitude=slice(lon-1.5, lon+1.5))] = 1.\n",
    "    nearby_mask = nearby_mask.astype(bool)\n",
    "    \n",
    "    mask = mask_basin & nearby_mask & is_west #mask_box_mean_greater & \n",
    "    if 'basins' in mask.coords:\n",
    "        mask = mask.drop('basins')\n",
    "    if 'time' in mask.coords:\n",
    "        mask = mask.drop('time')  # time and basins dimension make no sense here\n",
    "    return mask"
   ]
  },
  {
   "cell_type": "code",
   "execution_count": null,
   "metadata": {},
   "outputs": [],
   "source": []
  },
  {
   "cell_type": "code",
   "execution_count": 9,
   "metadata": {},
   "outputs": [],
   "source": [
    "def add_shifted_predictors(ds, shifts, variables='all'):\n",
    "    \"\"\"Adds additional variables to an array which are shifted in time.\n",
    "    \n",
    "    Parameters\n",
    "    ----------\n",
    "    ds : xr.Dataset\n",
    "    shifts : list of integers\n",
    "    variables : str or list\n",
    "    \"\"\"\n",
    "    if variables == 'all': \n",
    "        variables = ds.data_vars\n",
    "        \n",
    "    for var in variables:\n",
    "        for i in shifts:\n",
    "            if i == 0: continue  # makes no sense to shift by zero\n",
    "            newvar = var+'-'+str(i)\n",
    "            ds[newvar] = ds[var].shift(time=i)\n",
    "    return ds"
   ]
  },
  {
   "cell_type": "code",
   "execution_count": 10,
   "metadata": {},
   "outputs": [],
   "source": [
    "def preprocess_reshape_flowmodel(X_dis, y_dis):\n",
    "    \"\"\"Reshape, merge predictor/predictand in time, drop nans.\"\"\"\n",
    "    X_dis = X_dis.to_array(dim='time_feature')  \n",
    "    #print('X before feature-stacking', X_dis)\n",
    "    X_dis = X_dis.stack(features=['latitude', 'longitude', 'time_feature'])\n",
    "    #print('X before featuredrop', X_dis)\n",
    "    Xar = X_dis.dropna('features', how='all')\n",
    "    \n",
    "    yar = y_dis\n",
    "    yar = yar.drop(['latitude', 'longitude'])\n",
    "    yar.coords['features'] = 'dis'\n",
    "    \n",
    "    #print('X, y before concat for time nan dropping', Xar, yar)\n",
    "    Xy = xr.concat([Xar, yar], dim='features')\n",
    "    Xyt = Xy.dropna('time', how='any')  # drop them as we cannot train on nan values\n",
    "    time = Xyt.time\n",
    "    \n",
    "    Xda = Xyt[:,:-1]\n",
    "    yda = Xyt[:,-1]\n",
    "    return Xda, yda, time"
   ]
  },
  {
   "cell_type": "code",
   "execution_count": 11,
   "metadata": {},
   "outputs": [],
   "source": [
    "from aux.floodmodels import FlowModel"
   ]
  },
  {
   "cell_type": "code",
   "execution_count": null,
   "metadata": {},
   "outputs": [],
   "source": []
  },
  {
   "cell_type": "code",
   "execution_count": 12,
   "metadata": {},
   "outputs": [],
   "source": [
    "static = xr.open_dataset('../data/danube/era5_slt_z_slor_lsm_stationary_field.nc')"
   ]
  },
  {
   "cell_type": "code",
   "execution_count": 68,
   "metadata": {},
   "outputs": [],
   "source": [
    "# era5 = xr.open_dataset('../data/usa/era5_lsp_cp_1981-2017_daysum.nc')\n",
    "# era5 = shift_time(era5, -dt.timedelta(hours=23))\n",
    "\n",
    "era5 = xr.open_dataset('../data/danube/era5_danube_pressure_and_single_levels.nc')"
   ]
  },
  {
   "cell_type": "code",
   "execution_count": 14,
   "metadata": {},
   "outputs": [],
   "source": [
    "glofas = read_glofas_danube()"
   ]
  },
  {
   "cell_type": "code",
   "execution_count": 15,
   "metadata": {},
   "outputs": [],
   "source": [
    "glofas = glofas.isel(time=slice(0, 365*15))  # just to reduce the amount of data"
   ]
  },
  {
   "cell_type": "code",
   "execution_count": 69,
   "metadata": {},
   "outputs": [],
   "source": [
    "if 'tp' in era5:\n",
    "    era5['tp'] = era5['tp']*1000\n",
    "else:\n",
    "    era5['tp'] = (era5['cp']+era5['lsp'])*1000\n",
    "\n",
    "# no interpolation necessary\n",
    "#era5 = era5.interp(latitude=glofas.latitude,\n",
    "#                   longitude=glofas.longitude)"
   ]
  },
  {
   "cell_type": "code",
   "execution_count": 17,
   "metadata": {},
   "outputs": [],
   "source": [
    "def mkdir(d):\n",
    "    if not os.path.isdir(d):\n",
    "        os.makedirs(d)\n",
    "        \n",
    "def replace(string: str, old_new: dict):\n",
    "    for o, n in old_new.items(): \n",
    "        string = string.replace(o, str(n))\n",
    "    return string"
   ]
  },
  {
   "cell_type": "markdown",
   "metadata": {},
   "source": [
    "## prepare training data for the LocalModel\n",
    "### features = lsp, cp, reltop  (t-1)\n",
    "### target = residual discharge (t)\n"
   ]
  },
  {
   "cell_type": "code",
   "execution_count": null,
   "metadata": {},
   "outputs": [],
   "source": []
  },
  {
   "cell_type": "code",
   "execution_count": 70,
   "metadata": {},
   "outputs": [],
   "source": [
    "X = era5\n",
    "\n",
    "y = glofas['dis']  # just this variable as dataarray"
   ]
  },
  {
   "cell_type": "markdown",
   "metadata": {},
   "source": [
    "### no sub-yearly variation -> main predictor is "
   ]
  },
  {
   "cell_type": "code",
   "execution_count": 74,
   "metadata": {},
   "outputs": [
    {
     "data": {
      "text/plain": [
       "[<matplotlib.lines.Line2D at 0x7fec97c690f0>]"
      ]
     },
     "execution_count": 74,
     "metadata": {},
     "output_type": "execute_result"
    },
    {
     "data": {
      "image/png": "[encoded data removed]",
      "text/plain": [
       "<Figure size 432x288 with 1 Axes>"
      ]
     },
     "metadata": {
      "needs_background": "light"
     },
     "output_type": "display_data"
    },
    {
     "data": {
      "image/png": "[encoded data removed]",
      "text/plain": [
       "<Figure size 432x288 with 1 Axes>"
      ]
     },
     "metadata": {
      "needs_background": "light"
     },
     "output_type": "display_data"
    }
   ],
   "source": [
    "lat, lon = 48.15, 8.050000000000011\n",
    "\n",
    "ya = y.sel(latitude=lat, longitude=lon, time=slice(None, '1981'))\n",
    "ya.plot()\n",
    "\n",
    "plt.figure()\n",
    "yb = X['tp'].sel(latitude=slice(lat+1, lat-1), \n",
    "                 longitude=slice(lon-1, lon+1), \n",
    "                 time=slice(None, '1981')).mean(['latitude', 'longitude'])\n",
    "yb.plot()"
   ]
  },
  {
   "cell_type": "markdown",
   "metadata": {},
   "source": [
    "### for rgp in riverpoints:"
   ]
  },
  {
   "cell_type": "code",
   "execution_count": 19,
   "metadata": {},
   "outputs": [],
   "source": [
    "N_train = dict(time=slice(None, '1990'))\n",
    "N_valid = dict(time=slice('1990', '1995'))\n",
    "\n",
    "\n",
    "# kind, lat, lon will be replaced!\n",
    "ff_mod = '../models/flowmodel/danube/kind/point_lat_lon_flowmodel.pkl'\n",
    "ff_hist = '../models/flowmodel/danube/kind/point_lat_lon_history.png'\n",
    "ff_valid = '../models/flowmodel/danube/kind/point_lat_lon_validation.png'\n",
    "ff_upstream = '../models/flowmodel/danube/kind/point_lat_lon_upstream.png'\n",
    "\n",
    "\n",
    "#model = FlowModel('Ridge', dict(alphas=np.logspace(-3, 2, 6)))\n",
    "\n",
    "model = FlowModel('neural_net', dict(epochs=1000, \n",
    "                                     #filepath=filepath,\n",
    "                                      ))\n",
    "pipe = Pipeline([#('scaler', StandardScaler()),\n",
    "                 #('pca', PCA(n_components=6)),\n",
    "                 ('model', model),])\n"
   ]
  },
  {
   "cell_type": "code",
   "execution_count": 20,
   "metadata": {},
   "outputs": [],
   "source": [
    "syncr = dask.config.get('scheduler') == 'synchronous'"
   ]
  },
  {
   "cell_type": "code",
   "execution_count": 21,
   "metadata": {
    "scrolled": true
   },
   "outputs": [],
   "source": [
    "from joblib import Parallel, delayed\n",
    "\n",
    "@delayed\n",
    "def train_flowmodel(lat, lon):    \n",
    "    global ff_mod, ff_hist, ff_valid, ff_upstream\n",
    "    \n",
    "    f_mod = replace(ff_mod, dict(lat=lat, lon=lon, kind=model.kind))\n",
    "    if os.path.isfile(f_mod):\n",
    "        return  # dont go any further\n",
    "    \n",
    "    f_hist = replace(ff_hist, dict(lat=lat, lon=lon, kind=model.kind))\n",
    "    f_valid = replace(ff_valid, dict(lat=lat, lon=lon, kind=model.kind))\n",
    "    f_upstream = replace(ff_upstream, dict(lat=lat, lon=lon, kind=model.kind))\n",
    "\n",
    "    upstream = select_upstream(is_river, lat, lon, basin='Danube')\n",
    "    N_upstream = int(upstream.sum())\n",
    "    if syncr: print(N_upstream)\n",
    "    if N_upstream <= 5:\n",
    "        if syncr: \n",
    "            print(lats, lons, 'is spring.')\n",
    "        #mask_springs.loc[dict(latitude=lat, longitude=lon)] = 1.\n",
    "\n",
    "        #plt.imshow(mask_springs.astype(int))\n",
    "        #plt.title('springs')\n",
    "        #plt.show()\n",
    "    else:\n",
    "        if os.path.isfile(f_mod):\n",
    "            if syncr: \n",
    "                print('already trained.')\n",
    "        else:\n",
    "            if syncr:\n",
    "                print(lats, lons, 'is danube river -> train flowmodel')\n",
    "\n",
    "            try:\n",
    "                fig, ax = plt.subplots()\n",
    "                ax.imshow(upstream.astype(int))\n",
    "                plt.title(str(N_upstream)+' upstream points for '+str(lat)+' '+str(lon))\n",
    "                fig.savefig(f_upstream); plt.close('all')\n",
    "            except:\n",
    "                pass\n",
    "\n",
    "            tp_box = tp.sel(latitude=slice(lat+1.5, lat-1.5), \n",
    "                            longitude=slice(lon-1.5, lon+1.5))\n",
    "            noprecip = tp_box.mean(['longitude', 'latitude']) < 0.1\n",
    "\n",
    "            Xt = X.copy()\n",
    "            yt = y.copy()\n",
    "            \n",
    "            Xt = Xt.where(noprecip, drop=True)\n",
    "            Xt = Xt.where(upstream, drop=True)\n",
    "            yt = yt.sel(latitude=float(lat), longitude=float(lon))\n",
    "            Xda, yda, time = preprocess_reshape_flowmodel(Xt, yt)\n",
    "\n",
    "            X_train = Xda.loc[N_train] \n",
    "            y_train = yda.loc[N_train] \n",
    "            X_valid = Xda.loc[N_valid] \n",
    "            y_valid = yda.loc[N_valid] \n",
    "\n",
    "            if syncr:\n",
    "                print(X_train.shape, y_train.shape)\n",
    "                print(X_valid.shape, y_valid.shape)\n",
    "            ppipe = clone(pipe) \n",
    "            history = ppipe.fit(X_train.values, y_train.values,\n",
    "                               model__validation_data=(X_valid.values, \n",
    "                                                       y_valid.values)) \n",
    "\n",
    "            mkdir(os.path.dirname(f_mod))\n",
    "            dump(ppipe, f_mod)\n",
    "\n",
    "            try:\n",
    "                h = history.named_steps['model'].m.model.history\n",
    "\n",
    "                # Plot training & validation loss value\n",
    "                fig, ax = plt.subplots()\n",
    "                ax.plot(h.history['loss'], label='loss')\n",
    "                ax.plot(h.history['val_loss'], label='val_loss')\n",
    "                plt.title('Model loss')\n",
    "                ax.set_ylabel('Loss')\n",
    "                ax.set_xlabel('Epoch')\n",
    "                plt.legend() #['Train', 'Test'], loc='upper left')\n",
    "                ax.set_yscale('log')\n",
    "                fig.savefig(f_hist); plt.close('all')\n",
    "            except Exception as e:\n",
    "                warnings.warn(str(e))\n",
    "\n",
    "            ppipe = load(f_mod)\n",
    "            y_m = ppipe.predict(X_valid) \n",
    "\n",
    "            try:\n",
    "                fig, ax = plt.subplots(figsize=(10,4))\n",
    "                y_m.to_pandas().plot(ax=ax)\n",
    "                y_valid.name = 'reanalysis'\n",
    "                y_valid.to_pandas().plot(ax=ax)\n",
    "                plt.legend()\n",
    "                fig.savefig(f_valid); plt.close('all')\n",
    "            except Exception as e:\n",
    "                warnings.warn(str(e))\n",
    "                    "
   ]
  },
  {
   "cell_type": "code",
   "execution_count": null,
   "metadata": {
    "scrolled": false
   },
   "outputs": [],
   "source": []
  },
  {
   "cell_type": "code",
   "execution_count": 22,
   "metadata": {},
   "outputs": [
    {
     "data": {
      "image/png": "[encoded data removed]",
      "text/plain": [
       "<Figure size 432x288 with 1 Axes>"
      ]
     },
     "metadata": {
      "needs_background": "light"
     },
     "output_type": "display_data"
    },
    {
     "data": {
      "image/png": "[encoded data removed]",
      "text/plain": [
       "<Figure size 432x288 with 1 Axes>"
      ]
     },
     "metadata": {
      "needs_background": "light"
     },
     "output_type": "display_data"
    }
   ],
   "source": [
    "danube_gridpoints = get_mask_of_basin(glofas['dis'].isel(time=0), 'Danube')\n",
    "plt.imshow(danube_gridpoints.astype(int))\n",
    "plt.show()\n",
    "\n",
    "#mask_springs = glofas['dis'].isel(time=0)\n",
    "#mask_springs.values[:] = 0.\n",
    "\n",
    "dis_map_mean = glofas['dis'].mean('time')\n",
    "is_river = select_riverpoints(dis_map_mean)\n",
    "\n",
    "plt.imshow(is_river.astype(int))\n",
    "plt.title('is_river')\n",
    "plt.show()"
   ]
  },
  {
   "cell_type": "code",
   "execution_count": 23,
   "metadata": {},
   "outputs": [],
   "source": [
    "task_list = []\n",
    "\n",
    "for lon in danube_gridpoints.longitude:\n",
    "    for lat in danube_gridpoints.latitude:\n",
    "        #print(danube_gridpoints.sel(latitude=lat, longitude=lon))\n",
    "        if danube_gridpoints.sel(latitude=lat, longitude=lon) == 1:\n",
    "            lat, lon = float(lat), float(lon)\n",
    "            task_list.append(train_flowmodel(lat, lon))           "
   ]
  },
  {
   "cell_type": "code",
   "execution_count": null,
   "metadata": {
    "scrolled": true
   },
   "outputs": [],
   "source": []
  },
  {
   "cell_type": "code",
   "execution_count": 24,
   "metadata": {},
   "outputs": [
    {
     "data": {
      "text/plain": [
       "2482"
      ]
     },
     "execution_count": 24,
     "metadata": {},
     "output_type": "execute_result"
    }
   ],
   "source": [
    "len(task_list)"
   ]
  },
  {
   "cell_type": "raw",
   "metadata": {},
   "source": [
    "with ProgressBar():\n",
    "    dask.compute(task_list)"
   ]
  },
  {
   "cell_type": "code",
   "execution_count": 25,
   "metadata": {},
   "outputs": [
    {
     "name": "stderr",
     "output_type": "stream",
     "text": [
      "[Parallel(n_jobs=20)]: Using backend LokyBackend with 20 concurrent workers.\n",
      "[Parallel(n_jobs=20)]: Done   1 tasks      | elapsed:   10.4s\n",
      "[Parallel(n_jobs=20)]: Done  10 tasks      | elapsed:   10.7s\n",
      "[Parallel(n_jobs=20)]: Done  21 tasks      | elapsed:   10.9s\n",
      "[Parallel(n_jobs=20)]: Done  32 tasks      | elapsed:   11.1s\n",
      "[Parallel(n_jobs=20)]: Done  45 tasks      | elapsed:   11.4s\n",
      "[Parallel(n_jobs=20)]: Done  58 tasks      | elapsed:   11.8s\n",
      "[Parallel(n_jobs=20)]: Done  73 tasks      | elapsed:   12.0s\n",
      "[Parallel(n_jobs=20)]: Done  88 tasks      | elapsed:   12.3s\n"
     ]
    },
    {
     "ename": "KeyboardInterrupt",
     "evalue": "",
     "output_type": "error",
     "traceback": [
      "\u001b[0;31m---------------------------------------------------------------------------\u001b[0m",
      "\u001b[0;31mKeyboardInterrupt\u001b[0m                         Traceback (most recent call last)",
      "\u001b[0;32m<ipython-input-25-e7a4c278fe0d>\u001b[0m in \u001b[0;36m<module>\u001b[0;34m\u001b[0m\n\u001b[0;32m----> 1\u001b[0;31m \u001b[0mParallel\u001b[0m\u001b[0;34m(\u001b[0m\u001b[0mn_jobs\u001b[0m\u001b[0;34m=\u001b[0m\u001b[0;36m20\u001b[0m\u001b[0;34m,\u001b[0m \u001b[0mverbose\u001b[0m\u001b[0;34m=\u001b[0m\u001b[0;36m10\u001b[0m\u001b[0;34m)\u001b[0m\u001b[0;34m(\u001b[0m\u001b[0mtask_list\u001b[0m\u001b[0;34m)\u001b[0m\u001b[0;34m\u001b[0m\u001b[0;34m\u001b[0m\u001b[0m\n\u001b[0m",
      "\u001b[0;32m~/.conda/envs/ml_flood/lib/python3.7/site-packages/joblib/parallel.py\u001b[0m in \u001b[0;36m__call__\u001b[0;34m(self, iterable)\u001b[0m\n\u001b[1;32m    932\u001b[0m \u001b[0;34m\u001b[0m\u001b[0m\n\u001b[1;32m    933\u001b[0m             \u001b[0;32mwith\u001b[0m \u001b[0mself\u001b[0m\u001b[0;34m.\u001b[0m\u001b[0m_backend\u001b[0m\u001b[0;34m.\u001b[0m\u001b[0mretrieval_context\u001b[0m\u001b[0;34m(\u001b[0m\u001b[0;34m)\u001b[0m\u001b[0;34m:\u001b[0m\u001b[0;34m\u001b[0m\u001b[0;34m\u001b[0m\u001b[0m\n\u001b[0;32m--> 934\u001b[0;31m                 \u001b[0mself\u001b[0m\u001b[0;34m.\u001b[0m\u001b[0mretrieve\u001b[0m\u001b[0;34m(\u001b[0m\u001b[0;34m)\u001b[0m\u001b[0;34m\u001b[0m\u001b[0;34m\u001b[0m\u001b[0m\n\u001b[0m\u001b[1;32m    935\u001b[0m             \u001b[0;31m# Make sure that we get a last message telling us we are done\u001b[0m\u001b[0;34m\u001b[0m\u001b[0;34m\u001b[0m\u001b[0;34m\u001b[0m\u001b[0m\n\u001b[1;32m    936\u001b[0m             \u001b[0melapsed_time\u001b[0m \u001b[0;34m=\u001b[0m \u001b[0mtime\u001b[0m\u001b[0;34m.\u001b[0m\u001b[0mtime\u001b[0m\u001b[0;34m(\u001b[0m\u001b[0;34m)\u001b[0m \u001b[0;34m-\u001b[0m \u001b[0mself\u001b[0m\u001b[0;34m.\u001b[0m\u001b[0m_start_time\u001b[0m\u001b[0;34m\u001b[0m\u001b[0;34m\u001b[0m\u001b[0m\n",
      "\u001b[0;32m~/.conda/envs/ml_flood/lib/python3.7/site-packages/joblib/parallel.py\u001b[0m in \u001b[0;36mretrieve\u001b[0;34m(self)\u001b[0m\n\u001b[1;32m    831\u001b[0m             \u001b[0;32mtry\u001b[0m\u001b[0;34m:\u001b[0m\u001b[0;34m\u001b[0m\u001b[0;34m\u001b[0m\u001b[0m\n\u001b[1;32m    832\u001b[0m                 \u001b[0;32mif\u001b[0m \u001b[0mgetattr\u001b[0m\u001b[0;34m(\u001b[0m\u001b[0mself\u001b[0m\u001b[0;34m.\u001b[0m\u001b[0m_backend\u001b[0m\u001b[0;34m,\u001b[0m \u001b[0;34m'supports_timeout'\u001b[0m\u001b[0;34m,\u001b[0m \u001b[0;32mFalse\u001b[0m\u001b[0;34m)\u001b[0m\u001b[0;34m:\u001b[0m\u001b[0;34m\u001b[0m\u001b[0;34m\u001b[0m\u001b[0m\n\u001b[0;32m--> 833\u001b[0;31m                     \u001b[0mself\u001b[0m\u001b[0;34m.\u001b[0m\u001b[0m_output\u001b[0m\u001b[0;34m.\u001b[0m\u001b[0mextend\u001b[0m\u001b[0;34m(\u001b[0m\u001b[0mjob\u001b[0m\u001b[0;34m.\u001b[0m\u001b[0mget\u001b[0m\u001b[0;34m(\u001b[0m\u001b[0mtimeout\u001b[0m\u001b[0;34m=\u001b[0m\u001b[0mself\u001b[0m\u001b[0;34m.\u001b[0m\u001b[0mtimeout\u001b[0m\u001b[0;34m)\u001b[0m\u001b[0;34m)\u001b[0m\u001b[0;34m\u001b[0m\u001b[0;34m\u001b[0m\u001b[0m\n\u001b[0m\u001b[1;32m    834\u001b[0m                 \u001b[0;32melse\u001b[0m\u001b[0;34m:\u001b[0m\u001b[0;34m\u001b[0m\u001b[0;34m\u001b[0m\u001b[0m\n\u001b[1;32m    835\u001b[0m                     \u001b[0mself\u001b[0m\u001b[0;34m.\u001b[0m\u001b[0m_output\u001b[0m\u001b[0;34m.\u001b[0m\u001b[0mextend\u001b[0m\u001b[0;34m(\u001b[0m\u001b[0mjob\u001b[0m\u001b[0;34m.\u001b[0m\u001b[0mget\u001b[0m\u001b[0;34m(\u001b[0m\u001b[0;34m)\u001b[0m\u001b[0;34m)\u001b[0m\u001b[0;34m\u001b[0m\u001b[0;34m\u001b[0m\u001b[0m\n",
      "\u001b[0;32m~/.conda/envs/ml_flood/lib/python3.7/site-packages/joblib/_parallel_backends.py\u001b[0m in \u001b[0;36mwrap_future_result\u001b[0;34m(future, timeout)\u001b[0m\n\u001b[1;32m    519\u001b[0m         AsyncResults.get from multiprocessing.\"\"\"\n\u001b[1;32m    520\u001b[0m         \u001b[0;32mtry\u001b[0m\u001b[0;34m:\u001b[0m\u001b[0;34m\u001b[0m\u001b[0;34m\u001b[0m\u001b[0m\n\u001b[0;32m--> 521\u001b[0;31m             \u001b[0;32mreturn\u001b[0m \u001b[0mfuture\u001b[0m\u001b[0;34m.\u001b[0m\u001b[0mresult\u001b[0m\u001b[0;34m(\u001b[0m\u001b[0mtimeout\u001b[0m\u001b[0;34m=\u001b[0m\u001b[0mtimeout\u001b[0m\u001b[0;34m)\u001b[0m\u001b[0;34m\u001b[0m\u001b[0;34m\u001b[0m\u001b[0m\n\u001b[0m\u001b[1;32m    522\u001b[0m         \u001b[0;32mexcept\u001b[0m \u001b[0mLokyTimeoutError\u001b[0m\u001b[0;34m:\u001b[0m\u001b[0;34m\u001b[0m\u001b[0;34m\u001b[0m\u001b[0m\n\u001b[1;32m    523\u001b[0m             \u001b[0;32mraise\u001b[0m \u001b[0mTimeoutError\u001b[0m\u001b[0;34m(\u001b[0m\u001b[0;34m)\u001b[0m\u001b[0;34m\u001b[0m\u001b[0;34m\u001b[0m\u001b[0m\n",
      "\u001b[0;32m~/.conda/envs/ml_flood/lib/python3.7/concurrent/futures/_base.py\u001b[0m in \u001b[0;36mresult\u001b[0;34m(self, timeout)\u001b[0m\n\u001b[1;32m    425\u001b[0m                 \u001b[0;32mreturn\u001b[0m \u001b[0mself\u001b[0m\u001b[0;34m.\u001b[0m\u001b[0m__get_result\u001b[0m\u001b[0;34m(\u001b[0m\u001b[0;34m)\u001b[0m\u001b[0;34m\u001b[0m\u001b[0;34m\u001b[0m\u001b[0m\n\u001b[1;32m    426\u001b[0m \u001b[0;34m\u001b[0m\u001b[0m\n\u001b[0;32m--> 427\u001b[0;31m             \u001b[0mself\u001b[0m\u001b[0;34m.\u001b[0m\u001b[0m_condition\u001b[0m\u001b[0;34m.\u001b[0m\u001b[0mwait\u001b[0m\u001b[0;34m(\u001b[0m\u001b[0mtimeout\u001b[0m\u001b[0;34m)\u001b[0m\u001b[0;34m\u001b[0m\u001b[0;34m\u001b[0m\u001b[0m\n\u001b[0m\u001b[1;32m    428\u001b[0m \u001b[0;34m\u001b[0m\u001b[0m\n\u001b[1;32m    429\u001b[0m             \u001b[0;32mif\u001b[0m \u001b[0mself\u001b[0m\u001b[0;34m.\u001b[0m\u001b[0m_state\u001b[0m \u001b[0;32min\u001b[0m \u001b[0;34m[\u001b[0m\u001b[0mCANCELLED\u001b[0m\u001b[0;34m,\u001b[0m \u001b[0mCANCELLED_AND_NOTIFIED\u001b[0m\u001b[0;34m]\u001b[0m\u001b[0;34m:\u001b[0m\u001b[0;34m\u001b[0m\u001b[0;34m\u001b[0m\u001b[0m\n",
      "\u001b[0;32m~/.conda/envs/ml_flood/lib/python3.7/threading.py\u001b[0m in \u001b[0;36mwait\u001b[0;34m(self, timeout)\u001b[0m\n\u001b[1;32m    294\u001b[0m         \u001b[0;32mtry\u001b[0m\u001b[0;34m:\u001b[0m    \u001b[0;31m# restore state no matter what (e.g., KeyboardInterrupt)\u001b[0m\u001b[0;34m\u001b[0m\u001b[0;34m\u001b[0m\u001b[0m\n\u001b[1;32m    295\u001b[0m             \u001b[0;32mif\u001b[0m \u001b[0mtimeout\u001b[0m \u001b[0;32mis\u001b[0m \u001b[0;32mNone\u001b[0m\u001b[0;34m:\u001b[0m\u001b[0;34m\u001b[0m\u001b[0;34m\u001b[0m\u001b[0m\n\u001b[0;32m--> 296\u001b[0;31m                 \u001b[0mwaiter\u001b[0m\u001b[0;34m.\u001b[0m\u001b[0macquire\u001b[0m\u001b[0;34m(\u001b[0m\u001b[0;34m)\u001b[0m\u001b[0;34m\u001b[0m\u001b[0;34m\u001b[0m\u001b[0m\n\u001b[0m\u001b[1;32m    297\u001b[0m                 \u001b[0mgotit\u001b[0m \u001b[0;34m=\u001b[0m \u001b[0;32mTrue\u001b[0m\u001b[0;34m\u001b[0m\u001b[0;34m\u001b[0m\u001b[0m\n\u001b[1;32m    298\u001b[0m             \u001b[0;32melse\u001b[0m\u001b[0;34m:\u001b[0m\u001b[0;34m\u001b[0m\u001b[0;34m\u001b[0m\u001b[0m\n",
      "\u001b[0;31mKeyboardInterrupt\u001b[0m: "
     ]
    }
   ],
   "source": [
    "Parallel(n_jobs=20, verbose=10)(task_list)"
   ]
  },
  {
   "cell_type": "markdown",
   "metadata": {},
   "source": [
    "## Training PrecipModel"
   ]
  },
  {
   "cell_type": "code",
   "execution_count": null,
   "metadata": {},
   "outputs": [],
   "source": []
  },
  {
   "cell_type": "code",
   "execution_count": null,
   "metadata": {},
   "outputs": [],
   "source": []
  },
  {
   "cell_type": "code",
   "execution_count": null,
   "metadata": {
    "scrolled": false
   },
   "outputs": [],
   "source": [
    "fig, ax = plt.subplots(figsize=(24,5))\n",
    "minpred = X_train.min('features')\n",
    "maxpred = X_train.max('features')\n",
    "\n",
    "minpred.plot(ax=ax, linestyle='--', label='predictor-min')\n",
    "maxpred.plot(ax=ax, linestyle='--', label='predictor-max')\n",
    "\n",
    "\n",
    "dis[:,i,j].to_pandas().plot(ax=ax, label='dis-reanalysis')\n",
    "y_train_pred.plot(ax=ax, marker='.', lw=0)\n",
    "\n",
    "plt.legend()\n",
    "plt.gca().set_xlim(dt.datetime(1981,1,1), y_train_pred.time.values[-1]) "
   ]
  },
  {
   "cell_type": "code",
   "execution_count": null,
   "metadata": {},
   "outputs": [],
   "source": []
  },
  {
   "cell_type": "code",
   "execution_count": null,
   "metadata": {},
   "outputs": [],
   "source": []
  },
  {
   "cell_type": "code",
   "execution_count": null,
   "metadata": {},
   "outputs": [],
   "source": [
    "fig, ax = plt.subplots(figsize=(24,5))\n",
    "minpred = add_time(Xda.min(axis=1), time)\n",
    "maxpred = add_time(Xda.max(axis=1), time)\n",
    "\n",
    "minpred.plot(ax=ax, linestyle='--', label='predictor-min')\n",
    "maxpred.plot(ax=ax, linestyle='--', label='predictor-max')\n",
    "\n",
    "dis[:,i,j].to_pandas().plot(ax=ax, label='dis-reanalysis')\n",
    "y_valid_pred.plot(ax=ax, marker='.', lw=0)\n",
    "\n",
    "plt.legend()\n",
    "plt.gca().set_xlim(y_valid_pred.time.values[0], y_valid_pred.time.values[-1]) "
   ]
  },
  {
   "cell_type": "code",
   "execution_count": null,
   "metadata": {},
   "outputs": [],
   "source": []
  },
  {
   "cell_type": "markdown",
   "metadata": {},
   "source": [
    "## Verification\n",
    "\n",
    "Is the NN model better than using the max value of all predictors?"
   ]
  },
  {
   "cell_type": "code",
   "execution_count": null,
   "metadata": {},
   "outputs": [],
   "source": [
    "def to_5yr(dis):\n",
    "    return dis/glofas_rl['rl5'].sel(latitude=dis.latitude, longitude=dis.longitude)"
   ]
  },
  {
   "cell_type": "code",
   "execution_count": null,
   "metadata": {},
   "outputs": [],
   "source": [
    "((y_train_pred-y_train)/y_train*100).plot(label=)\n",
    "X_train.max('features').plot(label='max_feature')"
   ]
  },
  {
   "cell_type": "code",
   "execution_count": null,
   "metadata": {},
   "outputs": [],
   "source": []
  },
  {
   "cell_type": "code",
   "execution_count": null,
   "metadata": {},
   "outputs": [],
   "source": []
  },
  {
   "cell_type": "code",
   "execution_count": null,
   "metadata": {},
   "outputs": [],
   "source": []
  },
  {
   "cell_type": "code",
   "execution_count": null,
   "metadata": {},
   "outputs": [],
   "source": []
  },
  {
   "cell_type": "code",
   "execution_count": null,
   "metadata": {},
   "outputs": [],
   "source": []
  }
 ],
 "metadata": {
  "kernelspec": {
   "display_name": "Python 3",
   "language": "python",
   "name": "python3"
  },
  "language_info": {
   "codemirror_mode": {
    "name": "ipython",
    "version": 3
   },
   "file_extension": ".py",
   "mimetype": "text/x-python",
   "name": "python",
   "nbconvert_exporter": "python",
   "pygments_lexer": "ipython3",
   "version": "3.7.3"
  }
 },
 "nbformat": 4,
 "nbformat_minor": 2
}
